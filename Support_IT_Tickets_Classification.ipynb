{
  "cells": [
    {
      "cell_type": "code",
      "execution_count": null,
      "metadata": {
        "id": "apcyR1bEKumW"
      },
      "outputs": [],
      "source": [
        "import numpy as np\n",
        "import pandas as pd\n",
        "import matplotlib.pyplot as plt\n",
        "import seaborn as sns\n"
      ]
    },
    {
      "cell_type": "code",
      "execution_count": null,
      "metadata": {
        "id": "AlTRAKht77ne"
      },
      "outputs": [],
      "source": [
        ""
      ]
    },
    {
      "cell_type": "code",
      "execution_count": null,
      "metadata": {
        "colab": {
          "base_uri": "https://localhost:8080/"
        },
        "id": "kdxbgJOEOvA_",
        "outputId": "8619e9ad-b838-4bdb-dfaa-246aa1cbd572"
      },
      "outputs": [
        {
          "output_type": "stream",
          "name": "stdout",
          "text": [
            "Drive already mounted at /content/drive; to attempt to forcibly remount, call drive.mount(\"/content/drive\", force_remount=True).\n"
          ]
        }
      ],
      "source": [
        "from google.colab import drive\n",
        "drive.mount('/content/drive')"
      ]
    },
    {
      "cell_type": "code",
      "execution_count": null,
      "metadata": {
        "id": "COubIdMtPPV9"
      },
      "outputs": [],
      "source": [
        "df=pd.read_csv(\"/content/drive/MyDrive/NLP_Project/all_tickets.csv\")"
      ]
    },
    {
      "cell_type": "code",
      "execution_count": null,
      "metadata": {
        "colab": {
          "base_uri": "https://localhost:8080/",
          "height": 676
        },
        "id": "zAtHUkhESOiy",
        "outputId": "232f5f90-8e0e-4132-be63-fff3949adc9a"
      },
      "outputs": [
        {
          "output_type": "execute_result",
          "data": {
            "text/plain": [
              "                                                   title  \\\n",
              "470                             urgent remote connection   \n",
              "758                                    sn access problem   \n",
              "1020                                         poll change   \n",
              "2990                                restart tape library   \n",
              "3235                            interface not accessible   \n",
              "...                                                  ...   \n",
              "47832  target alarm alarm alarm changed status from y...   \n",
              "47888     server poll authentication service status down   \n",
              "48009  target par alarm alarm alarm changed status fr...   \n",
              "48215                                  controller a down   \n",
              "48284  target par backup alarm alarm alarm changed st...   \n",
              "\n",
              "                                                    body  ticket_type  \\\n",
              "470    date pm urgent remote hi please assist urgentl...            1   \n",
              "758    tuesday pm sn problem hi sd getting attached e...            1   \n",
              "1020   thursday pm poll change dear please log assign...            1   \n",
              "2990   please restart cycle tape library device after...            1   \n",
              "3235   tuesday november pm interface accessible hi gu...            1   \n",
              "...                                                  ...          ...   \n",
              "47832  original message sent monday october alarm ala...            0   \n",
              "47888  server poll authentication status down poll ou...            0   \n",
              "48009  sent friday alarm alarm alarm changed status y...            0   \n",
              "48215  sent thursday controller down hi please can yo...            0   \n",
              "48284  target par previous status status yellow alarm...            0   \n",
              "\n",
              "       category  sub_category1  sub_category2  business_service  urgency  \\\n",
              "470           8             33            107                59        3   \n",
              "758           8             30            108                56        3   \n",
              "1020          8             30              0                59        3   \n",
              "2990          8             30             95                11        3   \n",
              "3235          8             33              0                59        3   \n",
              "...         ...            ...            ...               ...      ...   \n",
              "47832         8             30              0                59        2   \n",
              "47888         8             30              0                 0        2   \n",
              "48009         8             30              0                59        2   \n",
              "48215         8             30              0                59        1   \n",
              "48284         8             30              0                11        2   \n",
              "\n",
              "       impact  \n",
              "470         4  \n",
              "758         4  \n",
              "1020        4  \n",
              "2990        4  \n",
              "3235        4  \n",
              "...       ...  \n",
              "47832       3  \n",
              "47888       2  \n",
              "48009       3  \n",
              "48215       3  \n",
              "48284       3  \n",
              "\n",
              "[239 rows x 9 columns]"
            ],
            "text/html": [
              "\n",
              "  <div id=\"df-2e29112c-8fec-452c-915f-ce333a0784ae\">\n",
              "    <div class=\"colab-df-container\">\n",
              "      <div>\n",
              "<style scoped>\n",
              "    .dataframe tbody tr th:only-of-type {\n",
              "        vertical-align: middle;\n",
              "    }\n",
              "\n",
              "    .dataframe tbody tr th {\n",
              "        vertical-align: top;\n",
              "    }\n",
              "\n",
              "    .dataframe thead th {\n",
              "        text-align: right;\n",
              "    }\n",
              "</style>\n",
              "<table border=\"1\" class=\"dataframe\">\n",
              "  <thead>\n",
              "    <tr style=\"text-align: right;\">\n",
              "      <th></th>\n",
              "      <th>title</th>\n",
              "      <th>body</th>\n",
              "      <th>ticket_type</th>\n",
              "      <th>category</th>\n",
              "      <th>sub_category1</th>\n",
              "      <th>sub_category2</th>\n",
              "      <th>business_service</th>\n",
              "      <th>urgency</th>\n",
              "      <th>impact</th>\n",
              "    </tr>\n",
              "  </thead>\n",
              "  <tbody>\n",
              "    <tr>\n",
              "      <th>470</th>\n",
              "      <td>urgent remote connection</td>\n",
              "      <td>date pm urgent remote hi please assist urgentl...</td>\n",
              "      <td>1</td>\n",
              "      <td>8</td>\n",
              "      <td>33</td>\n",
              "      <td>107</td>\n",
              "      <td>59</td>\n",
              "      <td>3</td>\n",
              "      <td>4</td>\n",
              "    </tr>\n",
              "    <tr>\n",
              "      <th>758</th>\n",
              "      <td>sn access problem</td>\n",
              "      <td>tuesday pm sn problem hi sd getting attached e...</td>\n",
              "      <td>1</td>\n",
              "      <td>8</td>\n",
              "      <td>30</td>\n",
              "      <td>108</td>\n",
              "      <td>56</td>\n",
              "      <td>3</td>\n",
              "      <td>4</td>\n",
              "    </tr>\n",
              "    <tr>\n",
              "      <th>1020</th>\n",
              "      <td>poll change</td>\n",
              "      <td>thursday pm poll change dear please log assign...</td>\n",
              "      <td>1</td>\n",
              "      <td>8</td>\n",
              "      <td>30</td>\n",
              "      <td>0</td>\n",
              "      <td>59</td>\n",
              "      <td>3</td>\n",
              "      <td>4</td>\n",
              "    </tr>\n",
              "    <tr>\n",
              "      <th>2990</th>\n",
              "      <td>restart tape library</td>\n",
              "      <td>please restart cycle tape library device after...</td>\n",
              "      <td>1</td>\n",
              "      <td>8</td>\n",
              "      <td>30</td>\n",
              "      <td>95</td>\n",
              "      <td>11</td>\n",
              "      <td>3</td>\n",
              "      <td>4</td>\n",
              "    </tr>\n",
              "    <tr>\n",
              "      <th>3235</th>\n",
              "      <td>interface not accessible</td>\n",
              "      <td>tuesday november pm interface accessible hi gu...</td>\n",
              "      <td>1</td>\n",
              "      <td>8</td>\n",
              "      <td>33</td>\n",
              "      <td>0</td>\n",
              "      <td>59</td>\n",
              "      <td>3</td>\n",
              "      <td>4</td>\n",
              "    </tr>\n",
              "    <tr>\n",
              "      <th>...</th>\n",
              "      <td>...</td>\n",
              "      <td>...</td>\n",
              "      <td>...</td>\n",
              "      <td>...</td>\n",
              "      <td>...</td>\n",
              "      <td>...</td>\n",
              "      <td>...</td>\n",
              "      <td>...</td>\n",
              "      <td>...</td>\n",
              "    </tr>\n",
              "    <tr>\n",
              "      <th>47832</th>\n",
              "      <td>target alarm alarm alarm changed status from y...</td>\n",
              "      <td>original message sent monday october alarm ala...</td>\n",
              "      <td>0</td>\n",
              "      <td>8</td>\n",
              "      <td>30</td>\n",
              "      <td>0</td>\n",
              "      <td>59</td>\n",
              "      <td>2</td>\n",
              "      <td>3</td>\n",
              "    </tr>\n",
              "    <tr>\n",
              "      <th>47888</th>\n",
              "      <td>server poll authentication service status down</td>\n",
              "      <td>server poll authentication status down poll ou...</td>\n",
              "      <td>0</td>\n",
              "      <td>8</td>\n",
              "      <td>30</td>\n",
              "      <td>0</td>\n",
              "      <td>0</td>\n",
              "      <td>2</td>\n",
              "      <td>2</td>\n",
              "    </tr>\n",
              "    <tr>\n",
              "      <th>48009</th>\n",
              "      <td>target par alarm alarm alarm changed status fr...</td>\n",
              "      <td>sent friday alarm alarm alarm changed status y...</td>\n",
              "      <td>0</td>\n",
              "      <td>8</td>\n",
              "      <td>30</td>\n",
              "      <td>0</td>\n",
              "      <td>59</td>\n",
              "      <td>2</td>\n",
              "      <td>3</td>\n",
              "    </tr>\n",
              "    <tr>\n",
              "      <th>48215</th>\n",
              "      <td>controller a down</td>\n",
              "      <td>sent thursday controller down hi please can yo...</td>\n",
              "      <td>0</td>\n",
              "      <td>8</td>\n",
              "      <td>30</td>\n",
              "      <td>0</td>\n",
              "      <td>59</td>\n",
              "      <td>1</td>\n",
              "      <td>3</td>\n",
              "    </tr>\n",
              "    <tr>\n",
              "      <th>48284</th>\n",
              "      <td>target par backup alarm alarm alarm changed st...</td>\n",
              "      <td>target par previous status status yellow alarm...</td>\n",
              "      <td>0</td>\n",
              "      <td>8</td>\n",
              "      <td>30</td>\n",
              "      <td>0</td>\n",
              "      <td>11</td>\n",
              "      <td>2</td>\n",
              "      <td>3</td>\n",
              "    </tr>\n",
              "  </tbody>\n",
              "</table>\n",
              "<p>239 rows × 9 columns</p>\n",
              "</div>\n",
              "      <button class=\"colab-df-convert\" onclick=\"convertToInteractive('df-2e29112c-8fec-452c-915f-ce333a0784ae')\"\n",
              "              title=\"Convert this dataframe to an interactive table.\"\n",
              "              style=\"display:none;\">\n",
              "        \n",
              "  <svg xmlns=\"http://www.w3.org/2000/svg\" height=\"24px\"viewBox=\"0 0 24 24\"\n",
              "       width=\"24px\">\n",
              "    <path d=\"M0 0h24v24H0V0z\" fill=\"none\"/>\n",
              "    <path d=\"M18.56 5.44l.94 2.06.94-2.06 2.06-.94-2.06-.94-.94-2.06-.94 2.06-2.06.94zm-11 1L8.5 8.5l.94-2.06 2.06-.94-2.06-.94L8.5 2.5l-.94 2.06-2.06.94zm10 10l.94 2.06.94-2.06 2.06-.94-2.06-.94-.94-2.06-.94 2.06-2.06.94z\"/><path d=\"M17.41 7.96l-1.37-1.37c-.4-.4-.92-.59-1.43-.59-.52 0-1.04.2-1.43.59L10.3 9.45l-7.72 7.72c-.78.78-.78 2.05 0 2.83L4 21.41c.39.39.9.59 1.41.59.51 0 1.02-.2 1.41-.59l7.78-7.78 2.81-2.81c.8-.78.8-2.07 0-2.86zM5.41 20L4 18.59l7.72-7.72 1.47 1.35L5.41 20z\"/>\n",
              "  </svg>\n",
              "      </button>\n",
              "      \n",
              "  <style>\n",
              "    .colab-df-container {\n",
              "      display:flex;\n",
              "      flex-wrap:wrap;\n",
              "      gap: 12px;\n",
              "    }\n",
              "\n",
              "    .colab-df-convert {\n",
              "      background-color: #E8F0FE;\n",
              "      border: none;\n",
              "      border-radius: 50%;\n",
              "      cursor: pointer;\n",
              "      display: none;\n",
              "      fill: #1967D2;\n",
              "      height: 32px;\n",
              "      padding: 0 0 0 0;\n",
              "      width: 32px;\n",
              "    }\n",
              "\n",
              "    .colab-df-convert:hover {\n",
              "      background-color: #E2EBFA;\n",
              "      box-shadow: 0px 1px 2px rgba(60, 64, 67, 0.3), 0px 1px 3px 1px rgba(60, 64, 67, 0.15);\n",
              "      fill: #174EA6;\n",
              "    }\n",
              "\n",
              "    [theme=dark] .colab-df-convert {\n",
              "      background-color: #3B4455;\n",
              "      fill: #D2E3FC;\n",
              "    }\n",
              "\n",
              "    [theme=dark] .colab-df-convert:hover {\n",
              "      background-color: #434B5C;\n",
              "      box-shadow: 0px 1px 3px 1px rgba(0, 0, 0, 0.15);\n",
              "      filter: drop-shadow(0px 1px 2px rgba(0, 0, 0, 0.3));\n",
              "      fill: #FFFFFF;\n",
              "    }\n",
              "  </style>\n",
              "\n",
              "      <script>\n",
              "        const buttonEl =\n",
              "          document.querySelector('#df-2e29112c-8fec-452c-915f-ce333a0784ae button.colab-df-convert');\n",
              "        buttonEl.style.display =\n",
              "          google.colab.kernel.accessAllowed ? 'block' : 'none';\n",
              "\n",
              "        async function convertToInteractive(key) {\n",
              "          const element = document.querySelector('#df-2e29112c-8fec-452c-915f-ce333a0784ae');\n",
              "          const dataTable =\n",
              "            await google.colab.kernel.invokeFunction('convertToInteractive',\n",
              "                                                     [key], {});\n",
              "          if (!dataTable) return;\n",
              "\n",
              "          const docLinkHtml = 'Like what you see? Visit the ' +\n",
              "            '<a target=\"_blank\" href=https://colab.research.google.com/notebooks/data_table.ipynb>data table notebook</a>'\n",
              "            + ' to learn more about interactive tables.';\n",
              "          element.innerHTML = '';\n",
              "          dataTable['output_type'] = 'display_data';\n",
              "          await google.colab.output.renderOutput(dataTable, element);\n",
              "          const docLink = document.createElement('div');\n",
              "          docLink.innerHTML = docLinkHtml;\n",
              "          element.appendChild(docLink);\n",
              "        }\n",
              "      </script>\n",
              "    </div>\n",
              "  </div>\n",
              "  "
            ]
          },
          "metadata": {},
          "execution_count": 18
        }
      ],
      "source": [
        "df[df['category']==8]"
      ]
    },
    {
      "cell_type": "code",
      "execution_count": null,
      "metadata": {
        "colab": {
          "base_uri": "https://localhost:8080/"
        },
        "id": "zWYrITNVSO3q",
        "outputId": "f492943b-4792-49e8-dba2-f1d19eb875e4"
      },
      "outputs": [
        {
          "output_type": "execute_result",
          "data": {
            "text/plain": [
              "32    8174\n",
              "36    3685\n",
              "68    3589\n",
              "67    2858\n",
              "4     2527\n",
              "      ... \n",
              "69       1\n",
              "81       1\n",
              "37       1\n",
              "17       1\n",
              "0        1\n",
              "Name: business_service, Length: 103, dtype: int64"
            ]
          },
          "metadata": {},
          "execution_count": 5
        }
      ],
      "source": [
        "df['business_service'].value_counts()"
      ]
    },
    {
      "cell_type": "code",
      "execution_count": null,
      "metadata": {
        "colab": {
          "base_uri": "https://localhost:8080/",
          "height": 351
        },
        "id": "d2WVSQzHSVYM",
        "outputId": "060e53fe-0d85-4935-becc-36fbd16d3163"
      },
      "outputs": [
        {
          "output_type": "stream",
          "name": "stderr",
          "text": [
            "/usr/local/lib/python3.7/dist-packages/seaborn/_decorators.py:43: FutureWarning: Pass the following variable as a keyword arg: x. From version 0.12, the only valid positional argument will be `data`, and passing other arguments without an explicit keyword will result in an error or misinterpretation.\n",
            "  FutureWarning\n"
          ]
        },
        {
          "output_type": "execute_result",
          "data": {
            "text/plain": [
              "<matplotlib.axes._subplots.AxesSubplot at 0x7facb62ead50>"
            ]
          },
          "metadata": {},
          "execution_count": 6
        },
        {
          "output_type": "display_data",
          "data": {
            "text/plain": [
              "<Figure size 432x288 with 1 Axes>"
            ],
            "image/png": "[encoded data removed]"
          },
          "metadata": {
            "needs_background": "light"
          }
        }
      ],
      "source": [
        "sns.countplot(df['category'])"
      ]
    },
    {
      "cell_type": "code",
      "execution_count": null,
      "metadata": {
        "colab": {
          "base_uri": "https://localhost:8080/"
        },
        "id": "JdlfYO0fR-LA",
        "outputId": "98f7f428-d48f-4d76-da64-b2bc7b6fde68"
      },
      "outputs": [
        {
          "output_type": "execute_result",
          "data": {
            "text/plain": [
              "4     34061\n",
              "5      9634\n",
              "6      2628\n",
              "7       921\n",
              "11      612\n",
              "8       239\n",
              "9       191\n",
              "3       137\n",
              "1        72\n",
              "12       45\n",
              "0         4\n",
              "2         3\n",
              "10        2\n",
              "Name: category, dtype: int64"
            ]
          },
          "metadata": {},
          "execution_count": 7
        }
      ],
      "source": [
        "df['category'].value_counts()"
      ]
    },
    {
      "cell_type": "code",
      "execution_count": null,
      "metadata": {
        "colab": {
          "base_uri": "https://localhost:8080/",
          "height": 334
        },
        "id": "6TRptZQtR_ws",
        "outputId": "44656b8f-3cf7-4f5d-f0d5-5fd2ad9aa9b2"
      },
      "outputs": [
        {
          "output_type": "stream",
          "name": "stderr",
          "text": [
            "/usr/local/lib/python3.7/dist-packages/seaborn/_decorators.py:43: FutureWarning: Pass the following variable as a keyword arg: x. From version 0.12, the only valid positional argument will be `data`, and passing other arguments without an explicit keyword will result in an error or misinterpretation.\n",
            "  FutureWarning\n"
          ]
        },
        {
          "output_type": "display_data",
          "data": {
            "text/plain": [
              "<Figure size 432x288 with 1 Axes>"
            ],
            "image/png": "[encoded data removed]"
          },
          "metadata": {
            "needs_background": "light"
          }
        }
      ],
      "source": [
        "ax = sns.countplot(df['category'], data=df)"
      ]
    },
    {
      "cell_type": "code",
      "execution_count": null,
      "metadata": {
        "id": "p45MaZzg8978"
      },
      "outputs": [],
      "source": [
        "import numpy as np\n",
        "import pandas as pd\n",
        "import re\n",
        "import nltk\n",
        "from nltk.corpus import stopwords\n",
        "from nltk.stem import PorterStemmer\n",
        "from nltk.tokenize import word_tokenize\n",
        "import warnings\n",
        "import seaborn as sns\n",
        "import matplotlib.pyplot as plt"
      ]
    },
    {
      "cell_type": "code",
      "execution_count": null,
      "metadata": {
        "colab": {
          "base_uri": "https://localhost:8080/"
        },
        "id": "-mMevTNFSiEy",
        "outputId": "ebfd174a-9c6f-4169-faad-0d284d90f455"
      },
      "outputs": [
        {
          "output_type": "stream",
          "name": "stdout",
          "text": [
            "Requirement already satisfied: numpy in /usr/local/lib/python3.7/dist-packages (1.21.5)\n",
            "Requirement already satisfied: requests in /usr/local/lib/python3.7/dist-packages (2.23.0)\n",
            "Requirement already satisfied: nlpaug in /usr/local/lib/python3.7/dist-packages (1.1.10)\n",
            "Requirement already satisfied: certifi>=2017.4.17 in /usr/local/lib/python3.7/dist-packages (from requests) (2021.10.8)\n",
            "Requirement already satisfied: chardet<4,>=3.0.2 in /usr/local/lib/python3.7/dist-packages (from requests) (3.0.4)\n",
            "Requirement already satisfied: idna<3,>=2.5 in /usr/local/lib/python3.7/dist-packages (from requests) (2.10)\n",
            "Requirement already satisfied: urllib3!=1.25.0,!=1.25.1,<1.26,>=1.21.1 in /usr/local/lib/python3.7/dist-packages (from requests) (1.24.3)\n",
            "Requirement already satisfied: pandas>=1.2.0 in /usr/local/lib/python3.7/dist-packages (from nlpaug) (1.3.5)\n",
            "Requirement already satisfied: python-dateutil>=2.7.3 in /usr/local/lib/python3.7/dist-packages (from pandas>=1.2.0->nlpaug) (2.8.2)\n",
            "Requirement already satisfied: pytz>=2017.3 in /usr/local/lib/python3.7/dist-packages (from pandas>=1.2.0->nlpaug) (2018.9)\n",
            "Requirement already satisfied: six>=1.5 in /usr/local/lib/python3.7/dist-packages (from python-dateutil>=2.7.3->pandas>=1.2.0->nlpaug) (1.15.0)\n",
            "[nltk_data] Downloading package averaged_perceptron_tagger to\n",
            "[nltk_data]     /root/nltk_data...\n",
            "[nltk_data]   Package averaged_perceptron_tagger is already up-to-\n",
            "[nltk_data]       date!\n",
            "[nltk_data] Downloading package wordnet to /root/nltk_data...\n",
            "[nltk_data]   Package wordnet is already up-to-date!\n"
          ]
        }
      ],
      "source": [
        "!pip install numpy requests nlpaug\n",
        "nltk.download('averaged_perceptron_tagger')\n",
        "nltk.download('wordnet')\n",
        "import nlpaug.augmenter.char as nac\n",
        "import nlpaug.augmenter.word as naw\n",
        "import nlpaug.augmenter.sentence as nas\n",
        "import nlpaug.flow as nafc\n",
        "\n",
        "from nlpaug.util import Action"
      ]
    },
    {
      "cell_type": "code",
      "execution_count": null,
      "metadata": {
        "colab": {
          "base_uri": "https://localhost:8080/"
        },
        "id": "NDaIISrE9CqU",
        "outputId": "c29e8004-64e9-429a-c8cc-15964e14bca9"
      },
      "outputs": [
        {
          "output_type": "stream",
          "name": "stdout",
          "text": [
            "[nltk_data] Downloading package punkt to /root/nltk_data...\n",
            "[nltk_data]   Package punkt is already up-to-date!\n",
            "[nltk_data] Downloading package stopwords to /root/nltk_data...\n",
            "[nltk_data]   Package stopwords is already up-to-date!\n"
          ]
        },
        {
          "output_type": "execute_result",
          "data": {
            "text/plain": [
              "True"
            ]
          },
          "metadata": {},
          "execution_count": 21
        }
      ],
      "source": [
        "nltk.download('punkt')\n",
        "nltk.download('stopwords')"
      ]
    },
    {
      "cell_type": "code",
      "execution_count": null,
      "metadata": {
        "colab": {
          "base_uri": "https://localhost:8080/",
          "height": 659
        },
        "id": "_ftsLYHnSs6_",
        "outputId": "35ae1bb2-ad5a-4e1a-e8cc-8f0911a403ec"
      },
      "outputs": [
        {
          "output_type": "execute_result",
          "data": {
            "text/plain": [
              "                                                  title  \\\n",
              "0                                                   NaN   \n",
              "1                                  connection with icon   \n",
              "2                                  work experience user   \n",
              "3                                requesting for meeting   \n",
              "4                 reset passwords for external accounts   \n",
              "...                                                 ...   \n",
              "48544  git space for a project issues with adding users   \n",
              "48545                                             error   \n",
              "48546                                 connection issues   \n",
              "48547                                error cube reports   \n",
              "48548                         running out on extensions   \n",
              "\n",
              "                                                    body  ticket_type  \\\n",
              "0      hi since recruiter lead permission approve req...            1   \n",
              "1      icon dear please setup icon per icon engineers...            1   \n",
              "2      work experience user hi work experience studen...            1   \n",
              "3      requesting meeting hi please help follow equip...            1   \n",
              "4      re expire days hi ask help update passwords co...            1   \n",
              "...                                                  ...          ...   \n",
              "48544  sent tuesday july re git space for hi got righ...            0   \n",
              "48545  sent july error hi guys can you help out with ...            0   \n",
              "48546  sent tuesday july connection issues hello have...            0   \n",
              "48547  sent tuesday july error hello guys have receiv...            0   \n",
              "48548  hello please be advised we running out extensi...            0   \n",
              "\n",
              "       category  sub_category1  sub_category2  business_service  urgency  \\\n",
              "0             4              2             21                71        3   \n",
              "1             6             22              7                26        3   \n",
              "2             5             13              7                32        3   \n",
              "3             5             13              7                32        3   \n",
              "4             4              2             76                 4        3   \n",
              "...         ...            ...            ...               ...      ...   \n",
              "48544         4             21              1                39        1   \n",
              "48545         4              9             41                10        2   \n",
              "48546         5             32              0                32        2   \n",
              "48547         4             21             41                35        1   \n",
              "48548         4             51             98                96        2   \n",
              "\n",
              "       impact  \n",
              "0           4  \n",
              "1           4  \n",
              "2           4  \n",
              "3           4  \n",
              "4           4  \n",
              "...       ...  \n",
              "48544       3  \n",
              "48545       3  \n",
              "48546       3  \n",
              "48547       3  \n",
              "48548       3  \n",
              "\n",
              "[48549 rows x 9 columns]"
            ],
            "text/html": [
              "\n",
              "  <div id=\"df-bf16e4b9-d3b8-4e89-a60a-e214ed73d735\">\n",
              "    <div class=\"colab-df-container\">\n",
              "      <div>\n",
              "<style scoped>\n",
              "    .dataframe tbody tr th:only-of-type {\n",
              "        vertical-align: middle;\n",
              "    }\n",
              "\n",
              "    .dataframe tbody tr th {\n",
              "        vertical-align: top;\n",
              "    }\n",
              "\n",
              "    .dataframe thead th {\n",
              "        text-align: right;\n",
              "    }\n",
              "</style>\n",
              "<table border=\"1\" class=\"dataframe\">\n",
              "  <thead>\n",
              "    <tr style=\"text-align: right;\">\n",
              "      <th></th>\n",
              "      <th>title</th>\n",
              "      <th>body</th>\n",
              "      <th>ticket_type</th>\n",
              "      <th>category</th>\n",
              "      <th>sub_category1</th>\n",
              "      <th>sub_category2</th>\n",
              "      <th>business_service</th>\n",
              "      <th>urgency</th>\n",
              "      <th>impact</th>\n",
              "    </tr>\n",
              "  </thead>\n",
              "  <tbody>\n",
              "    <tr>\n",
              "      <th>0</th>\n",
              "      <td>NaN</td>\n",
              "      <td>hi since recruiter lead permission approve req...</td>\n",
              "      <td>1</td>\n",
              "      <td>4</td>\n",
              "      <td>2</td>\n",
              "      <td>21</td>\n",
              "      <td>71</td>\n",
              "      <td>3</td>\n",
              "      <td>4</td>\n",
              "    </tr>\n",
              "    <tr>\n",
              "      <th>1</th>\n",
              "      <td>connection with icon</td>\n",
              "      <td>icon dear please setup icon per icon engineers...</td>\n",
              "      <td>1</td>\n",
              "      <td>6</td>\n",
              "      <td>22</td>\n",
              "      <td>7</td>\n",
              "      <td>26</td>\n",
              "      <td>3</td>\n",
              "      <td>4</td>\n",
              "    </tr>\n",
              "    <tr>\n",
              "      <th>2</th>\n",
              "      <td>work experience user</td>\n",
              "      <td>work experience user hi work experience studen...</td>\n",
              "      <td>1</td>\n",
              "      <td>5</td>\n",
              "      <td>13</td>\n",
              "      <td>7</td>\n",
              "      <td>32</td>\n",
              "      <td>3</td>\n",
              "      <td>4</td>\n",
              "    </tr>\n",
              "    <tr>\n",
              "      <th>3</th>\n",
              "      <td>requesting for meeting</td>\n",
              "      <td>requesting meeting hi please help follow equip...</td>\n",
              "      <td>1</td>\n",
              "      <td>5</td>\n",
              "      <td>13</td>\n",
              "      <td>7</td>\n",
              "      <td>32</td>\n",
              "      <td>3</td>\n",
              "      <td>4</td>\n",
              "    </tr>\n",
              "    <tr>\n",
              "      <th>4</th>\n",
              "      <td>reset passwords for external accounts</td>\n",
              "      <td>re expire days hi ask help update passwords co...</td>\n",
              "      <td>1</td>\n",
              "      <td>4</td>\n",
              "      <td>2</td>\n",
              "      <td>76</td>\n",
              "      <td>4</td>\n",
              "      <td>3</td>\n",
              "      <td>4</td>\n",
              "    </tr>\n",
              "    <tr>\n",
              "      <th>...</th>\n",
              "      <td>...</td>\n",
              "      <td>...</td>\n",
              "      <td>...</td>\n",
              "      <td>...</td>\n",
              "      <td>...</td>\n",
              "      <td>...</td>\n",
              "      <td>...</td>\n",
              "      <td>...</td>\n",
              "      <td>...</td>\n",
              "    </tr>\n",
              "    <tr>\n",
              "      <th>48544</th>\n",
              "      <td>git space for a project issues with adding users</td>\n",
              "      <td>sent tuesday july re git space for hi got righ...</td>\n",
              "      <td>0</td>\n",
              "      <td>4</td>\n",
              "      <td>21</td>\n",
              "      <td>1</td>\n",
              "      <td>39</td>\n",
              "      <td>1</td>\n",
              "      <td>3</td>\n",
              "    </tr>\n",
              "    <tr>\n",
              "      <th>48545</th>\n",
              "      <td>error</td>\n",
              "      <td>sent july error hi guys can you help out with ...</td>\n",
              "      <td>0</td>\n",
              "      <td>4</td>\n",
              "      <td>9</td>\n",
              "      <td>41</td>\n",
              "      <td>10</td>\n",
              "      <td>2</td>\n",
              "      <td>3</td>\n",
              "    </tr>\n",
              "    <tr>\n",
              "      <th>48546</th>\n",
              "      <td>connection issues</td>\n",
              "      <td>sent tuesday july connection issues hello have...</td>\n",
              "      <td>0</td>\n",
              "      <td>5</td>\n",
              "      <td>32</td>\n",
              "      <td>0</td>\n",
              "      <td>32</td>\n",
              "      <td>2</td>\n",
              "      <td>3</td>\n",
              "    </tr>\n",
              "    <tr>\n",
              "      <th>48547</th>\n",
              "      <td>error cube reports</td>\n",
              "      <td>sent tuesday july error hello guys have receiv...</td>\n",
              "      <td>0</td>\n",
              "      <td>4</td>\n",
              "      <td>21</td>\n",
              "      <td>41</td>\n",
              "      <td>35</td>\n",
              "      <td>1</td>\n",
              "      <td>3</td>\n",
              "    </tr>\n",
              "    <tr>\n",
              "      <th>48548</th>\n",
              "      <td>running out on extensions</td>\n",
              "      <td>hello please be advised we running out extensi...</td>\n",
              "      <td>0</td>\n",
              "      <td>4</td>\n",
              "      <td>51</td>\n",
              "      <td>98</td>\n",
              "      <td>96</td>\n",
              "      <td>2</td>\n",
              "      <td>3</td>\n",
              "    </tr>\n",
              "  </tbody>\n",
              "</table>\n",
              "<p>48549 rows × 9 columns</p>\n",
              "</div>\n",
              "      <button class=\"colab-df-convert\" onclick=\"convertToInteractive('df-bf16e4b9-d3b8-4e89-a60a-e214ed73d735')\"\n",
              "              title=\"Convert this dataframe to an interactive table.\"\n",
              "              style=\"display:none;\">\n",
              "        \n",
              "  <svg xmlns=\"http://www.w3.org/2000/svg\" height=\"24px\"viewBox=\"0 0 24 24\"\n",
              "       width=\"24px\">\n",
              "    <path d=\"M0 0h24v24H0V0z\" fill=\"none\"/>\n",
              "    <path d=\"M18.56 5.44l.94 2.06.94-2.06 2.06-.94-2.06-.94-.94-2.06-.94 2.06-2.06.94zm-11 1L8.5 8.5l.94-2.06 2.06-.94-2.06-.94L8.5 2.5l-.94 2.06-2.06.94zm10 10l.94 2.06.94-2.06 2.06-.94-2.06-.94-.94-2.06-.94 2.06-2.06.94z\"/><path d=\"M17.41 7.96l-1.37-1.37c-.4-.4-.92-.59-1.43-.59-.52 0-1.04.2-1.43.59L10.3 9.45l-7.72 7.72c-.78.78-.78 2.05 0 2.83L4 21.41c.39.39.9.59 1.41.59.51 0 1.02-.2 1.41-.59l7.78-7.78 2.81-2.81c.8-.78.8-2.07 0-2.86zM5.41 20L4 18.59l7.72-7.72 1.47 1.35L5.41 20z\"/>\n",
              "  </svg>\n",
              "      </button>\n",
              "      \n",
              "  <style>\n",
              "    .colab-df-container {\n",
              "      display:flex;\n",
              "      flex-wrap:wrap;\n",
              "      gap: 12px;\n",
              "    }\n",
              "\n",
              "    .colab-df-convert {\n",
              "      background-color: #E8F0FE;\n",
              "      border: none;\n",
              "      border-radius: 50%;\n",
              "      cursor: pointer;\n",
              "      display: none;\n",
              "      fill: #1967D2;\n",
              "      height: 32px;\n",
              "      padding: 0 0 0 0;\n",
              "      width: 32px;\n",
              "    }\n",
              "\n",
              "    .colab-df-convert:hover {\n",
              "      background-color: #E2EBFA;\n",
              "      box-shadow: 0px 1px 2px rgba(60, 64, 67, 0.3), 0px 1px 3px 1px rgba(60, 64, 67, 0.15);\n",
              "      fill: #174EA6;\n",
              "    }\n",
              "\n",
              "    [theme=dark] .colab-df-convert {\n",
              "      background-color: #3B4455;\n",
              "      fill: #D2E3FC;\n",
              "    }\n",
              "\n",
              "    [theme=dark] .colab-df-convert:hover {\n",
              "      background-color: #434B5C;\n",
              "      box-shadow: 0px 1px 3px 1px rgba(0, 0, 0, 0.15);\n",
              "      filter: drop-shadow(0px 1px 2px rgba(0, 0, 0, 0.3));\n",
              "      fill: #FFFFFF;\n",
              "    }\n",
              "  </style>\n",
              "\n",
              "      <script>\n",
              "        const buttonEl =\n",
              "          document.querySelector('#df-bf16e4b9-d3b8-4e89-a60a-e214ed73d735 button.colab-df-convert');\n",
              "        buttonEl.style.display =\n",
              "          google.colab.kernel.accessAllowed ? 'block' : 'none';\n",
              "\n",
              "        async function convertToInteractive(key) {\n",
              "          const element = document.querySelector('#df-bf16e4b9-d3b8-4e89-a60a-e214ed73d735');\n",
              "          const dataTable =\n",
              "            await google.colab.kernel.invokeFunction('convertToInteractive',\n",
              "                                                     [key], {});\n",
              "          if (!dataTable) return;\n",
              "\n",
              "          const docLinkHtml = 'Like what you see? Visit the ' +\n",
              "            '<a target=\"_blank\" href=https://colab.research.google.com/notebooks/data_table.ipynb>data table notebook</a>'\n",
              "            + ' to learn more about interactive tables.';\n",
              "          element.innerHTML = '';\n",
              "          dataTable['output_type'] = 'display_data';\n",
              "          await google.colab.output.renderOutput(dataTable, element);\n",
              "          const docLink = document.createElement('div');\n",
              "          docLink.innerHTML = docLinkHtml;\n",
              "          element.appendChild(docLink);\n",
              "        }\n",
              "      </script>\n",
              "    </div>\n",
              "  </div>\n",
              "  "
            ]
          },
          "metadata": {},
          "execution_count": 22
        }
      ],
      "source": [
        "df"
      ]
    },
    {
      "cell_type": "code",
      "execution_count": null,
      "metadata": {
        "id": "-Chx99QkR6uW"
      },
      "outputs": [],
      "source": [
        "# replace categories with minimum number of text data with 0\n",
        "df['category'].replace([7,11,8,9,3,1,12,0,2,10],0,inplace=True)"
      ]
    },
    {
      "cell_type": "code",
      "execution_count": null,
      "metadata": {
        "id": "RqqPIqrrfa6A"
      },
      "outputs": [],
      "source": [
        ""
      ]
    },
    {
      "cell_type": "code",
      "execution_count": null,
      "metadata": {
        "id": "oo7i7ltC8MyT"
      },
      "outputs": [],
      "source": [
        "def clean_message(message):\n",
        "    '''\n",
        "    Input:\n",
        "        message: a string containing a message.\n",
        "    Output:\n",
        "        messages_cleaned: a list of words containing the processed message. \n",
        "\n",
        "    '''\n",
        "    #Remove Punctuation\n",
        "    messages_cleaned = re.sub(r'[^\\w\\s]', '', message)\n",
        "    \n",
        "    #Remove Links\n",
        "    messages_cleaned = re.sub(r'https?://\\S+', '', messages_cleaned)\n",
        "    \n",
        "    #Lower Case\n",
        "    messages_cleaned = messages_cleaned.lower()\n",
        "    \n",
        "    #Tokenize\n",
        "    messages_cleaned = word_tokenize(messages_cleaned)\n",
        "    \n",
        "    #Remove Stopwords\n",
        "    stop_words_list = stopwords.words('english')\n",
        "    for token in messages_cleaned:\n",
        "        if token in stop_words_list:\n",
        "            messages_cleaned.remove(token)\n",
        "    \n",
        "    #Perform Stemming\n",
        "#     temp = messages_cleaned.copy()\n",
        "#     messages_cleaned.clear()\n",
        "#     for token in temp:\n",
        "#         messages_cleaned.append(PorterStemmer().stem(token))\n",
        "    \n",
        "    return messages_cleaned"
      ]
    },
    {
      "cell_type": "code",
      "execution_count": null,
      "metadata": {
        "id": "P_A3qQHa81JS"
      },
      "outputs": [],
      "source": [
        "df['clean_body'] = df['body'].apply(lambda row: clean_message(row))"
      ]
    },
    {
      "cell_type": "code",
      "execution_count": null,
      "metadata": {
        "id": "sipY26KISEfc"
      },
      "outputs": [],
      "source": [
        "aug = naw.SynonymAug()\n",
        "\n",
        "def augmented_data(df,category,n):\n",
        "    augmented_data=[]    \n",
        "    for index, row in df.iterrows():\n",
        "        if(row['category'] == category):\n",
        "                str1 = ' '.join(row['clean_body'])\n",
        "                d= aug.augment(str1, n)\n",
        "                for j in d:\n",
        "                    augmented_data.append(clean_message(j))\n",
        "    \n",
        "    return augmented_data\n",
        "            \n",
        "            \n",
        "m=augmented_data(df,5,2)\n",
        "n=augmented_data(df,0,10)\n",
        "o=augmented_data(df,6,10)"
      ]
    },
    {
      "cell_type": "code",
      "execution_count": null,
      "metadata": {
        "colab": {
          "base_uri": "https://localhost:8080/"
        },
        "id": "3AuuoXq6VBZc",
        "outputId": "4d57dd9b-89fb-4c66-ec07-9fbff5ce90e8"
      },
      "outputs": [
        {
          "data": {
            "text/plain": [
              "(19268, 22250, 26280)"
            ]
          },
          "execution_count": 27,
          "metadata": {},
          "output_type": "execute_result"
        }
      ],
      "source": [
        "len(m),len(n),len(o)"
      ]
    },
    {
      "cell_type": "code",
      "execution_count": null,
      "metadata": {
        "colab": {
          "base_uri": "https://localhost:8080/",
          "height": 433
        },
        "id": "CRy7SVIlUGQC",
        "outputId": "1c5646b6-d472-4b7c-a631-d25a1fb36acd"
      },
      "outputs": [
        {
          "ename": "ValueError",
          "evalue": "ignored",
          "output_type": "error",
          "traceback": [
            "\u001b[0;31m---------------------------------------------------------------------------\u001b[0m",
            "\u001b[0;31mAssertionError\u001b[0m                            Traceback (most recent call last)",
            "\u001b[0;32m/usr/local/lib/python3.7/dist-packages/pandas/core/internals/construction.py\u001b[0m in \u001b[0;36m_finalize_columns_and_data\u001b[0;34m(content, columns, dtype)\u001b[0m\n\u001b[1;32m    905\u001b[0m     \u001b[0;32mtry\u001b[0m\u001b[0;34m:\u001b[0m\u001b[0;34m\u001b[0m\u001b[0;34m\u001b[0m\u001b[0m\n\u001b[0;32m--> 906\u001b[0;31m         \u001b[0mcolumns\u001b[0m \u001b[0;34m=\u001b[0m \u001b[0m_validate_or_indexify_columns\u001b[0m\u001b[0;34m(\u001b[0m\u001b[0mcontents\u001b[0m\u001b[0;34m,\u001b[0m \u001b[0mcolumns\u001b[0m\u001b[0;34m)\u001b[0m\u001b[0;34m\u001b[0m\u001b[0;34m\u001b[0m\u001b[0m\n\u001b[0m\u001b[1;32m    907\u001b[0m     \u001b[0;32mexcept\u001b[0m \u001b[0mAssertionError\u001b[0m \u001b[0;32mas\u001b[0m \u001b[0merr\u001b[0m\u001b[0;34m:\u001b[0m\u001b[0;34m\u001b[0m\u001b[0;34m\u001b[0m\u001b[0m\n",
            "\u001b[0;32m/usr/local/lib/python3.7/dist-packages/pandas/core/internals/construction.py\u001b[0m in \u001b[0;36m_validate_or_indexify_columns\u001b[0;34m(content, columns)\u001b[0m\n\u001b[1;32m    954\u001b[0m             raise AssertionError(\n\u001b[0;32m--> 955\u001b[0;31m                 \u001b[0;34mf\"{len(columns)} columns passed, passed data had \"\u001b[0m\u001b[0;34m\u001b[0m\u001b[0;34m\u001b[0m\u001b[0m\n\u001b[0m\u001b[1;32m    956\u001b[0m                 \u001b[0;34mf\"{len(content)} columns\"\u001b[0m\u001b[0;34m\u001b[0m\u001b[0;34m\u001b[0m\u001b[0m\n",
            "\u001b[0;31mAssertionError\u001b[0m: 3 columns passed, passed data had 2 columns",
            "\nThe above exception was the direct cause of the following exception:\n",
            "\u001b[0;31mValueError\u001b[0m                                Traceback (most recent call last)",
            "\u001b[0;32m<ipython-input-49-7ed960b014ea>\u001b[0m in \u001b[0;36m<module>\u001b[0;34m()\u001b[0m\n\u001b[1;32m      8\u001b[0m \u001b[0;34m\u001b[0m\u001b[0m\n\u001b[1;32m      9\u001b[0m df_5 = pd.DataFrame(list(zip(category_5, m)),\n\u001b[0;32m---> 10\u001b[0;31m                columns =['category','body' ,'clean_body'])\n\u001b[0m\u001b[1;32m     11\u001b[0m \u001b[0;34m\u001b[0m\u001b[0m\n\u001b[1;32m     12\u001b[0m \u001b[0mcategory_6\u001b[0m\u001b[0;34m=\u001b[0m\u001b[0;34m[\u001b[0m\u001b[0;34m]\u001b[0m\u001b[0;34m\u001b[0m\u001b[0;34m\u001b[0m\u001b[0m\n",
            "\u001b[0;32m/usr/local/lib/python3.7/dist-packages/pandas/core/frame.py\u001b[0m in \u001b[0;36m__init__\u001b[0;34m(self, data, index, columns, dtype, copy)\u001b[0m\n\u001b[1;32m    698\u001b[0m                         \u001b[0mcolumns\u001b[0m\u001b[0;34m,\u001b[0m\u001b[0;34m\u001b[0m\u001b[0;34m\u001b[0m\u001b[0m\n\u001b[1;32m    699\u001b[0m                         \u001b[0mindex\u001b[0m\u001b[0;34m,\u001b[0m  \u001b[0;31m# type: ignore[arg-type]\u001b[0m\u001b[0;34m\u001b[0m\u001b[0;34m\u001b[0m\u001b[0m\n\u001b[0;32m--> 700\u001b[0;31m                         \u001b[0mdtype\u001b[0m\u001b[0;34m,\u001b[0m\u001b[0;34m\u001b[0m\u001b[0;34m\u001b[0m\u001b[0m\n\u001b[0m\u001b[1;32m    701\u001b[0m                     )\n\u001b[1;32m    702\u001b[0m                     mgr = arrays_to_mgr(\n",
            "\u001b[0;32m/usr/local/lib/python3.7/dist-packages/pandas/core/internals/construction.py\u001b[0m in \u001b[0;36mnested_data_to_arrays\u001b[0;34m(data, columns, index, dtype)\u001b[0m\n\u001b[1;32m    481\u001b[0m         \u001b[0mcolumns\u001b[0m \u001b[0;34m=\u001b[0m \u001b[0mensure_index\u001b[0m\u001b[0;34m(\u001b[0m\u001b[0mdata\u001b[0m\u001b[0;34m[\u001b[0m\u001b[0;36m0\u001b[0m\u001b[0;34m]\u001b[0m\u001b[0;34m.\u001b[0m\u001b[0m_fields\u001b[0m\u001b[0;34m)\u001b[0m\u001b[0;34m\u001b[0m\u001b[0;34m\u001b[0m\u001b[0m\n\u001b[1;32m    482\u001b[0m \u001b[0;34m\u001b[0m\u001b[0m\n\u001b[0;32m--> 483\u001b[0;31m     \u001b[0marrays\u001b[0m\u001b[0;34m,\u001b[0m \u001b[0mcolumns\u001b[0m \u001b[0;34m=\u001b[0m \u001b[0mto_arrays\u001b[0m\u001b[0;34m(\u001b[0m\u001b[0mdata\u001b[0m\u001b[0;34m,\u001b[0m \u001b[0mcolumns\u001b[0m\u001b[0;34m,\u001b[0m \u001b[0mdtype\u001b[0m\u001b[0;34m=\u001b[0m\u001b[0mdtype\u001b[0m\u001b[0;34m)\u001b[0m\u001b[0;34m\u001b[0m\u001b[0;34m\u001b[0m\u001b[0m\n\u001b[0m\u001b[1;32m    484\u001b[0m     \u001b[0mcolumns\u001b[0m \u001b[0;34m=\u001b[0m \u001b[0mensure_index\u001b[0m\u001b[0;34m(\u001b[0m\u001b[0mcolumns\u001b[0m\u001b[0;34m)\u001b[0m\u001b[0;34m\u001b[0m\u001b[0;34m\u001b[0m\u001b[0m\n\u001b[1;32m    485\u001b[0m \u001b[0;34m\u001b[0m\u001b[0m\n",
            "\u001b[0;32m/usr/local/lib/python3.7/dist-packages/pandas/core/internals/construction.py\u001b[0m in \u001b[0;36mto_arrays\u001b[0;34m(data, columns, dtype)\u001b[0m\n\u001b[1;32m    805\u001b[0m         \u001b[0marr\u001b[0m \u001b[0;34m=\u001b[0m \u001b[0m_list_to_arrays\u001b[0m\u001b[0;34m(\u001b[0m\u001b[0mdata\u001b[0m\u001b[0;34m)\u001b[0m\u001b[0;34m\u001b[0m\u001b[0;34m\u001b[0m\u001b[0m\n\u001b[1;32m    806\u001b[0m \u001b[0;34m\u001b[0m\u001b[0m\n\u001b[0;32m--> 807\u001b[0;31m     \u001b[0mcontent\u001b[0m\u001b[0;34m,\u001b[0m \u001b[0mcolumns\u001b[0m \u001b[0;34m=\u001b[0m \u001b[0m_finalize_columns_and_data\u001b[0m\u001b[0;34m(\u001b[0m\u001b[0marr\u001b[0m\u001b[0;34m,\u001b[0m \u001b[0mcolumns\u001b[0m\u001b[0;34m,\u001b[0m \u001b[0mdtype\u001b[0m\u001b[0;34m)\u001b[0m\u001b[0;34m\u001b[0m\u001b[0;34m\u001b[0m\u001b[0m\n\u001b[0m\u001b[1;32m    808\u001b[0m     \u001b[0;32mreturn\u001b[0m \u001b[0mcontent\u001b[0m\u001b[0;34m,\u001b[0m \u001b[0mcolumns\u001b[0m\u001b[0;34m\u001b[0m\u001b[0;34m\u001b[0m\u001b[0m\n\u001b[1;32m    809\u001b[0m \u001b[0;34m\u001b[0m\u001b[0m\n",
            "\u001b[0;32m/usr/local/lib/python3.7/dist-packages/pandas/core/internals/construction.py\u001b[0m in \u001b[0;36m_finalize_columns_and_data\u001b[0;34m(content, columns, dtype)\u001b[0m\n\u001b[1;32m    907\u001b[0m     \u001b[0;32mexcept\u001b[0m \u001b[0mAssertionError\u001b[0m \u001b[0;32mas\u001b[0m \u001b[0merr\u001b[0m\u001b[0;34m:\u001b[0m\u001b[0;34m\u001b[0m\u001b[0;34m\u001b[0m\u001b[0m\n\u001b[1;32m    908\u001b[0m         \u001b[0;31m# GH#26429 do not raise user-facing AssertionError\u001b[0m\u001b[0;34m\u001b[0m\u001b[0;34m\u001b[0m\u001b[0;34m\u001b[0m\u001b[0m\n\u001b[0;32m--> 909\u001b[0;31m         \u001b[0;32mraise\u001b[0m \u001b[0mValueError\u001b[0m\u001b[0;34m(\u001b[0m\u001b[0merr\u001b[0m\u001b[0;34m)\u001b[0m \u001b[0;32mfrom\u001b[0m \u001b[0merr\u001b[0m\u001b[0;34m\u001b[0m\u001b[0;34m\u001b[0m\u001b[0m\n\u001b[0m\u001b[1;32m    910\u001b[0m \u001b[0;34m\u001b[0m\u001b[0m\n\u001b[1;32m    911\u001b[0m     \u001b[0;32mif\u001b[0m \u001b[0mlen\u001b[0m\u001b[0;34m(\u001b[0m\u001b[0mcontents\u001b[0m\u001b[0;34m)\u001b[0m \u001b[0;32mand\u001b[0m \u001b[0mcontents\u001b[0m\u001b[0;34m[\u001b[0m\u001b[0;36m0\u001b[0m\u001b[0;34m]\u001b[0m\u001b[0;34m.\u001b[0m\u001b[0mdtype\u001b[0m \u001b[0;34m==\u001b[0m \u001b[0mnp\u001b[0m\u001b[0;34m.\u001b[0m\u001b[0mobject_\u001b[0m\u001b[0;34m:\u001b[0m\u001b[0;34m\u001b[0m\u001b[0;34m\u001b[0m\u001b[0m\n",
            "\u001b[0;31mValueError\u001b[0m: 3 columns passed, passed data had 2 columns"
          ]
        }
      ],
      "source": [
        "new=df.iloc[:,1:]\n",
        "\n",
        "category_5=[]\n",
        "\n",
        "for i in range(0,len(m)):\n",
        "    category_5.append(5)\n",
        "\n",
        "\n",
        "df_5 = pd.DataFrame(list(zip(category_5, m)),\n",
        "               columns =['category' ,'clean_body'])\n",
        " \n",
        "category_6=[]\n",
        "for i in range(0,len(o)):\n",
        "    category_6.append(6)\n",
        "\n",
        "df_6 = pd.DataFrame(list(zip(category_6, o)),\n",
        "               columns =['category', 'clean_body'])\n",
        "\n",
        "category_0=[]\n",
        "for i in range(0,len(n)):\n",
        "    category_0.append(0)\n",
        "\n",
        "df_0 = pd.DataFrame(list(zip(category_0, n)),\n",
        "               columns =['category', 'body', 'clean_body'])\n"
      ]
    },
    {
      "cell_type": "code",
      "execution_count": null,
      "metadata": {
        "id": "PDu4UKmXUMq4"
      },
      "outputs": [],
      "source": [
        "frames = [new,df_5,df_6,df_0]\n",
        "result = pd.concat(frames)"
      ]
    },
    {
      "cell_type": "code",
      "execution_count": null,
      "metadata": {
        "colab": {
          "base_uri": "https://localhost:8080/",
          "height": 423
        },
        "id": "tOi0H3Q_bbOV",
        "outputId": "e7b457b1-8745-4057-afef-bb9698bc4eaf"
      },
      "outputs": [
        {
          "data": {
            "text/html": [
              "\n",
              "  <div id=\"df-f390eb54-b8eb-45a6-b754-85eb415348dc\">\n",
              "    <div class=\"colab-df-container\">\n",
              "      <div>\n",
              "<style scoped>\n",
              "    .dataframe tbody tr th:only-of-type {\n",
              "        vertical-align: middle;\n",
              "    }\n",
              "\n",
              "    .dataframe tbody tr th {\n",
              "        vertical-align: top;\n",
              "    }\n",
              "\n",
              "    .dataframe thead th {\n",
              "        text-align: right;\n",
              "    }\n",
              "</style>\n",
              "<table border=\"1\" class=\"dataframe\">\n",
              "  <thead>\n",
              "    <tr style=\"text-align: right;\">\n",
              "      <th></th>\n",
              "      <th>category</th>\n",
              "      <th>clean_body</th>\n",
              "    </tr>\n",
              "  </thead>\n",
              "  <tbody>\n",
              "    <tr>\n",
              "      <th>0</th>\n",
              "      <td>0</td>\n",
              "      <td>[badge, removed, dear, please, badge, since, w...</td>\n",
              "    </tr>\n",
              "    <tr>\n",
              "      <th>1</th>\n",
              "      <td>0</td>\n",
              "      <td>[badge, take, dear, please, badge, since, work...</td>\n",
              "    </tr>\n",
              "    <tr>\n",
              "      <th>2</th>\n",
              "      <td>0</td>\n",
              "      <td>[badge, removed, dear, please, badge, since, o...</td>\n",
              "    </tr>\n",
              "    <tr>\n",
              "      <th>3</th>\n",
              "      <td>0</td>\n",
              "      <td>[badge, removed, pricey, please, badge, since,...</td>\n",
              "    </tr>\n",
              "    <tr>\n",
              "      <th>4</th>\n",
              "      <td>0</td>\n",
              "      <td>[badge, removed, dear, please, badge, since, w...</td>\n",
              "    </tr>\n",
              "    <tr>\n",
              "      <th>...</th>\n",
              "      <td>...</td>\n",
              "      <td>...</td>\n",
              "    </tr>\n",
              "    <tr>\n",
              "      <th>22245</th>\n",
              "      <td>0</td>\n",
              "      <td>[sent, wed, july, sensitive, information, acce...</td>\n",
              "    </tr>\n",
              "    <tr>\n",
              "      <th>22246</th>\n",
              "      <td>0</td>\n",
              "      <td>[sent, wednesday, july, sensitive, information...</td>\n",
              "    </tr>\n",
              "    <tr>\n",
              "      <th>22247</th>\n",
              "      <td>0</td>\n",
              "      <td>[sent, midweek, july, sensitive, information, ...</td>\n",
              "    </tr>\n",
              "    <tr>\n",
              "      <th>22248</th>\n",
              "      <td>0</td>\n",
              "      <td>[sent, wednesday, july, sensitive, information...</td>\n",
              "    </tr>\n",
              "    <tr>\n",
              "      <th>22249</th>\n",
              "      <td>0</td>\n",
              "      <td>[sent, wednesday, july, sensitive, info, acces...</td>\n",
              "    </tr>\n",
              "  </tbody>\n",
              "</table>\n",
              "<p>22250 rows × 2 columns</p>\n",
              "</div>\n",
              "      <button class=\"colab-df-convert\" onclick=\"convertToInteractive('df-f390eb54-b8eb-45a6-b754-85eb415348dc')\"\n",
              "              title=\"Convert this dataframe to an interactive table.\"\n",
              "              style=\"display:none;\">\n",
              "        \n",
              "  <svg xmlns=\"http://www.w3.org/2000/svg\" height=\"24px\"viewBox=\"0 0 24 24\"\n",
              "       width=\"24px\">\n",
              "    <path d=\"M0 0h24v24H0V0z\" fill=\"none\"/>\n",
              "    <path d=\"M18.56 5.44l.94 2.06.94-2.06 2.06-.94-2.06-.94-.94-2.06-.94 2.06-2.06.94zm-11 1L8.5 8.5l.94-2.06 2.06-.94-2.06-.94L8.5 2.5l-.94 2.06-2.06.94zm10 10l.94 2.06.94-2.06 2.06-.94-2.06-.94-.94-2.06-.94 2.06-2.06.94z\"/><path d=\"M17.41 7.96l-1.37-1.37c-.4-.4-.92-.59-1.43-.59-.52 0-1.04.2-1.43.59L10.3 9.45l-7.72 7.72c-.78.78-.78 2.05 0 2.83L4 21.41c.39.39.9.59 1.41.59.51 0 1.02-.2 1.41-.59l7.78-7.78 2.81-2.81c.8-.78.8-2.07 0-2.86zM5.41 20L4 18.59l7.72-7.72 1.47 1.35L5.41 20z\"/>\n",
              "  </svg>\n",
              "      </button>\n",
              "      \n",
              "  <style>\n",
              "    .colab-df-container {\n",
              "      display:flex;\n",
              "      flex-wrap:wrap;\n",
              "      gap: 12px;\n",
              "    }\n",
              "\n",
              "    .colab-df-convert {\n",
              "      background-color: #E8F0FE;\n",
              "      border: none;\n",
              "      border-radius: 50%;\n",
              "      cursor: pointer;\n",
              "      display: none;\n",
              "      fill: #1967D2;\n",
              "      height: 32px;\n",
              "      padding: 0 0 0 0;\n",
              "      width: 32px;\n",
              "    }\n",
              "\n",
              "    .colab-df-convert:hover {\n",
              "      background-color: #E2EBFA;\n",
              "      box-shadow: 0px 1px 2px rgba(60, 64, 67, 0.3), 0px 1px 3px 1px rgba(60, 64, 67, 0.15);\n",
              "      fill: #174EA6;\n",
              "    }\n",
              "\n",
              "    [theme=dark] .colab-df-convert {\n",
              "      background-color: #3B4455;\n",
              "      fill: #D2E3FC;\n",
              "    }\n",
              "\n",
              "    [theme=dark] .colab-df-convert:hover {\n",
              "      background-color: #434B5C;\n",
              "      box-shadow: 0px 1px 3px 1px rgba(0, 0, 0, 0.15);\n",
              "      filter: drop-shadow(0px 1px 2px rgba(0, 0, 0, 0.3));\n",
              "      fill: #FFFFFF;\n",
              "    }\n",
              "  </style>\n",
              "\n",
              "      <script>\n",
              "        const buttonEl =\n",
              "          document.querySelector('#df-f390eb54-b8eb-45a6-b754-85eb415348dc button.colab-df-convert');\n",
              "        buttonEl.style.display =\n",
              "          google.colab.kernel.accessAllowed ? 'block' : 'none';\n",
              "\n",
              "        async function convertToInteractive(key) {\n",
              "          const element = document.querySelector('#df-f390eb54-b8eb-45a6-b754-85eb415348dc');\n",
              "          const dataTable =\n",
              "            await google.colab.kernel.invokeFunction('convertToInteractive',\n",
              "                                                     [key], {});\n",
              "          if (!dataTable) return;\n",
              "\n",
              "          const docLinkHtml = 'Like what you see? Visit the ' +\n",
              "            '<a target=\"_blank\" href=https://colab.research.google.com/notebooks/data_table.ipynb>data table notebook</a>'\n",
              "            + ' to learn more about interactive tables.';\n",
              "          element.innerHTML = '';\n",
              "          dataTable['output_type'] = 'display_data';\n",
              "          await google.colab.output.renderOutput(dataTable, element);\n",
              "          const docLink = document.createElement('div');\n",
              "          docLink.innerHTML = docLinkHtml;\n",
              "          element.appendChild(docLink);\n",
              "        }\n",
              "      </script>\n",
              "    </div>\n",
              "  </div>\n",
              "  "
            ],
            "text/plain": [
              "       category                                         clean_body\n",
              "0             0  [badge, removed, dear, please, badge, since, w...\n",
              "1             0  [badge, take, dear, please, badge, since, work...\n",
              "2             0  [badge, removed, dear, please, badge, since, o...\n",
              "3             0  [badge, removed, pricey, please, badge, since,...\n",
              "4             0  [badge, removed, dear, please, badge, since, w...\n",
              "...         ...                                                ...\n",
              "22245         0  [sent, wed, july, sensitive, information, acce...\n",
              "22246         0  [sent, wednesday, july, sensitive, information...\n",
              "22247         0  [sent, midweek, july, sensitive, information, ...\n",
              "22248         0  [sent, wednesday, july, sensitive, information...\n",
              "22249         0  [sent, wednesday, july, sensitive, info, acces...\n",
              "\n",
              "[22250 rows x 2 columns]"
            ]
          },
          "execution_count": 48,
          "metadata": {},
          "output_type": "execute_result"
        }
      ],
      "source": [
        "df_0"
      ]
    },
    {
      "cell_type": "code",
      "execution_count": null,
      "metadata": {
        "colab": {
          "base_uri": "https://localhost:8080/",
          "height": 467
        },
        "id": "PRcy9D8UUQcr",
        "outputId": "59d40aca-3a45-4b18-86aa-3962e99e9dc0"
      },
      "outputs": [
        {
          "data": {
            "text/html": [
              "\n",
              "  <div id=\"df-a798c790-21a7-4655-92ba-ba97df8fffd3\">\n",
              "    <div class=\"colab-df-container\">\n",
              "      <div>\n",
              "<style scoped>\n",
              "    .dataframe tbody tr th:only-of-type {\n",
              "        vertical-align: middle;\n",
              "    }\n",
              "\n",
              "    .dataframe tbody tr th {\n",
              "        vertical-align: top;\n",
              "    }\n",
              "\n",
              "    .dataframe thead th {\n",
              "        text-align: right;\n",
              "    }\n",
              "</style>\n",
              "<table border=\"1\" class=\"dataframe\">\n",
              "  <thead>\n",
              "    <tr style=\"text-align: right;\">\n",
              "      <th></th>\n",
              "      <th>body</th>\n",
              "      <th>ticket_type</th>\n",
              "      <th>category</th>\n",
              "      <th>sub_category1</th>\n",
              "      <th>sub_category2</th>\n",
              "      <th>business_service</th>\n",
              "      <th>urgency</th>\n",
              "      <th>impact</th>\n",
              "      <th>clean_body</th>\n",
              "    </tr>\n",
              "  </thead>\n",
              "  <tbody>\n",
              "    <tr>\n",
              "      <th>0</th>\n",
              "      <td>hi since recruiter lead permission approve req...</td>\n",
              "      <td>1.0</td>\n",
              "      <td>4</td>\n",
              "      <td>2.0</td>\n",
              "      <td>21.0</td>\n",
              "      <td>71.0</td>\n",
              "      <td>3.0</td>\n",
              "      <td>4.0</td>\n",
              "      <td>[hi, since, recruiter, lead, permission, appro...</td>\n",
              "    </tr>\n",
              "    <tr>\n",
              "      <th>1</th>\n",
              "      <td>icon dear please setup icon per icon engineers...</td>\n",
              "      <td>1.0</td>\n",
              "      <td>6</td>\n",
              "      <td>22.0</td>\n",
              "      <td>7.0</td>\n",
              "      <td>26.0</td>\n",
              "      <td>3.0</td>\n",
              "      <td>4.0</td>\n",
              "      <td>[icon, dear, please, setup, icon, per, icon, e...</td>\n",
              "    </tr>\n",
              "    <tr>\n",
              "      <th>2</th>\n",
              "      <td>work experience user hi work experience studen...</td>\n",
              "      <td>1.0</td>\n",
              "      <td>5</td>\n",
              "      <td>13.0</td>\n",
              "      <td>7.0</td>\n",
              "      <td>32.0</td>\n",
              "      <td>3.0</td>\n",
              "      <td>4.0</td>\n",
              "      <td>[work, experience, user, hi, work, experience,...</td>\n",
              "    </tr>\n",
              "    <tr>\n",
              "      <th>3</th>\n",
              "      <td>requesting meeting hi please help follow equip...</td>\n",
              "      <td>1.0</td>\n",
              "      <td>5</td>\n",
              "      <td>13.0</td>\n",
              "      <td>7.0</td>\n",
              "      <td>32.0</td>\n",
              "      <td>3.0</td>\n",
              "      <td>4.0</td>\n",
              "      <td>[requesting, meeting, hi, please, help, follow...</td>\n",
              "    </tr>\n",
              "    <tr>\n",
              "      <th>4</th>\n",
              "      <td>re expire days hi ask help update passwords co...</td>\n",
              "      <td>1.0</td>\n",
              "      <td>4</td>\n",
              "      <td>2.0</td>\n",
              "      <td>76.0</td>\n",
              "      <td>4.0</td>\n",
              "      <td>3.0</td>\n",
              "      <td>4.0</td>\n",
              "      <td>[expire, days, hi, ask, help, update, password...</td>\n",
              "    </tr>\n",
              "    <tr>\n",
              "      <th>...</th>\n",
              "      <td>...</td>\n",
              "      <td>...</td>\n",
              "      <td>...</td>\n",
              "      <td>...</td>\n",
              "      <td>...</td>\n",
              "      <td>...</td>\n",
              "      <td>...</td>\n",
              "      <td>...</td>\n",
              "      <td>...</td>\n",
              "    </tr>\n",
              "    <tr>\n",
              "      <th>22245</th>\n",
              "      <td>NaN</td>\n",
              "      <td>NaN</td>\n",
              "      <td>0</td>\n",
              "      <td>NaN</td>\n",
              "      <td>NaN</td>\n",
              "      <td>NaN</td>\n",
              "      <td>NaN</td>\n",
              "      <td>NaN</td>\n",
              "      <td>[sent, wed, july, sensitive, information, acce...</td>\n",
              "    </tr>\n",
              "    <tr>\n",
              "      <th>22246</th>\n",
              "      <td>NaN</td>\n",
              "      <td>NaN</td>\n",
              "      <td>0</td>\n",
              "      <td>NaN</td>\n",
              "      <td>NaN</td>\n",
              "      <td>NaN</td>\n",
              "      <td>NaN</td>\n",
              "      <td>NaN</td>\n",
              "      <td>[sent, wednesday, july, sensitive, information...</td>\n",
              "    </tr>\n",
              "    <tr>\n",
              "      <th>22247</th>\n",
              "      <td>NaN</td>\n",
              "      <td>NaN</td>\n",
              "      <td>0</td>\n",
              "      <td>NaN</td>\n",
              "      <td>NaN</td>\n",
              "      <td>NaN</td>\n",
              "      <td>NaN</td>\n",
              "      <td>NaN</td>\n",
              "      <td>[sent, midweek, july, sensitive, information, ...</td>\n",
              "    </tr>\n",
              "    <tr>\n",
              "      <th>22248</th>\n",
              "      <td>NaN</td>\n",
              "      <td>NaN</td>\n",
              "      <td>0</td>\n",
              "      <td>NaN</td>\n",
              "      <td>NaN</td>\n",
              "      <td>NaN</td>\n",
              "      <td>NaN</td>\n",
              "      <td>NaN</td>\n",
              "      <td>[sent, wednesday, july, sensitive, information...</td>\n",
              "    </tr>\n",
              "    <tr>\n",
              "      <th>22249</th>\n",
              "      <td>NaN</td>\n",
              "      <td>NaN</td>\n",
              "      <td>0</td>\n",
              "      <td>NaN</td>\n",
              "      <td>NaN</td>\n",
              "      <td>NaN</td>\n",
              "      <td>NaN</td>\n",
              "      <td>NaN</td>\n",
              "      <td>[sent, wednesday, july, sensitive, info, acces...</td>\n",
              "    </tr>\n",
              "  </tbody>\n",
              "</table>\n",
              "<p>116347 rows × 9 columns</p>\n",
              "</div>\n",
              "      <button class=\"colab-df-convert\" onclick=\"convertToInteractive('df-a798c790-21a7-4655-92ba-ba97df8fffd3')\"\n",
              "              title=\"Convert this dataframe to an interactive table.\"\n",
              "              style=\"display:none;\">\n",
              "        \n",
              "  <svg xmlns=\"http://www.w3.org/2000/svg\" height=\"24px\"viewBox=\"0 0 24 24\"\n",
              "       width=\"24px\">\n",
              "    <path d=\"M0 0h24v24H0V0z\" fill=\"none\"/>\n",
              "    <path d=\"M18.56 5.44l.94 2.06.94-2.06 2.06-.94-2.06-.94-.94-2.06-.94 2.06-2.06.94zm-11 1L8.5 8.5l.94-2.06 2.06-.94-2.06-.94L8.5 2.5l-.94 2.06-2.06.94zm10 10l.94 2.06.94-2.06 2.06-.94-2.06-.94-.94-2.06-.94 2.06-2.06.94z\"/><path d=\"M17.41 7.96l-1.37-1.37c-.4-.4-.92-.59-1.43-.59-.52 0-1.04.2-1.43.59L10.3 9.45l-7.72 7.72c-.78.78-.78 2.05 0 2.83L4 21.41c.39.39.9.59 1.41.59.51 0 1.02-.2 1.41-.59l7.78-7.78 2.81-2.81c.8-.78.8-2.07 0-2.86zM5.41 20L4 18.59l7.72-7.72 1.47 1.35L5.41 20z\"/>\n",
              "  </svg>\n",
              "      </button>\n",
              "      \n",
              "  <style>\n",
              "    .colab-df-container {\n",
              "      display:flex;\n",
              "      flex-wrap:wrap;\n",
              "      gap: 12px;\n",
              "    }\n",
              "\n",
              "    .colab-df-convert {\n",
              "      background-color: #E8F0FE;\n",
              "      border: none;\n",
              "      border-radius: 50%;\n",
              "      cursor: pointer;\n",
              "      display: none;\n",
              "      fill: #1967D2;\n",
              "      height: 32px;\n",
              "      padding: 0 0 0 0;\n",
              "      width: 32px;\n",
              "    }\n",
              "\n",
              "    .colab-df-convert:hover {\n",
              "      background-color: #E2EBFA;\n",
              "      box-shadow: 0px 1px 2px rgba(60, 64, 67, 0.3), 0px 1px 3px 1px rgba(60, 64, 67, 0.15);\n",
              "      fill: #174EA6;\n",
              "    }\n",
              "\n",
              "    [theme=dark] .colab-df-convert {\n",
              "      background-color: #3B4455;\n",
              "      fill: #D2E3FC;\n",
              "    }\n",
              "\n",
              "    [theme=dark] .colab-df-convert:hover {\n",
              "      background-color: #434B5C;\n",
              "      box-shadow: 0px 1px 3px 1px rgba(0, 0, 0, 0.15);\n",
              "      filter: drop-shadow(0px 1px 2px rgba(0, 0, 0, 0.3));\n",
              "      fill: #FFFFFF;\n",
              "    }\n",
              "  </style>\n",
              "\n",
              "      <script>\n",
              "        const buttonEl =\n",
              "          document.querySelector('#df-a798c790-21a7-4655-92ba-ba97df8fffd3 button.colab-df-convert');\n",
              "        buttonEl.style.display =\n",
              "          google.colab.kernel.accessAllowed ? 'block' : 'none';\n",
              "\n",
              "        async function convertToInteractive(key) {\n",
              "          const element = document.querySelector('#df-a798c790-21a7-4655-92ba-ba97df8fffd3');\n",
              "          const dataTable =\n",
              "            await google.colab.kernel.invokeFunction('convertToInteractive',\n",
              "                                                     [key], {});\n",
              "          if (!dataTable) return;\n",
              "\n",
              "          const docLinkHtml = 'Like what you see? Visit the ' +\n",
              "            '<a target=\"_blank\" href=https://colab.research.google.com/notebooks/data_table.ipynb>data table notebook</a>'\n",
              "            + ' to learn more about interactive tables.';\n",
              "          element.innerHTML = '';\n",
              "          dataTable['output_type'] = 'display_data';\n",
              "          await google.colab.output.renderOutput(dataTable, element);\n",
              "          const docLink = document.createElement('div');\n",
              "          docLink.innerHTML = docLinkHtml;\n",
              "          element.appendChild(docLink);\n",
              "        }\n",
              "      </script>\n",
              "    </div>\n",
              "  </div>\n",
              "  "
            ],
            "text/plain": [
              "                                                    body  ticket_type  \\\n",
              "0      hi since recruiter lead permission approve req...          1.0   \n",
              "1      icon dear please setup icon per icon engineers...          1.0   \n",
              "2      work experience user hi work experience studen...          1.0   \n",
              "3      requesting meeting hi please help follow equip...          1.0   \n",
              "4      re expire days hi ask help update passwords co...          1.0   \n",
              "...                                                  ...          ...   \n",
              "22245                                                NaN          NaN   \n",
              "22246                                                NaN          NaN   \n",
              "22247                                                NaN          NaN   \n",
              "22248                                                NaN          NaN   \n",
              "22249                                                NaN          NaN   \n",
              "\n",
              "       category  sub_category1  sub_category2  business_service  urgency  \\\n",
              "0             4            2.0           21.0              71.0      3.0   \n",
              "1             6           22.0            7.0              26.0      3.0   \n",
              "2             5           13.0            7.0              32.0      3.0   \n",
              "3             5           13.0            7.0              32.0      3.0   \n",
              "4             4            2.0           76.0               4.0      3.0   \n",
              "...         ...            ...            ...               ...      ...   \n",
              "22245         0            NaN            NaN               NaN      NaN   \n",
              "22246         0            NaN            NaN               NaN      NaN   \n",
              "22247         0            NaN            NaN               NaN      NaN   \n",
              "22248         0            NaN            NaN               NaN      NaN   \n",
              "22249         0            NaN            NaN               NaN      NaN   \n",
              "\n",
              "       impact                                         clean_body  \n",
              "0         4.0  [hi, since, recruiter, lead, permission, appro...  \n",
              "1         4.0  [icon, dear, please, setup, icon, per, icon, e...  \n",
              "2         4.0  [work, experience, user, hi, work, experience,...  \n",
              "3         4.0  [requesting, meeting, hi, please, help, follow...  \n",
              "4         4.0  [expire, days, hi, ask, help, update, password...  \n",
              "...       ...                                                ...  \n",
              "22245     NaN  [sent, wed, july, sensitive, information, acce...  \n",
              "22246     NaN  [sent, wednesday, july, sensitive, information...  \n",
              "22247     NaN  [sent, midweek, july, sensitive, information, ...  \n",
              "22248     NaN  [sent, wednesday, july, sensitive, information...  \n",
              "22249     NaN  [sent, wednesday, july, sensitive, info, acces...  \n",
              "\n",
              "[116347 rows x 9 columns]"
            ]
          },
          "execution_count": 25,
          "metadata": {},
          "output_type": "execute_result"
        }
      ],
      "source": [
        "result"
      ]
    },
    {
      "cell_type": "code",
      "execution_count": null,
      "metadata": {
        "colab": {
          "base_uri": "https://localhost:8080/",
          "height": 351
        },
        "id": "5iJ5lKdoVLgA",
        "outputId": "d56fc9a3-fd96-46ee-9bad-62377f10eed4"
      },
      "outputs": [
        {
          "name": "stderr",
          "output_type": "stream",
          "text": [
            "/usr/local/lib/python3.7/dist-packages/seaborn/_decorators.py:43: FutureWarning: Pass the following variable as a keyword arg: x. From version 0.12, the only valid positional argument will be `data`, and passing other arguments without an explicit keyword will result in an error or misinterpretation.\n",
            "  FutureWarning\n"
          ]
        },
        {
          "data": {
            "text/plain": [
              "<matplotlib.axes._subplots.AxesSubplot at 0x7fe7b93f7990>"
            ]
          },
          "execution_count": 29,
          "metadata": {},
          "output_type": "execute_result"
        },
        {
          "data": {
            "image/png": "[encoded data removed]",
            "text/plain": [
              "<Figure size 432x288 with 1 Axes>"
            ]
          },
          "metadata": {},
          "output_type": "display_data"
        }
      ],
      "source": [
        "sns.countplot(result['category'])"
      ]
    },
    {
      "cell_type": "code",
      "execution_count": null,
      "metadata": {
        "id": "C6r3X9ZbVduL"
      },
      "outputs": [],
      "source": [
        ""
      ]
    },
    {
      "cell_type": "code",
      "execution_count": null,
      "metadata": {
        "id": "i_wAYcef9EYh"
      },
      "outputs": [],
      "source": [
        "def create_corpus(df):\n",
        "    corpus = []\n",
        "    for row in df:\n",
        "        for word in row:\n",
        "            if word not in corpus:\n",
        "                corpus.append(word)\n",
        "    return corpus"
      ]
    },
    {
      "cell_type": "code",
      "execution_count": null,
      "metadata": {
        "id": "l0ewNpwR9I7W"
      },
      "outputs": [],
      "source": [
        "vocab = create_corpus(result['clean_body'])"
      ]
    },
    {
      "cell_type": "code",
      "execution_count": null,
      "metadata": {
        "colab": {
          "base_uri": "https://localhost:8080/"
        },
        "id": "kN-1jSA5VvMe",
        "outputId": "be3b534c-4a90-4c39-9434-9e2aa046fda6"
      },
      "outputs": [
        {
          "data": {
            "text/plain": [
              "['hi',\n",
              " 'since',\n",
              " 'recruiter',\n",
              " 'lead',\n",
              " 'permission',\n",
              " 'approve',\n",
              " 'requisitions',\n",
              " 'makes',\n",
              " 'please',\n",
              " 'make',\n",
              " 'thanks',\n",
              " 'icon',\n",
              " 'dear',\n",
              " 'setup',\n",
              " 'per',\n",
              " 'engineers',\n",
              " 'let',\n",
              " 'details',\n",
              " 'needed',\n",
              " 'work',\n",
              " 'experience',\n",
              " 'user',\n",
              " 'student',\n",
              " 'coming',\n",
              " 'next',\n",
              " 'name',\n",
              " 'much',\n",
              " 'appreciate',\n",
              " 'duration',\n",
              " 'thank']"
            ]
          },
          "execution_count": 41,
          "metadata": {},
          "output_type": "execute_result"
        }
      ],
      "source": [
        "vocab[0:30]"
      ]
    },
    {
      "cell_type": "code",
      "execution_count": null,
      "metadata": {
        "id": "grywQ3wDVwEI"
      },
      "outputs": [],
      "source": [
        "from gensim.models import Word2Vec \n",
        "\n",
        "model = Word2Vec(vocab, min_count=2)\n",
        "model.save(\"word2vec.model\")"
      ]
    },
    {
      "cell_type": "code",
      "execution_count": null,
      "metadata": {
        "id": "U1H-1cakab1g"
      },
      "outputs": [],
      "source": [
        "model_cbow = Word2Vec(sentences=list(result['']), sg=0, min_count=10, workers=4, window =3)\n",
        "print(model_cbow)"
      ]
    },
    {
      "cell_type": "code",
      "execution_count": null,
      "metadata": {
        "id": "Q9-FiwNjYEKG"
      },
      "outputs": [],
      "source": [
        "# Gensim Libraries\n",
        "import gensim\n",
        "from gensim.models import Word2Vec,KeyedVectors\n",
        "\n",
        "# For visualization of word2vec model\n",
        "from sklearn.manifold import TSNE\n",
        "import matplotlib.pyplot as plt\n",
        "%matplotlib inline"
      ]
    },
    {
      "cell_type": "code",
      "execution_count": null,
      "metadata": {
        "colab": {
          "base_uri": "https://localhost:8080/"
        },
        "id": "n8ja-eMTYM_K",
        "outputId": "44f2adb9-f8d5-4f3e-fa1e-cb3af4645006"
      },
      "outputs": [
        {
          "data": {
            "text/plain": [
              "<gensim.models.word2vec.Word2Vec at 0x7fe7b7aaf5d0>"
            ]
          },
          "execution_count": 45,
          "metadata": {},
          "output_type": "execute_result"
        }
      ],
      "source": [
        "model"
      ]
    },
    {
      "cell_type": "code",
      "execution_count": null,
      "metadata": {
        "id": "etoF5mXygiDs"
      },
      "outputs": [],
      "source": [
        ""
      ]
    },
    {
      "cell_type": "code",
      "execution_count": null,
      "metadata": {
        "colab": {
          "base_uri": "https://localhost:8080/",
          "height": 311
        },
        "id": "bq_MQ8BSYSKt",
        "outputId": "2a971a48-279e-4a81-bb7a-e14622ccbd6c"
      },
      "outputs": [
        {
          "ename": "KeyError",
          "evalue": "ignored",
          "output_type": "error",
          "traceback": [
            "\u001b[0;31m---------------------------------------------------------------------------\u001b[0m",
            "\u001b[0;31mKeyError\u001b[0m                                  Traceback (most recent call last)",
            "\u001b[0;32m<ipython-input-47-3ebda5b6a875>\u001b[0m in \u001b[0;36m<module>\u001b[0;34m()\u001b[0m\n\u001b[0;32m----> 1\u001b[0;31m \u001b[0mmodel\u001b[0m\u001b[0;34m.\u001b[0m\u001b[0mwv\u001b[0m\u001b[0;34m.\u001b[0m\u001b[0mmost_similar\u001b[0m\u001b[0;34m(\u001b[0m\u001b[0;34m'hi'\u001b[0m\u001b[0;34m,\u001b[0m \u001b[0mtopn\u001b[0m\u001b[0;34m=\u001b[0m\u001b[0;36m10\u001b[0m\u001b[0;34m)\u001b[0m\u001b[0;34m\u001b[0m\u001b[0;34m\u001b[0m\u001b[0m\n\u001b[0m",
            "\u001b[0;32m/usr/local/lib/python3.7/dist-packages/gensim/models/keyedvectors.py\u001b[0m in \u001b[0;36mmost_similar\u001b[0;34m(self, positive, negative, topn, restrict_vocab, indexer)\u001b[0m\n\u001b[1;32m    529\u001b[0m                 \u001b[0mmean\u001b[0m\u001b[0;34m.\u001b[0m\u001b[0mappend\u001b[0m\u001b[0;34m(\u001b[0m\u001b[0mweight\u001b[0m \u001b[0;34m*\u001b[0m \u001b[0mword\u001b[0m\u001b[0;34m)\u001b[0m\u001b[0;34m\u001b[0m\u001b[0;34m\u001b[0m\u001b[0m\n\u001b[1;32m    530\u001b[0m             \u001b[0;32melse\u001b[0m\u001b[0;34m:\u001b[0m\u001b[0;34m\u001b[0m\u001b[0;34m\u001b[0m\u001b[0m\n\u001b[0;32m--> 531\u001b[0;31m                 \u001b[0mmean\u001b[0m\u001b[0;34m.\u001b[0m\u001b[0mappend\u001b[0m\u001b[0;34m(\u001b[0m\u001b[0mweight\u001b[0m \u001b[0;34m*\u001b[0m \u001b[0mself\u001b[0m\u001b[0;34m.\u001b[0m\u001b[0mword_vec\u001b[0m\u001b[0;34m(\u001b[0m\u001b[0mword\u001b[0m\u001b[0;34m,\u001b[0m \u001b[0muse_norm\u001b[0m\u001b[0;34m=\u001b[0m\u001b[0;32mTrue\u001b[0m\u001b[0;34m)\u001b[0m\u001b[0;34m)\u001b[0m\u001b[0;34m\u001b[0m\u001b[0;34m\u001b[0m\u001b[0m\n\u001b[0m\u001b[1;32m    532\u001b[0m                 \u001b[0;32mif\u001b[0m \u001b[0mword\u001b[0m \u001b[0;32min\u001b[0m \u001b[0mself\u001b[0m\u001b[0;34m.\u001b[0m\u001b[0mvocab\u001b[0m\u001b[0;34m:\u001b[0m\u001b[0;34m\u001b[0m\u001b[0;34m\u001b[0m\u001b[0m\n\u001b[1;32m    533\u001b[0m                     \u001b[0mall_words\u001b[0m\u001b[0;34m.\u001b[0m\u001b[0madd\u001b[0m\u001b[0;34m(\u001b[0m\u001b[0mself\u001b[0m\u001b[0;34m.\u001b[0m\u001b[0mvocab\u001b[0m\u001b[0;34m[\u001b[0m\u001b[0mword\u001b[0m\u001b[0;34m]\u001b[0m\u001b[0;34m.\u001b[0m\u001b[0mindex\u001b[0m\u001b[0;34m)\u001b[0m\u001b[0;34m\u001b[0m\u001b[0;34m\u001b[0m\u001b[0m\n",
            "\u001b[0;32m/usr/local/lib/python3.7/dist-packages/gensim/models/keyedvectors.py\u001b[0m in \u001b[0;36mword_vec\u001b[0;34m(self, word, use_norm)\u001b[0m\n\u001b[1;32m    450\u001b[0m             \u001b[0;32mreturn\u001b[0m \u001b[0mresult\u001b[0m\u001b[0;34m\u001b[0m\u001b[0;34m\u001b[0m\u001b[0m\n\u001b[1;32m    451\u001b[0m         \u001b[0;32melse\u001b[0m\u001b[0;34m:\u001b[0m\u001b[0;34m\u001b[0m\u001b[0;34m\u001b[0m\u001b[0m\n\u001b[0;32m--> 452\u001b[0;31m             \u001b[0;32mraise\u001b[0m \u001b[0mKeyError\u001b[0m\u001b[0;34m(\u001b[0m\u001b[0;34m\"word '%s' not in vocabulary\"\u001b[0m \u001b[0;34m%\u001b[0m \u001b[0mword\u001b[0m\u001b[0;34m)\u001b[0m\u001b[0;34m\u001b[0m\u001b[0;34m\u001b[0m\u001b[0m\n\u001b[0m\u001b[1;32m    453\u001b[0m \u001b[0;34m\u001b[0m\u001b[0m\n\u001b[1;32m    454\u001b[0m     \u001b[0;32mdef\u001b[0m \u001b[0mget_vector\u001b[0m\u001b[0;34m(\u001b[0m\u001b[0mself\u001b[0m\u001b[0;34m,\u001b[0m \u001b[0mword\u001b[0m\u001b[0;34m)\u001b[0m\u001b[0;34m:\u001b[0m\u001b[0;34m\u001b[0m\u001b[0;34m\u001b[0m\u001b[0m\n",
            "\u001b[0;31mKeyError\u001b[0m: \"word 'hi' not in vocabulary\""
          ]
        }
      ],
      "source": [
        "model.wv.most_similar('hi', topn=10)"
      ]
    },
    {
      "cell_type": "code",
      "execution_count": null,
      "metadata": {
        "id": "crquur2rZ2uK"
      },
      "outputs": [],
      "source": [
        "df0=df[df['category']==0]\n",
        "df5=df[df['category']==5]\n",
        "df6=df[df['category']==6]"
      ]
    },
    {
      "cell_type": "code",
      "execution_count": null,
      "metadata": {
        "id": "ymLea5fdh3HC"
      },
      "outputs": [],
      "source": [
        "df0=df0[['body']]\n",
        "df5=df5[['body']]\n",
        "df6=df6[['body']]"
      ]
    },
    {
      "cell_type": "code",
      "execution_count": null,
      "metadata": {
        "colab": {
          "base_uri": "https://localhost:8080/"
        },
        "id": "Gs1Zu0w5h4Id",
        "outputId": "5b302ea3-fd2b-4a09-aefb-5d10c72fdeee"
      },
      "outputs": [
        {
          "output_type": "execute_result",
          "data": {
            "text/plain": [
              "2226"
            ]
          },
          "metadata": {},
          "execution_count": 20
        }
      ],
      "source": [
        "len(df0)"
      ]
    },
    {
      "cell_type": "code",
      "execution_count": null,
      "metadata": {
        "id": "AOSL7cyfifPe"
      },
      "outputs": [],
      "source": [
        "def augment_sent(df,n,category):\n",
        "  l=list(df['body'])\n",
        "  new_l=[]\n",
        "  for i in l:\n",
        "    new_l+=aug.augment(i, n)\n",
        "  df=pd.concat([df,pd.DataFrame(new_l,columns=['body'])])\n",
        "  df['category']=category\n",
        "  return df\n",
        "\n"
      ]
    },
    {
      "cell_type": "code",
      "execution_count": null,
      "metadata": {
        "id": "xyutu346jkFX"
      },
      "outputs": [],
      "source": [
        "df0=augment_sent(df0,10,0)\n",
        "df5=augment_sent(df5,2,5)\n",
        "df6=augment_sent(df6,10,6)"
      ]
    },
    {
      "cell_type": "code",
      "execution_count": null,
      "metadata": {
        "colab": {
          "base_uri": "https://localhost:8080/",
          "height": 423
        },
        "id": "Ny7I9aQykjhA",
        "outputId": "fe3a2d2e-f67b-42d1-ed96-b25970f6a9c6"
      },
      "outputs": [
        {
          "data": {
            "text/html": [
              "\n",
              "  <div id=\"df-5e11bdeb-fb89-454f-a842-9579895fdb44\">\n",
              "    <div class=\"colab-df-container\">\n",
              "      <div>\n",
              "<style scoped>\n",
              "    .dataframe tbody tr th:only-of-type {\n",
              "        vertical-align: middle;\n",
              "    }\n",
              "\n",
              "    .dataframe tbody tr th {\n",
              "        vertical-align: top;\n",
              "    }\n",
              "\n",
              "    .dataframe thead th {\n",
              "        text-align: right;\n",
              "    }\n",
              "</style>\n",
              "<table border=\"1\" class=\"dataframe\">\n",
              "  <thead>\n",
              "    <tr style=\"text-align: right;\">\n",
              "      <th></th>\n",
              "      <th>body</th>\n",
              "      <th>category</th>\n",
              "    </tr>\n",
              "  </thead>\n",
              "  <tbody>\n",
              "    <tr>\n",
              "      <th>24</th>\n",
              "      <td>badge removed dear please badge since he worki...</td>\n",
              "      <td>0</td>\n",
              "    </tr>\n",
              "    <tr>\n",
              "      <th>34</th>\n",
              "      <td>re card va se</td>\n",
              "      <td>0</td>\n",
              "    </tr>\n",
              "    <tr>\n",
              "      <th>83</th>\n",
              "      <td>card hi guys please que activate card worker p...</td>\n",
              "      <td>0</td>\n",
              "    </tr>\n",
              "    <tr>\n",
              "      <th>125</th>\n",
              "      <td>maternity leaver form hello please fill matern...</td>\n",
              "      <td>0</td>\n",
              "    </tr>\n",
              "    <tr>\n",
              "      <th>126</th>\n",
              "      <td>update bun reg si update ave interval interval...</td>\n",
              "      <td>0</td>\n",
              "    </tr>\n",
              "    <tr>\n",
              "      <th>...</th>\n",
              "      <td>...</td>\n",
              "      <td>...</td>\n",
              "    </tr>\n",
              "    <tr>\n",
              "      <th>22255</th>\n",
              "      <td>sent wednesday july re sensitive information a...</td>\n",
              "      <td>0</td>\n",
              "    </tr>\n",
              "    <tr>\n",
              "      <th>22256</th>\n",
              "      <td>sent wednesday july re sensitive information a...</td>\n",
              "      <td>0</td>\n",
              "    </tr>\n",
              "    <tr>\n",
              "      <th>22257</th>\n",
              "      <td>sent wednesday july re sensible information ac...</td>\n",
              "      <td>0</td>\n",
              "    </tr>\n",
              "    <tr>\n",
              "      <th>22258</th>\n",
              "      <td>sent wednesday july re sensitive information a...</td>\n",
              "      <td>0</td>\n",
              "    </tr>\n",
              "    <tr>\n",
              "      <th>22259</th>\n",
              "      <td>sent wednesday july re sensitive information a...</td>\n",
              "      <td>0</td>\n",
              "    </tr>\n",
              "  </tbody>\n",
              "</table>\n",
              "<p>24486 rows × 2 columns</p>\n",
              "</div>\n",
              "      <button class=\"colab-df-convert\" onclick=\"convertToInteractive('df-5e11bdeb-fb89-454f-a842-9579895fdb44')\"\n",
              "              title=\"Convert this dataframe to an interactive table.\"\n",
              "              style=\"display:none;\">\n",
              "        \n",
              "  <svg xmlns=\"http://www.w3.org/2000/svg\" height=\"24px\"viewBox=\"0 0 24 24\"\n",
              "       width=\"24px\">\n",
              "    <path d=\"M0 0h24v24H0V0z\" fill=\"none\"/>\n",
              "    <path d=\"M18.56 5.44l.94 2.06.94-2.06 2.06-.94-2.06-.94-.94-2.06-.94 2.06-2.06.94zm-11 1L8.5 8.5l.94-2.06 2.06-.94-2.06-.94L8.5 2.5l-.94 2.06-2.06.94zm10 10l.94 2.06.94-2.06 2.06-.94-2.06-.94-.94-2.06-.94 2.06-2.06.94z\"/><path d=\"M17.41 7.96l-1.37-1.37c-.4-.4-.92-.59-1.43-.59-.52 0-1.04.2-1.43.59L10.3 9.45l-7.72 7.72c-.78.78-.78 2.05 0 2.83L4 21.41c.39.39.9.59 1.41.59.51 0 1.02-.2 1.41-.59l7.78-7.78 2.81-2.81c.8-.78.8-2.07 0-2.86zM5.41 20L4 18.59l7.72-7.72 1.47 1.35L5.41 20z\"/>\n",
              "  </svg>\n",
              "      </button>\n",
              "      \n",
              "  <style>\n",
              "    .colab-df-container {\n",
              "      display:flex;\n",
              "      flex-wrap:wrap;\n",
              "      gap: 12px;\n",
              "    }\n",
              "\n",
              "    .colab-df-convert {\n",
              "      background-color: #E8F0FE;\n",
              "      border: none;\n",
              "      border-radius: 50%;\n",
              "      cursor: pointer;\n",
              "      display: none;\n",
              "      fill: #1967D2;\n",
              "      height: 32px;\n",
              "      padding: 0 0 0 0;\n",
              "      width: 32px;\n",
              "    }\n",
              "\n",
              "    .colab-df-convert:hover {\n",
              "      background-color: #E2EBFA;\n",
              "      box-shadow: 0px 1px 2px rgba(60, 64, 67, 0.3), 0px 1px 3px 1px rgba(60, 64, 67, 0.15);\n",
              "      fill: #174EA6;\n",
              "    }\n",
              "\n",
              "    [theme=dark] .colab-df-convert {\n",
              "      background-color: #3B4455;\n",
              "      fill: #D2E3FC;\n",
              "    }\n",
              "\n",
              "    [theme=dark] .colab-df-convert:hover {\n",
              "      background-color: #434B5C;\n",
              "      box-shadow: 0px 1px 3px 1px rgba(0, 0, 0, 0.15);\n",
              "      filter: drop-shadow(0px 1px 2px rgba(0, 0, 0, 0.3));\n",
              "      fill: #FFFFFF;\n",
              "    }\n",
              "  </style>\n",
              "\n",
              "      <script>\n",
              "        const buttonEl =\n",
              "          document.querySelector('#df-5e11bdeb-fb89-454f-a842-9579895fdb44 button.colab-df-convert');\n",
              "        buttonEl.style.display =\n",
              "          google.colab.kernel.accessAllowed ? 'block' : 'none';\n",
              "\n",
              "        async function convertToInteractive(key) {\n",
              "          const element = document.querySelector('#df-5e11bdeb-fb89-454f-a842-9579895fdb44');\n",
              "          const dataTable =\n",
              "            await google.colab.kernel.invokeFunction('convertToInteractive',\n",
              "                                                     [key], {});\n",
              "          if (!dataTable) return;\n",
              "\n",
              "          const docLinkHtml = 'Like what you see? Visit the ' +\n",
              "            '<a target=\"_blank\" href=https://colab.research.google.com/notebooks/data_table.ipynb>data table notebook</a>'\n",
              "            + ' to learn more about interactive tables.';\n",
              "          element.innerHTML = '';\n",
              "          dataTable['output_type'] = 'display_data';\n",
              "          await google.colab.output.renderOutput(dataTable, element);\n",
              "          const docLink = document.createElement('div');\n",
              "          docLink.innerHTML = docLinkHtml;\n",
              "          element.appendChild(docLink);\n",
              "        }\n",
              "      </script>\n",
              "    </div>\n",
              "  </div>\n",
              "  "
            ],
            "text/plain": [
              "                                                    body  category\n",
              "24     badge removed dear please badge since he worki...         0\n",
              "34                                         re card va se         0\n",
              "83     card hi guys please que activate card worker p...         0\n",
              "125    maternity leaver form hello please fill matern...         0\n",
              "126    update bun reg si update ave interval interval...         0\n",
              "...                                                  ...       ...\n",
              "22255  sent wednesday july re sensitive information a...         0\n",
              "22256  sent wednesday july re sensitive information a...         0\n",
              "22257  sent wednesday july re sensible information ac...         0\n",
              "22258  sent wednesday july re sensitive information a...         0\n",
              "22259  sent wednesday july re sensitive information a...         0\n",
              "\n",
              "[24486 rows x 2 columns]"
            ]
          },
          "execution_count": 81,
          "metadata": {},
          "output_type": "execute_result"
        }
      ],
      "source": [
        ""
      ]
    },
    {
      "cell_type": "code",
      "execution_count": null,
      "metadata": {
        "id": "tJA9PhPSn12B"
      },
      "outputs": [],
      "source": [
        "res=pd.concat([df0,df5,df6])"
      ]
    },
    {
      "cell_type": "code",
      "source": [
        "res"
      ],
      "metadata": {
        "colab": {
          "base_uri": "https://localhost:8080/",
          "height": 423
        },
        "id": "EAEmQGVLwmcu",
        "outputId": "6332be75-be7b-4e14-8277-6b21dff9f6e0"
      },
      "execution_count": null,
      "outputs": [
        {
          "output_type": "execute_result",
          "data": {
            "text/plain": [
              "                                                    body  category\n",
              "24     badge removed dear please badge since he worki...         0\n",
              "34                                         re card va se         0\n",
              "83     card hi guys please que activate card worker p...         0\n",
              "125    maternity leaver form hello please fill matern...         0\n",
              "126    update bun reg si update ave interval interval...         0\n",
              "...                                                  ...       ...\n",
              "26275  sent thursday july bandwidth problems hello yo...         6\n",
              "26276  sent thursday july bandwidth problems hello yo...         6\n",
              "26277  sent thursday july bandwidth problems hello yo...         6\n",
              "26278  sent thursday july bandwidth problem hello you...         6\n",
              "26279  sent thursday july bandwidth problems hello yo...         6\n",
              "\n",
              "[82296 rows x 2 columns]"
            ],
            "text/html": [
              "\n",
              "  <div id=\"df-8a4f2cb2-6610-49c6-adeb-fa2110efdc3b\">\n",
              "    <div class=\"colab-df-container\">\n",
              "      <div>\n",
              "<style scoped>\n",
              "    .dataframe tbody tr th:only-of-type {\n",
              "        vertical-align: middle;\n",
              "    }\n",
              "\n",
              "    .dataframe tbody tr th {\n",
              "        vertical-align: top;\n",
              "    }\n",
              "\n",
              "    .dataframe thead th {\n",
              "        text-align: right;\n",
              "    }\n",
              "</style>\n",
              "<table border=\"1\" class=\"dataframe\">\n",
              "  <thead>\n",
              "    <tr style=\"text-align: right;\">\n",
              "      <th></th>\n",
              "      <th>body</th>\n",
              "      <th>category</th>\n",
              "    </tr>\n",
              "  </thead>\n",
              "  <tbody>\n",
              "    <tr>\n",
              "      <th>24</th>\n",
              "      <td>badge removed dear please badge since he worki...</td>\n",
              "      <td>0</td>\n",
              "    </tr>\n",
              "    <tr>\n",
              "      <th>34</th>\n",
              "      <td>re card va se</td>\n",
              "      <td>0</td>\n",
              "    </tr>\n",
              "    <tr>\n",
              "      <th>83</th>\n",
              "      <td>card hi guys please que activate card worker p...</td>\n",
              "      <td>0</td>\n",
              "    </tr>\n",
              "    <tr>\n",
              "      <th>125</th>\n",
              "      <td>maternity leaver form hello please fill matern...</td>\n",
              "      <td>0</td>\n",
              "    </tr>\n",
              "    <tr>\n",
              "      <th>126</th>\n",
              "      <td>update bun reg si update ave interval interval...</td>\n",
              "      <td>0</td>\n",
              "    </tr>\n",
              "    <tr>\n",
              "      <th>...</th>\n",
              "      <td>...</td>\n",
              "      <td>...</td>\n",
              "    </tr>\n",
              "    <tr>\n",
              "      <th>26275</th>\n",
              "      <td>sent thursday july bandwidth problems hello yo...</td>\n",
              "      <td>6</td>\n",
              "    </tr>\n",
              "    <tr>\n",
              "      <th>26276</th>\n",
              "      <td>sent thursday july bandwidth problems hello yo...</td>\n",
              "      <td>6</td>\n",
              "    </tr>\n",
              "    <tr>\n",
              "      <th>26277</th>\n",
              "      <td>sent thursday july bandwidth problems hello yo...</td>\n",
              "      <td>6</td>\n",
              "    </tr>\n",
              "    <tr>\n",
              "      <th>26278</th>\n",
              "      <td>sent thursday july bandwidth problem hello you...</td>\n",
              "      <td>6</td>\n",
              "    </tr>\n",
              "    <tr>\n",
              "      <th>26279</th>\n",
              "      <td>sent thursday july bandwidth problems hello yo...</td>\n",
              "      <td>6</td>\n",
              "    </tr>\n",
              "  </tbody>\n",
              "</table>\n",
              "<p>82296 rows × 2 columns</p>\n",
              "</div>\n",
              "      <button class=\"colab-df-convert\" onclick=\"convertToInteractive('df-8a4f2cb2-6610-49c6-adeb-fa2110efdc3b')\"\n",
              "              title=\"Convert this dataframe to an interactive table.\"\n",
              "              style=\"display:none;\">\n",
              "        \n",
              "  <svg xmlns=\"http://www.w3.org/2000/svg\" height=\"24px\"viewBox=\"0 0 24 24\"\n",
              "       width=\"24px\">\n",
              "    <path d=\"M0 0h24v24H0V0z\" fill=\"none\"/>\n",
              "    <path d=\"M18.56 5.44l.94 2.06.94-2.06 2.06-.94-2.06-.94-.94-2.06-.94 2.06-2.06.94zm-11 1L8.5 8.5l.94-2.06 2.06-.94-2.06-.94L8.5 2.5l-.94 2.06-2.06.94zm10 10l.94 2.06.94-2.06 2.06-.94-2.06-.94-.94-2.06-.94 2.06-2.06.94z\"/><path d=\"M17.41 7.96l-1.37-1.37c-.4-.4-.92-.59-1.43-.59-.52 0-1.04.2-1.43.59L10.3 9.45l-7.72 7.72c-.78.78-.78 2.05 0 2.83L4 21.41c.39.39.9.59 1.41.59.51 0 1.02-.2 1.41-.59l7.78-7.78 2.81-2.81c.8-.78.8-2.07 0-2.86zM5.41 20L4 18.59l7.72-7.72 1.47 1.35L5.41 20z\"/>\n",
              "  </svg>\n",
              "      </button>\n",
              "      \n",
              "  <style>\n",
              "    .colab-df-container {\n",
              "      display:flex;\n",
              "      flex-wrap:wrap;\n",
              "      gap: 12px;\n",
              "    }\n",
              "\n",
              "    .colab-df-convert {\n",
              "      background-color: #E8F0FE;\n",
              "      border: none;\n",
              "      border-radius: 50%;\n",
              "      cursor: pointer;\n",
              "      display: none;\n",
              "      fill: #1967D2;\n",
              "      height: 32px;\n",
              "      padding: 0 0 0 0;\n",
              "      width: 32px;\n",
              "    }\n",
              "\n",
              "    .colab-df-convert:hover {\n",
              "      background-color: #E2EBFA;\n",
              "      box-shadow: 0px 1px 2px rgba(60, 64, 67, 0.3), 0px 1px 3px 1px rgba(60, 64, 67, 0.15);\n",
              "      fill: #174EA6;\n",
              "    }\n",
              "\n",
              "    [theme=dark] .colab-df-convert {\n",
              "      background-color: #3B4455;\n",
              "      fill: #D2E3FC;\n",
              "    }\n",
              "\n",
              "    [theme=dark] .colab-df-convert:hover {\n",
              "      background-color: #434B5C;\n",
              "      box-shadow: 0px 1px 3px 1px rgba(0, 0, 0, 0.15);\n",
              "      filter: drop-shadow(0px 1px 2px rgba(0, 0, 0, 0.3));\n",
              "      fill: #FFFFFF;\n",
              "    }\n",
              "  </style>\n",
              "\n",
              "      <script>\n",
              "        const buttonEl =\n",
              "          document.querySelector('#df-8a4f2cb2-6610-49c6-adeb-fa2110efdc3b button.colab-df-convert');\n",
              "        buttonEl.style.display =\n",
              "          google.colab.kernel.accessAllowed ? 'block' : 'none';\n",
              "\n",
              "        async function convertToInteractive(key) {\n",
              "          const element = document.querySelector('#df-8a4f2cb2-6610-49c6-adeb-fa2110efdc3b');\n",
              "          const dataTable =\n",
              "            await google.colab.kernel.invokeFunction('convertToInteractive',\n",
              "                                                     [key], {});\n",
              "          if (!dataTable) return;\n",
              "\n",
              "          const docLinkHtml = 'Like what you see? Visit the ' +\n",
              "            '<a target=\"_blank\" href=https://colab.research.google.com/notebooks/data_table.ipynb>data table notebook</a>'\n",
              "            + ' to learn more about interactive tables.';\n",
              "          element.innerHTML = '';\n",
              "          dataTable['output_type'] = 'display_data';\n",
              "          await google.colab.output.renderOutput(dataTable, element);\n",
              "          const docLink = document.createElement('div');\n",
              "          docLink.innerHTML = docLinkHtml;\n",
              "          element.appendChild(docLink);\n",
              "        }\n",
              "      </script>\n",
              "    </div>\n",
              "  </div>\n",
              "  "
            ]
          },
          "metadata": {},
          "execution_count": 32
        }
      ]
    },
    {
      "cell_type": "code",
      "source": [
        "sentences=[]\n",
        "for i in res['body']:\n",
        "  sentences.append(nltk.word_tokenize(i))\n",
        "\n",
        "len(sentences)"
      ],
      "metadata": {
        "colab": {
          "base_uri": "https://localhost:8080/"
        },
        "id": "b7rFAN8lz0jC",
        "outputId": "6088843f-b495-4cca-996c-0693acddf1ab"
      },
      "execution_count": null,
      "outputs": [
        {
          "output_type": "execute_result",
          "data": {
            "text/plain": [
              "82296"
            ]
          },
          "metadata": {},
          "execution_count": 34
        }
      ]
    },
    {
      "cell_type": "code",
      "source": [
        "df4=df[df['category']==4]"
      ],
      "metadata": {
        "id": "ODnODbLvwZgM"
      },
      "execution_count": null,
      "outputs": []
    },
    {
      "cell_type": "code",
      "source": [
        "res=pd.concat([res,df4])"
      ],
      "metadata": {
        "id": "dEn1QsKKwy3f"
      },
      "execution_count": null,
      "outputs": []
    },
    {
      "cell_type": "code",
      "source": [
        "sns.countplot(res['category'])"
      ],
      "metadata": {
        "colab": {
          "base_uri": "https://localhost:8080/",
          "height": 351
        },
        "id": "N-2V9Nulw2ib",
        "outputId": "c8a1a624-80ee-46f4-950d-ec1f2a400f04"
      },
      "execution_count": null,
      "outputs": [
        {
          "output_type": "stream",
          "name": "stderr",
          "text": [
            "/usr/local/lib/python3.7/dist-packages/seaborn/_decorators.py:43: FutureWarning: Pass the following variable as a keyword arg: x. From version 0.12, the only valid positional argument will be `data`, and passing other arguments without an explicit keyword will result in an error or misinterpretation.\n",
            "  FutureWarning\n"
          ]
        },
        {
          "output_type": "execute_result",
          "data": {
            "text/plain": [
              "<matplotlib.axes._subplots.AxesSubplot at 0x7fe7b5eda310>"
            ]
          },
          "metadata": {},
          "execution_count": 89
        },
        {
          "output_type": "display_data",
          "data": {
            "text/plain": [
              "<Figure size 432x288 with 1 Axes>"
            ],
            "image/png": "[encoded data removed]"
          },
          "metadata": {
            "needs_background": "light"
          }
        }
      ]
    },
    {
      "cell_type": "code",
      "source": [
        "res=res[['body','category']]"
      ],
      "metadata": {
        "id": "_E4M3EYwxAIg"
      },
      "execution_count": null,
      "outputs": []
    },
    {
      "cell_type": "code",
      "source": [
        "res"
      ],
      "metadata": {
        "colab": {
          "base_uri": "https://localhost:8080/",
          "height": 423
        },
        "id": "kKtr9s9ZxCAP",
        "outputId": "eeae80a1-7277-4187-cdbe-2a7027493f41"
      },
      "execution_count": null,
      "outputs": [
        {
          "output_type": "execute_result",
          "data": {
            "text/plain": [
              "                                                    body  category\n",
              "24     badge removed dear please badge since he worki...         0\n",
              "34                                         re card va se         0\n",
              "83     card hi guys please que activate card worker p...         0\n",
              "125    maternity leaver form hello please fill matern...         0\n",
              "126    update bun reg si update ave interval interval...         0\n",
              "...                                                  ...       ...\n",
              "48543  cannot laptop sa sa si intra si ca ti recent i...         4\n",
              "48544  sent tuesday july re git space for hi got righ...         4\n",
              "48545  sent july error hi guys can you help out with ...         4\n",
              "48547  sent tuesday july error hello guys have receiv...         4\n",
              "48548  hello please be advised we running out extensi...         4\n",
              "\n",
              "[116357 rows x 2 columns]"
            ],
            "text/html": [
              "\n",
              "  <div id=\"df-e014419e-b0b4-4a21-a264-57c29ac51c97\">\n",
              "    <div class=\"colab-df-container\">\n",
              "      <div>\n",
              "<style scoped>\n",
              "    .dataframe tbody tr th:only-of-type {\n",
              "        vertical-align: middle;\n",
              "    }\n",
              "\n",
              "    .dataframe tbody tr th {\n",
              "        vertical-align: top;\n",
              "    }\n",
              "\n",
              "    .dataframe thead th {\n",
              "        text-align: right;\n",
              "    }\n",
              "</style>\n",
              "<table border=\"1\" class=\"dataframe\">\n",
              "  <thead>\n",
              "    <tr style=\"text-align: right;\">\n",
              "      <th></th>\n",
              "      <th>body</th>\n",
              "      <th>category</th>\n",
              "    </tr>\n",
              "  </thead>\n",
              "  <tbody>\n",
              "    <tr>\n",
              "      <th>24</th>\n",
              "      <td>badge removed dear please badge since he worki...</td>\n",
              "      <td>0</td>\n",
              "    </tr>\n",
              "    <tr>\n",
              "      <th>34</th>\n",
              "      <td>re card va se</td>\n",
              "      <td>0</td>\n",
              "    </tr>\n",
              "    <tr>\n",
              "      <th>83</th>\n",
              "      <td>card hi guys please que activate card worker p...</td>\n",
              "      <td>0</td>\n",
              "    </tr>\n",
              "    <tr>\n",
              "      <th>125</th>\n",
              "      <td>maternity leaver form hello please fill matern...</td>\n",
              "      <td>0</td>\n",
              "    </tr>\n",
              "    <tr>\n",
              "      <th>126</th>\n",
              "      <td>update bun reg si update ave interval interval...</td>\n",
              "      <td>0</td>\n",
              "    </tr>\n",
              "    <tr>\n",
              "      <th>...</th>\n",
              "      <td>...</td>\n",
              "      <td>...</td>\n",
              "    </tr>\n",
              "    <tr>\n",
              "      <th>48543</th>\n",
              "      <td>cannot laptop sa sa si intra si ca ti recent i...</td>\n",
              "      <td>4</td>\n",
              "    </tr>\n",
              "    <tr>\n",
              "      <th>48544</th>\n",
              "      <td>sent tuesday july re git space for hi got righ...</td>\n",
              "      <td>4</td>\n",
              "    </tr>\n",
              "    <tr>\n",
              "      <th>48545</th>\n",
              "      <td>sent july error hi guys can you help out with ...</td>\n",
              "      <td>4</td>\n",
              "    </tr>\n",
              "    <tr>\n",
              "      <th>48547</th>\n",
              "      <td>sent tuesday july error hello guys have receiv...</td>\n",
              "      <td>4</td>\n",
              "    </tr>\n",
              "    <tr>\n",
              "      <th>48548</th>\n",
              "      <td>hello please be advised we running out extensi...</td>\n",
              "      <td>4</td>\n",
              "    </tr>\n",
              "  </tbody>\n",
              "</table>\n",
              "<p>116357 rows × 2 columns</p>\n",
              "</div>\n",
              "      <button class=\"colab-df-convert\" onclick=\"convertToInteractive('df-e014419e-b0b4-4a21-a264-57c29ac51c97')\"\n",
              "              title=\"Convert this dataframe to an interactive table.\"\n",
              "              style=\"display:none;\">\n",
              "        \n",
              "  <svg xmlns=\"http://www.w3.org/2000/svg\" height=\"24px\"viewBox=\"0 0 24 24\"\n",
              "       width=\"24px\">\n",
              "    <path d=\"M0 0h24v24H0V0z\" fill=\"none\"/>\n",
              "    <path d=\"M18.56 5.44l.94 2.06.94-2.06 2.06-.94-2.06-.94-.94-2.06-.94 2.06-2.06.94zm-11 1L8.5 8.5l.94-2.06 2.06-.94-2.06-.94L8.5 2.5l-.94 2.06-2.06.94zm10 10l.94 2.06.94-2.06 2.06-.94-2.06-.94-.94-2.06-.94 2.06-2.06.94z\"/><path d=\"M17.41 7.96l-1.37-1.37c-.4-.4-.92-.59-1.43-.59-.52 0-1.04.2-1.43.59L10.3 9.45l-7.72 7.72c-.78.78-.78 2.05 0 2.83L4 21.41c.39.39.9.59 1.41.59.51 0 1.02-.2 1.41-.59l7.78-7.78 2.81-2.81c.8-.78.8-2.07 0-2.86zM5.41 20L4 18.59l7.72-7.72 1.47 1.35L5.41 20z\"/>\n",
              "  </svg>\n",
              "      </button>\n",
              "      \n",
              "  <style>\n",
              "    .colab-df-container {\n",
              "      display:flex;\n",
              "      flex-wrap:wrap;\n",
              "      gap: 12px;\n",
              "    }\n",
              "\n",
              "    .colab-df-convert {\n",
              "      background-color: #E8F0FE;\n",
              "      border: none;\n",
              "      border-radius: 50%;\n",
              "      cursor: pointer;\n",
              "      display: none;\n",
              "      fill: #1967D2;\n",
              "      height: 32px;\n",
              "      padding: 0 0 0 0;\n",
              "      width: 32px;\n",
              "    }\n",
              "\n",
              "    .colab-df-convert:hover {\n",
              "      background-color: #E2EBFA;\n",
              "      box-shadow: 0px 1px 2px rgba(60, 64, 67, 0.3), 0px 1px 3px 1px rgba(60, 64, 67, 0.15);\n",
              "      fill: #174EA6;\n",
              "    }\n",
              "\n",
              "    [theme=dark] .colab-df-convert {\n",
              "      background-color: #3B4455;\n",
              "      fill: #D2E3FC;\n",
              "    }\n",
              "\n",
              "    [theme=dark] .colab-df-convert:hover {\n",
              "      background-color: #434B5C;\n",
              "      box-shadow: 0px 1px 3px 1px rgba(0, 0, 0, 0.15);\n",
              "      filter: drop-shadow(0px 1px 2px rgba(0, 0, 0, 0.3));\n",
              "      fill: #FFFFFF;\n",
              "    }\n",
              "  </style>\n",
              "\n",
              "      <script>\n",
              "        const buttonEl =\n",
              "          document.querySelector('#df-e014419e-b0b4-4a21-a264-57c29ac51c97 button.colab-df-convert');\n",
              "        buttonEl.style.display =\n",
              "          google.colab.kernel.accessAllowed ? 'block' : 'none';\n",
              "\n",
              "        async function convertToInteractive(key) {\n",
              "          const element = document.querySelector('#df-e014419e-b0b4-4a21-a264-57c29ac51c97');\n",
              "          const dataTable =\n",
              "            await google.colab.kernel.invokeFunction('convertToInteractive',\n",
              "                                                     [key], {});\n",
              "          if (!dataTable) return;\n",
              "\n",
              "          const docLinkHtml = 'Like what you see? Visit the ' +\n",
              "            '<a target=\"_blank\" href=https://colab.research.google.com/notebooks/data_table.ipynb>data table notebook</a>'\n",
              "            + ' to learn more about interactive tables.';\n",
              "          element.innerHTML = '';\n",
              "          dataTable['output_type'] = 'display_data';\n",
              "          await google.colab.output.renderOutput(dataTable, element);\n",
              "          const docLink = document.createElement('div');\n",
              "          docLink.innerHTML = docLinkHtml;\n",
              "          element.appendChild(docLink);\n",
              "        }\n",
              "      </script>\n",
              "    </div>\n",
              "  </div>\n",
              "  "
            ]
          },
          "metadata": {},
          "execution_count": 37
        }
      ]
    },
    {
      "cell_type": "code",
      "source": [
        "res.to_csv(\"result.csv\")"
      ],
      "metadata": {
        "id": "rkC8rJg3cFft"
      },
      "execution_count": null,
      "outputs": []
    },
    {
      "cell_type": "code",
      "source": [
        "model_cbow = Word2Vec(sentences)\n",
        "print(model_cbow)"
      ],
      "metadata": {
        "colab": {
          "base_uri": "https://localhost:8080/"
        },
        "id": "BTIzUuh9xL-f",
        "outputId": "82930d12-88e0-4264-80e6-a0a289be4c4a"
      },
      "execution_count": null,
      "outputs": [
        {
          "output_type": "stream",
          "name": "stdout",
          "text": [
            "Word2Vec(vocab=11210, size=100, alpha=0.025)\n"
          ]
        }
      ]
    },
    {
      "cell_type": "code",
      "source": [
        "model_cbow.save(\"word2vec.model\")"
      ],
      "metadata": {
        "id": "eQaHytlgxwM6"
      },
      "execution_count": null,
      "outputs": []
    },
    {
      "cell_type": "code",
      "source": [
        "model_cbow.wv.vocab.keys()"
      ],
      "metadata": {
        "colab": {
          "base_uri": "https://localhost:8080/"
        },
        "id": "8NoOLHaDx4lV",
        "outputId": "82785c83-2328-421b-c6fb-b4f31b8813a9"
      },
      "execution_count": null,
      "outputs": [
        {
          "output_type": "execute_result",
          "data": {
            "text/plain": [
              "dict_keys(['badge', 'removed', 'dear', 'please', 'since', 'he', 'working', 'anymore', 'best', 'regards', 're', 'card', 'va', 'se', 'hi', 'guys', 'que', 'activate', 'worker', 'paint', 'wall', 'morning', 'engineer', 'ext', 'maternity', 'leaver', 'form', 'hello', 'fill', 'today', 'her', 'leave', 'update', 'bun', 'reg', 'si', 'ave', 'interval', 'return', 'ca', 'calculator', 'exact', 'cum', 'thank', 'administration', 'officer', 'saturdays', 'change', 'regarding', 'availability', 'cards', 'cleaning', 'ladies', 'namely', 'available', 'until', 'assist', 'thanks', 'floor', 'problem', 'can', 'not', 'enter', 'where', 'cluster', 'kind', 'accounts', 'payable', 'lost', 'la', 'pus', 'backpack', 'care', 'secure', 'area', 'senior', 'wednesday', 'pm', 'outstanding', 'approvals', 'part', 'process', 'needs', 'surrey', 'attention', 'originates', 'technical', 'approvers', 'sn', 'getting', 'these', 'mails', 'advised', 'received', 'advise', 'how', 'proceed', 'analyst', 'sd', 'across', 'member', 'tasks', 'assigned', 'reference', 'summary', 'planned', 'date', 'task', 'via', 'rejection', 'updates', 'installation', 'pre', 'production', 'shared', 'infrastructure', 'link', 'approve', 'reject', 'ref', 'msg', 'consider', 'environment', 'printing', 'regarded', 'confidential', 'error', 'notify', 'destroy', 'immediately', 'statements', 'intent', 'shall', 'become', 'binding', 'confirmed', 'hard', 'copy', 'by', 'signatory', 'contents', 'relate', 'dealings', 'other', 'companies', 'under', 'control', 'details', 'which', 'found', 'fortunately', 'false', 'alarm', 'cart', 'reactivate', 'apologies', 'inconvenience', 'tuesday', 'importance', 'high', 'find', 'double', 'about', 'meanwhile', 'cancel', 'transfer', 'attached', 'administrator', 'secured', 'tower', 'forgot', 'visitors', 'borrowed', 'close', 'colleague', 'rotating', 'el', 'lucre', 'merci', 'help', 'issue', 'work', 'door', 'certain', 'period', 'enlarge', 'come', 'around', 'much', 'ledger', 'street', 'center', 'urgent', 'remote', 'urgently', 'changes', 'required', 'side', 'critic', 'given', 'investigate', 'memory', 'leaks', 'visual', 'asap', 'weekend', 'appreciate', 'sorted', 'out', 'tomorrow', 'possible', 'ports', 'colleagues', 'note', 'belonging', 'leavers', 'damaged', 'destroyed', 'great', 'parasite', 'friday', 'expire', 'days', 'contractor', 'response', 'mobility', 'per', 'commencing', 'has', 'attending', 'his', 'st', 'scheduled', 'also', 'pass', 'completion', 'provide', 'assistance', 'permanent', 'then', 'possibly', 'right', 'add', 'complete', 'name', 'job', 'title', 'consultant', 'july', 'location', 'entity', 'visitor', 'create', 'upon', 'client', 'visits', 'report', 'months', 'order', 'analyze', 'special', 'cases', 'quite', 'appreciated', 'leader', 'floors', 'starting', 'kindly', 'ask', 'him', 'self', 'logging', 'unlock', 'fin', 'building', 'second', 'specialist', 'room', 'joiner', 'enable', 'february', 'starter', 'tone', 'existing', 'information', 'assign', 'remain', 'disposal', 'restart', 'controller', 'log', 'category', 'application', 'telephony', 'description', 'thursday', 'every', 'later', 'leaders', 'done', 'works', 'same', 'established', 'thread', 'ahead', 'latest', 'expected', 'downtime', 'minutes', 'teams', 'during', 'frame', 'notified', 'prior', 'after', 'checked', 'alerts', 'call', 'number', 'successfully', 'reboot', 'calls', 'going', 'hitting', 'phones', 'show', 'while', 'logged', 'hardware', 'priority', 'reoccurring', 'poll', 'helping', 'changing', 'watermark', 'voltage', 'output', 'december', 'revalidation', 'filled', 'she', 'monitor', 'yet', 'plans', 'estimate', 'rd', 'starts', 'filling', 'lead', 'id', 'image', 'term', 'unpaid', 'looks', 'good', 'left', 'beginning', 'undetermined', 'make', 'disable', 'storage', 'added', 'let', 'keep', 'allowing', 'easy', 'attaching', 'joining', 'test', 'currently', 'backup', 'once', 'ongoing', 'bids', 'translate', 'actual', 'contracts', 'mob', 'needed', 'head', 'analysis', 'created', 'fulfiller', 'license', 'leeds', 'pride', 'signature', 'files', 'rom', 'confidentiality', 'notice', 'content', 'communication', 'represents', 'proprietary', 'agile', 'tried', 'expired', 'give', 'opportunity', 'requested', 'user', 'instance', 'want', 'disregard', 'did', 'registration', 'timekeeping', 'related', 'exported', 'generate', 'format', 'overtime', 'included', 'director', 'internship', 'ne', 'assistants', 'providing', 'tracking', 'purposes', 'entrance', 'replacement', 'old', 'activation', 'offices', 'short', 'visit', 'range', 'developer', 'allocated', 'sooner', 'attend', 'few', 'meetings', 'holidays', 'fantastic', 'tester', 'tickets', 'handled', 'informed', 'opening', 'employees', 'queue', 'rejected', 'highlighted', 'bit', 'addressed', 'reassigned', 'apologize', 'caused', 'both', 'sorry', 'stepping', 'agreed', 'mentioned', 'coordinator', 'ultima', 'deactivate', 'nostrum', 'allocation', 'record', 'review', 'take', 'appropriate', 'action', 'attachments', 'november', 'induction', 'everyone', 'started', 'empty', 'delay', 'seems', 'updated', 'recovered', 'bring', 'upstairs', 'programme', 'afternoon', 'avenue', 'suite', 'toronto', 'canada', 'permission', 'allowed', 'doors', 'earlier', 'bellow', 'spoke', 'conversation', 'afterwards', 'based', 'flexible', 'possibility', 'next', 'lot', 'means', 'br', 'restricted', 'meantime', 'encountering', 'problems', 'badges', 'helpful', 'better', 'understand', 'more', 'blvd', 'district', 'allocate', 'possession', 'joined', 'view', 'approved', 'interview', 'clearing', 'anterior', 'enabling', 'hey', 'ii', 'alt', 'republic', 'macedonia', 'kale', 'receive', 'allocating', 'credentials', 'cycle', 'tape', 'library', 'device', 'inventory', 'front', 'mode', 'premises', 'temperature', 'level', 'maine', 'defect', 'interface', 'accessible', 'conus', 'over', 'patched', 'stack', 'port', 'connect', 'zone', 'returned', 'appeared', 'disabled', 'further', 'complain', 'pc', 'think', 'computer', 'because', 'unexpected', 'addresses', 'worth', 'checking', 'seeing', 'ids', 'operating', 'called', 'connected', 'failed', 'haven', 'myself', 'won', 'again', 'campaign', 'personal', 'inclusive', 'firma', 'tine', 'physical', 'within', 'sixth', 'configuring', 'reason', 'upcoming', 'selected', 'sub', 'unit', 'links', 'raising', 'advice', 'actions', 'clients', 'submitted', 'hijacked', 'whatever', 'clicked', 'station', 'compromised', 'cheers', 'borrow', 'loans', 'overdrafts', 'scheme', 'electronic', 'channels', 'public', 'cyprus', 'fax', 'print', 'talked', 'exists', 'digital', 'creating', 'lists', 'products', 'past', 'weeks', 'editing', 'version', 'preview', 'happens', 'panel', 'ice', 'widgets', 'hub', 'pages', 'etc', 'fixed', 'too', 'corner', 'contains', 'intended', 'individuals', 'entities', 'recipient', 'agent', 'responsible', 'delivering', 'completely', 'delete', 'taken', 'reliance', 'strictly', 'prohibited', 'unauthorized', 'copying', 'disclosure', 'bears', 'responsibility', 'loss', 'disruption', 'damage', 'occur', 'contained', 'transmitted', 'views', 'expressed', 'otherwise', 'stated', 'cooperation', 'noticed', 'implement', 'prod', 'browser', 'everything', 'offers', 'fie', 'accidentally', 'broken', 'assigning', 'rejoining', 'employed', 'without', 'removing', 'permissions', 'properly', 'back', 'rejoin', 'modify', 'modified', 'azure', 'console', 'training', 'discussed', 'meeting', 'described', 'ems', 'resolution', 'procedure', 'efficient', 'terms', 'automatic', 'paragraph', 'amended', 'resolved', 'automatically', 'courtesy', 'latter', 'respond', 'closed', 'calendar', 'due', 'tool', 'limitations', 'saturday', 'hindered', 'users', 'ability', 'reasonable', 'considered', 'fully', 'instead', 'allow', 'corrections', 'presented', 'concerns', 'areas', 'formally', 'appointed', 'awareness', 'restore', 'outputs', 'template', 'tests', 'instruction', 'forms', 'bb', 'effort', 'book', 'code', 'documentation', 'whom', 'located', 'paternity', 'returning', 'refer', 'section', 'removal', 'than', 'steps', 'explorer', 'key', 'holders', 'select', 'press', 'shift', 'instant', 'export', 'save', 'file', 'reports', 'filter', 'excel', 'join', 'okapi', 'intra', 'tau', 'pot', 'software', 'finds', 'well', 'appears', 'future', 'assignations', 'maybe', 'lovely', 'intern', 'predate', 'sis', 'evening', 'supposed', 'stolen', 'lock', 'phone', 'october', 'legally', 'privileged', 'solely', 'addressee', 'opinions', 'mine', 'necessarily', 'represent', 'susceptible', 'interference', 'omitted', 'unlawful', 'accepts', 'errors', 'omissions', 'misuse', 'act', 'committed', 'doubt', 'verify', 'authenticity', 'rely', 'own', 'virus', 'checkers', 'rising', 'infection', 'registered', 'whose', 'broad', 'kingdom', 'each', 'subsidiaries', 'separate', 'liability', 'acts', 'contract', 'suspended', 'survey', 'bulger', 'course', 'invitation', 'nj', 'safe', 'holiday', 'party', 'invited', 'download', 'mobile', 'app', 'android', 'person', 'host', 'invite', 'guests', 'text', 'rise', 'elevator', 'ground', 'tested', 'caps', 'understood', 'deactivated', 'wed', 'rights', 'spa', 'ex', 'program', 'tot', 'cur', 'couple', 'downstairs', 'turnstile', 'stairs', 'aces', 'aquarium', 'ago', 'had', 'recently', 'got', 'position', 'doing', 'shadowing', 'requires', 'mailing', 'assets', 'handed', 'activated', 'together', 'crews', 'cat', 'sensors', 'blacklist', 'conferences', 'analyse', 'mr', 'pleased', 'inform', 'munich', 'germany', 'among', 'jaguar', 'rover', 'motors', 'analog', 'devices', 'others', 'brochure', 'detailed', 'speakers', 'attendees', 'delegates', 'bird', 'discount', 'directly', 'completed', 'agenda', 'interested', 'require', 'feel', 'free', 'russia', 'middle', 'east', 'regions', 'speak', 'experts', 'document', 'experience', 'manage', 'efficiently', 'similar', 'size', 'businesses', 'expenditure', 'introductory', 'helps', 'parties', 'costs', 'waste', 'consolidation', 'equipment', 'agreements', 'suitability', 'features', 'compared', 'requirements', 'reliability', 'consumable', 'purchases', 'especially', 'toner', 'printers', 'levels', 'invoicing', 'strategies', 'promote', 'enforce', 'duplex', 'mono', 'routing', 'large', 'jobs', 'suitable', 'auditing', 'distribute', 'scanning', 'processes', 'meet', 'reviewing', 'trainee', 'class', 'ermine', 'membership', 'perform', 'duties', 'granted', 'normal', 'snow', 'queues', 'missed', 'accomplish', 'electronics', 'design', 'pleasure', 'event', 'aims', 'bringing', 'strategic', 'single', 'roof', 'share', 'ideas', 'insights', 'advances', 'recommend', 'benefit', 'topics', 'include', 'willing', 'leverage', 'speaking', 'opportunities', 'beforehand', 'feedback', 'individual', 'named', 'stating', 'entire', 'writing', 'classroom', 'promotes', 'marked', 'poses', 'risks', 'discipline', 'certification', 'workshop', 'instructor', 'led', 'schedule', 'enroll', 'duration', 'introduction', 'covers', 'essential', 'increase', 'confidence', 'skills', 'explain', 'combine', 'elements', 'effective', 'convincing', 'focusing', 'techniques', 'overview', 'facts', 'brief', 'argument', 'style', 'writers', 'obtain', 'write', 'instantly', 'pressure', 'main', 'develop', 'understanding', 'probably', 'important', 'plan', 'regardless', 'remains', 'considerable', 'maintain', 'often', 'ineffective', 'poorly', 'candidates', 'learn', 'examples', 'scenarios', 'step', 'model', 'cost', 'typical', 'checklist', 'prepare', 'trends', 'practices', 'principles', 'benefits', 'soft', 'material', 'certificate', 'tea', 'lunch', 'post', 'price', 'off', 'attendee', 'quote', 'participants', 'arizona', 'states', 'powered', 'transforming', 'forward', 'results', 'video', 'cs', 'trouble', 'viewing', 'images', 'cd', 'selects', 'transform', 'enhance', 'offering', 'announced', 'yesterday', 'adopted', 'reshape', 'customers', 'result', 'offer', 'generation', 'hybrid', 'hosting', 'platform', 'combining', 'move', 'away', 'legacy', 'premise', 'ensure', 'advantage', 'machine', 'learning', 'big', 'release', 'enquiry', 'subject', 'body', 'happened', 'interviewed', 'expert', 'corporate', 'road', 'sr', 'engagement', 'interns', 'mistake', 'none', 'enjoy', 'prestige', 'comes', 'professional', 'advantages', 'derived', 'attaining', 'certifications', 'knowledge', 'profession', 'globally', 'recognized', 'respected', 'credential', 'type', 'country', 'fee', 'virtual', 'till', 'preparatory', 'mix', 'paced', 'designed', 'guide', 'edition', 'definitions', 'exercises', 'joggers', 'studies', 'facilitate', 'subsequent', 'presentation', 'sample', 'chapter', 'quiz', 'topic', 'covered', 'administered', 'followed', 'mock', 'having', 'handpicked', 'questions', 'study', 'length', 'simulation', 'clarification', 'reach', 'marks', 'wish', 'merge', 'expertise', 'central', 'recognize', 'community', 'tech', 'professionals', 'saw', 'profile', 'along', 'responses', 'site', 'anonymous', 'relevant', 'question', 'sentences', 'detail', 'product', 'vendor', 'scale', 'worst', 'rate', 'solution', 'valuable', 'example', 'improved', 'way', 'organization', 'functions', 'improvement', 'encounter', 'issues', 'stability', 'previously', 'different', 'switch', 'initial', 'setup', 'straightforward', 'complex', 'ways', 'pricing', 'licensing', 'choosing', 'evaluate', 'options', 'ones', 'looking', 'implementing', 'relationship', 'real', 'communications', 'fifth', 'ny', 'logo', 'spacer', 'trip', 'highlight', 'mailbox', 'continue', 'monitoring', 'wrong', 'moving', 'situated', 'reminder', 'several', 'were', 'suggest', 'cars', 'members', 'moment', 'tale', 'ti', 'recruiting', 'follow', 'bile', 'annual', 'absent', 'active', 'lap', 'top', 'took', 'incompatibility', 'multiple', 'identified', 'testing', 'deployments', 'upgraded', 'os', 'upgrades', 'recommended', 'checks', 'lowest', 'upgrade', 'unfortunately', 'highest', 'supported', 'causing', 'renewing', 'licence', 'aid', 'dedicated', 'engineering', 'broke', 'inca', 'solved', 'two', 'joiners', 'sept', 'conform', 'instructions', 'picks', 'coordinate', 'respective', 'guess', 'taxi', 'gift', 'glad', 'unpack', 'bags', 'perhaps', 'words', 'gifts', 'treasure', 'points', 'role', 'traveling', 'nature', 'afraid', 'rejoined', 'worked', 'matter', 'restrict', 'resources', 'cob', 'guest', 'confirmations', 'vine', 'label', 'switched', 'rack', 'considering', 'workstation', 'plus', 'respect', 'leads', 'spaces', 'arranged', 'expect', 'fellow', 'query', 'provided', 'persist', 'recur', 'warm', 'bench', 'candidate', 'accepted', 'belonged', 'relocation', 'formal', 'correspondence', 'paperwork', 'filtering', 'lines', 'granting', 'kindest', 'rand', 'enclosed', 'copied', 'graduates', 'according', 'hesitate', 'enrolling', 'running', 'unpleasant', 'initially', 'fain', 'govt', 'kill', 'retirement', 'usually', 'junk', 'folder', 'deleted', 'forwarding', 'never', 'subscribed', 'marking', 'blocking', 'arrive', 'stop', 'hunting', 'money', 'congress', 'ransack', 'sponsor', 'scheming', 'americans', 'employer', 'incentive', 'tax', 'deduction', 'deposits', 'least', 'earmarks', 'pork', 'barrel', 'legislation', 'slash', 'breaks', 'contributions', 'years', 'withdraw', 'essentially', 'making', 'less', 'advantageous', 'idea', 'calculations', 'revealed', 'axed', 'break', 'billion', 'washington', 'rake', 'even', 'loser', 'significantly', 'attractive', 'circumvent', 'grab', 'protect', 'ransacks', 'must', 'ready', 'earned', 'nest', 'egg', 'thousands', 'converting', 'gold', 'easily', 'manipulate', 'directed', 'late', 'irs', 'metals', 'zero', 'obligation', 'shipping', 'comprehensive', 'insider', 'reveals', 'precisely', 'paying', 'taxes', 'explained', 'remember', 'proven', 'times', 'bad', 'crush', 'dollar', 'millions', 'hit', 'confiscate', 'sneaky', 'sweeping', 'forget', 'thing', 'shampoo', 'cause', 'alzheimer', 'announcing', 'effect', 'pill', 'types', 'assume', 'affiliate', 'persons', 'commissions', 'sites', 'endorsed', 'exercise', 'diligence', 'privacy', 'policy', 'vegas', 'presidential', 'politics', 'complaints', 'twitter', 'scraping', 'passwords', 'returns', 'usage', 'comments', 'spreadsheet', 'traffic', 'playground', 'repository', 'browse', 'rule', 'made', 'functional', 'engineers', 'mount', 'pump', 'ceiling', 'wire', 'units', 'receptionist', 'colombia', 'wishes', 'automation', 'technician', 'compliance', 'forbidden', 'games', 'sharing', 'store', 'installed', 'mind', 'listed', 'moved', 'turnstiles', 'wild', 'carded', 'variations', 'awful', 'simpler', 'variation', 'hundreds', 'keeping', 'impossible', 'focussing', 'extension', 'defined', 'dashboard', 'progress', 'board', 'casa', 'cafeteria', 'absence', 'colt', 'mon', 'changed', 'batch', 'hearing', 'supplement', 'thinking', 'viz', 'accordingly', 'against', 'barcelona', 'spain', 'interest', 'sap', 'intel', 'cognizant', 'intuit', 'signed', 'additionally', 'registering', 'summits', 'unparalleled', 'enriching', 'choose', 'sessions', 'agendas', 'portfolio', 'architect', 'items', 'monitors', 'backpacks', 'headsets', 'mouse', 'wireless', 'sculpt', 'black', 'assignation', 'closing', 'follows', 'identifying', 'owner', 'brought', 'confirmation', 'somebody', 'parking', 'reassign', 'lately', 'responded', 'existent', 'followings', 'serial', 'rooms', 'exceptions', 'entries', 'normally', 'justify', 'reactivated', 'replace', 'accessing', 'severely', 'far', 'balcony', 'dears', 'resume', 'hands', 'testers', 'table', 'projector', 'chairs', 'awesome', 'configured', 'occupied', 'clock', 'grand', 'mo', 'wrote', 'managing', 'employment', 'ail', 'status', 'physically', 'straight', 'fine', 'reuse', 'informing', 'ownership', 'earliest', 'convenience', 'matches', 'reality', 'oms', 'discrepancy', 'corrected', 'appropriately', 'recorded', 'liaise', 'enquired', 'receives', 'history', 'accountant', 'suspend', 'went', 'configuration', 'additional', 'visiting', 'frequently', 'waiting', 'apply', 'discussion', 'representative', 'decided', 'proposal', 'expires', 'facilities', 'sounds', 'pretty', 'told', 'alone', 'sponsors', 'planning', 'wander', 'unaccompanied', 'displaying', 'hear', 'run', 'although', 'rest', 'equally', 'concerned', 'critical', 'approach', 'sort', 'semi', 'bases', 'difficult', 'restricting', 'folks', 'screened', 'taking', 'competitive', 'broadest', 'sense', 'careful', 'competitors', 'sign', 'usual', 'retain', 'custom', 'background', 'equivalent', 'performed', 'clauses', 'agreement', 'alongside', 'theory', 'hrs', 'deny', 'includes', 'third', 'routine', 'vin', 'seemed', 'discovered', 'storages', 'sports', 'apart', 'machines', 'hosted', 'red', 'impact', 'rather', 'complaining', 'affected', 'reschedule', 'cr', 'timely', 'heads', 'performing', 'refresh', 'locked', 'enough', 'threat', 'threats', 'wear', 'coming', 'incidents', 'down', 'sir', 'madam', 'revoked', 'regular', 'fwd', 'automate', 'scripts', 'ended', 'begin', 'forwarded', 'facto', 'mechanism', 'inevitable', 'catch', 'trend', 'reduce', 'cycles', 'little', 'asking', 'unified', 'simple', 'built', 'source', 'framework', 'naive', 'integrated', 'git', 'seamless', 'continuous', 'capable', 'demo', 'revert', 'quarterly', 'chart', 'badged', 'receivable', 'purchase', 'po', 'purchased', 'consideration', 'mandatory', 'receipts', 'item', 'ordered', 'passes', 'columbia', 'raised', 'redirect', 'flood', 'thought', 'overwhelmed', 'requests', 'temp', 'mass', 'readers', 'prefer', 'yourself', 'handing', 'rules', 'groups', 'manually', 'hold', 'infra', 'folders', 'passing', 'grateful', 'ignore', 'replicate', 'locations', 'rare', 'social', 'glide', 'assignment', 'present', 'exactly', 'temporarily', 'painting', 'kitchen', 'adjustments', 'treat', 'accesses', 'except', 'win', 'faster', 'freeze', 'abnormal', 'resource', 'utilization', 'architecture', 'final', 'flowing', 'loc', 'exacta', 'leaving', 'ad', 'forwarder', 'roaming', 'approver', 'seat', 'token', 'subscription', 'commercial', 'detected', 'messages', 'spare', 'march', 'marathon', 'supporting', 'runners', 'school', 'natal', 'ooh', 'vulnerability', 'mitigate', 'urges', 'appliances', 'versions', 'appliance', 'uptime', 'avoids', 'effectively', 'stare', 'assignat', 'milk', 'fruits', 'fresh', 'intr', 'perfect', 'dam', 'face', 'mornings', 'evenings', 'mb', 'mas', 'renewal', 'ct', 'strange', 'wonder', 'bother', 'relocated', 'passed', 'setting', 'expiration', 'stops', 'buildings', 'tourniquets', 'desirable', 'vulnerable', 'serviced', 'discuss', 'almost', 'mea', 'implemented', 'themselves', 'aside', 'personnel', 'sheets', 'permitted', 'near', 'stairwell', 'populated', 'accurately', 'particular', 'restriction', 'needing', 'roles', 'captured', 'champion', 'accurate', 'sear', 'edge', 'disaster', 'recovery', 'directory', 'nap', 'belongs', 'sickness', 'extend', 'facility', 'extended', 'finished', 'protocol', 'execution', 'switches', 'recent', 'dump', 'vault', 'reminding', 'measures', 'dropped', 'wardrobe', 'honestly', 'retrieve', 'booking', 'evidence', 'screens', 'extracted', 'req', 'layouts', 'tools', 'series', 'tin', 'incorrect', 'malta', 'poland', 'shifts', 'greetings', 'purpose', 'ends', 'overnight', 'stay', 'rile', 'opera', 'scam', 'letting', 'hopefully', 'opened', 'hereby', 'jolly', 'designer', 'growth', 'toll', 'builder', 'hid', 'trees', 'killed', 'electrons', 'terribly', 'inconvenienced', 'eventual', 'hyper', 'module', 'supplementation', 'prolong', 'notes', 'thus', 'excuse', 'announce', 'remaining', 'contacting', 'endeavour', 'manner', 'entered', 'target', 'track', 'shortly', 'goods', 'amendments', 'processing', 'flow', 'button', 'screen', 'goal', 'draw', 'clear', 'rejecting', 'cancelling', 'authority', 'cancellation', 'author', 'warned', 'permanently', 'cancelled', 'draft', 'displayed', 'pending', 'authorization', 'behavior', 'updating', 'preventing', 'visible', 'clicking', 'granular', 'incremental', 'minimum', 'realistic', 'transferring', 'forth', 'despite', 'assists', 'transfers', 'issuance', 'worries', 'mistype', 'unusual', 'surface', 'mistyping', 'older', 'meaning', 'difference', 'mean', 'enquire', 'requisition', 'useful', 'wanted', 'backups', 'database', 'databases', 'measure', 'voice', 'proxy', 'disclosing', 'driver', 'passenger', 'agree', 'pickup', 'reaching', 'provides', 'unbeatable', 'minute', 'convenient', 'billing', 'greater', 'san', 'preferences', 'suspicious', 'input', 'reissue', 'switching', 'announcement', 'guessing', 'urgency', 'correspond', 'catalogue', 'medium', 'choice', 'tier', 'low', 'somewhat', 'sets', 'null', 'applicable', 'vat', 'charge', 'supervising', 'weekly', 'justification', 'reduces', 'conducting', 'activities', 'chances', 'ourselves', 'cads', 'remind', 'dup', 'finish', 'involved', 'whole', 'useless', 'overhead', 'finalized', 'spoken', 'reviewed', 'finishes', 'moments', 'sweet', 'alb', 'offered', 'participate', 'tenders', 'spun', 'amend', 'invites', 'weekdays', 'opinion', 'satisfied', 'referring', 'improve', 'deliver', 'focused', 'reward', 'scores', 'say', 'bear', 'session', 'submit', 'drop', 'assessment', 'solicit', 'mobil', 'remover', 'declared', 'issued', 'graphs', 'saved', 'bailor', 'partial', 'minim', 'desks', 'cantina', 'believe', 'packages', 'package', 'install', 'menu', 'sincerely', 'reverse', 'comprising', 'classic', 'outline', 'ares', 'anywhere', 'comma', 'separated', 'values', 'chose', 'helsinki', 'mentor', 'wonderful', 'prima', 'fire', 'shoes', 'repeating', 'reflects', 'shown', 'deal', 'initiating', 'takes', 'anytime', 'reactivation', 'erase', 'reasons', 'immediate', 'doc', 'parte', 'indicate', 'observant', 'nominal', 'hosts', 'sabotages', 'stats', 'protection', 'cl', 'maps', 'hoping', 'contain', 'unofficial', 'portion', 'blocker', 'unspecified', 'eel', 'inside', 'fix', 'defaults', 'prompt', 'bits', 'requesting', 'securing', 'bookings', 'activating', 'controllers', 'unplanned', 'intrusion', 'detection', 'ribbon', 'clustering', 'synchronizing', 'freezing', 'designated', 'arrived', 'harmful', 'viruses', 'leaves', 'scans', 'exist', 'recognition', 'disclaimer', 'sole', 'authorize', 'resolve', 'turn', 'turned', 'communicate', 'remedy', 'romanian', 'expecting', 'encrypting', 'departure', 'appointment', 'labor', 'medicine', 'satellite', 'regional', 'approximate', 'outage', 'deadline', 'consultants', 'intend', 'placed', 'written', 'letters', 'avoid', 'initiated', 'makes', 'pare', 'unrecognized', 'chrome', 'trusted', 'accessed', 'ranked', 'winner', 'performance', 'award', 'expansion', 'adjusted', 'quantity', 'gigabit', 'cable', 'cab', 'catalyst', 'cap', 'clean', 'con', 'combined', 'autonomous', 'swap', 'mounting', 'bracket', 'default', 'grid', 'clip', 'recessed', 'dipole', 'ant', 'cables', 'patch', 'cord', 'fibre', 'sc', 'kick', 'mentions', 'assuming', 'fit', 'forecast', 'tight', 'planing', 'commence', 'stage', 'forecasted', 'allocations', 'deliverables', 'compile', 'answered', 'readiness', 'arrange', 'slot', 'phase', 'transition', 'legitimate', 'increased', 'threshold', 'frequent', 'resumed', 'olla', 'des', 'classified', 'authorized', 'responding', 'integrity', 'maintained', 'nor', 'interceptions', 'preserving', 'fetch', 'context', 'push', 'personalized', 'personalize', 'photo', 'tabs', 'reopened', 'cursor', 'anyone', 'structure', 'letter', 'kept', 'loop', 'implies', 'things', 'onboard', 'consulted', 'vs', 'corresponding', 'leading', 'terminating', 'expansions', 'besides', 'manger', 'holder', 'child', 'owe', 'teacher', 'gathered', 'acrobat', 'installing', 'activity', 'armed', 'mirroring', 'lynch', 'stopped', 'restoring', 'transaction', 'chile', 'unable', 'potential', 'quarantined', 'kb', 'paste', 'locale', 'released', 'tip', 'aliases', 'ciao', 'traced', 'releasing', 'disk', 'hand', 'renting', 'chief', 'developing', 'rapidly', 'predict', 'governance', 'industry', 'science', 'rates', 'verification', 'newcomer', 'verified', 'budget', 'therefore', 'printer', 'plug', 'adapters', 'sockets', 'battery', 'lacks', 'connectors', 'legate', 'camera', 'presence', 'sometimes', 'situations', 'qualified', 'cleared', 'docs', 'positions', 'hell', 'analysts', 'spatial', 'sip', 'rug', 'declarations', 'introduce', 'creation', 'investigations', 'doable', 'acceptance', 'seek', 'gateways', 'option', 'redesign', 'decision', 'simultaneously', 'connecting', 'simultaneous', 'distributed', 'geographical', 'metric', 'concerning', 'repaired', 'display', 'metrics', 'asp', 'powerful', 'processors', 'fairly', 'presenting', 'demos', 'mid', 'upgrading', 'vital', 'lack', 'booked', 'daily', 'grade', 'logs', 'import', 'mobiles', 'successful', 'xxx', 'xx', 'specify', 'bag', 'pack', 'render', 'unreadable', 'frustrating', 'consuming', 'sensitive', 'search', 'misleading', 'networking', 'english', 'foreign', 'newly', 'totally', 'overbooked', 'reported', 'uploaded', 'hiring', 'declaration', 'pp', 'evaluation', 'billable', 'split', 'trainer', 'quotes', 'sovereign', 'spitfire', 'urging', 'cine', 'dire', 'leg', 'acting', 'speed', 'volume', 'processed', 'highly', 'tv', 'partition', 'archives', 'demand', 'referenced', 'tab', 'experienced', 'discussing', 'telling', 'total', 'calculating', 'guidance', 'replacing', 'creates', 'impacting', 'everybody', 'tells', 'compiled', 'submissions', 'cameras', 'deactivation', 'eastern', 'replenish', 'stocks', 'puma', 'correctly', 'attach', 'suppliers', 'suitcase', 'resent', 'correction', 'hourly', 'vetted', 'gave', 'trio', 'athenaeum', 'decommissioned', 'recovering', 'owners', 'various', 'studio', 'icon', 'shortcuts', 'ultimate', 'refilled', 'galaxy', 'cover', 'ctrl', 'eyes', 'dark', 'yr', 'premier', 'collaboration', 'locally', 'privilege', 'confusing', 'doe', 'tempered', 'glass', 'protective', 'setups', 'perfectly', 'decent', 'slow', 'heats', 'quickly', 'reload', 'headset', 'storing', 'packs', 'grey', 'functionality', 'replied', 'seen', 'routers', 'packets', 'packet', 'grow', 'replenishment', 'onto', 'requestor', 'resale', 'mini', 'blending', 'spate', 'arriving', 'ob', 'yellow', 'resubmit', 'migration', 'migrated', 'bulk', 'ale', 'sent', 'alert', 'following', 'occurred', 'data', 'server', 'last', 'was', 'for', 'open', 'our', 'supplier', 'quotation', 'below', 'them', 'raise', 'licenses', 'be', 'used', 'prerequisite', 'deploying', 'ring', 'topology', 'monday', 'we', 'need', 'one', 'perpetual', 'ancient', 'put', 'drive', 'dug', 'up', 'dual', 'hot', 'drives', 'lose', 'redundancy', 'ultimately', 'unavailable', 'if', 'chassis', 'fascias', 'place', 'could', 'spares', 'you', 'or', 'inch', 'what', 'should', 'buy', 'came', 'those', 'info', 'web', 'sa', 'knew', 'there', 'th', 'iv', 'end', 'basically', 'have', 'jakarta', 'delivered', 'bogota', 'xerox', 'gen', 'array', 'adapter', 'plat', 'adv', 'projects', 'with', 'modules', 'like', 'enlisted', 'confirm', 'manager', 'basic', 'any', 'tell', 'measured', 'voltmeter', 'calibration', 'but', 'when', 'indicator', 'disconnected', 'reconnected', 'disappeared', 'does', 'know', 'neither', 'charged', 'parameters', 'replaced', 'yes', 'request', 'batteries', 'unclear', 'whether', 'worn', 'month', 'some', 'here', 'random', 'goes', 'warning', 'seconds', 'monitored', 'start', 'keeps', 'shutting', 'correcting', 'suggested', 'access', 'assignee', 'requisitioning', 'amount', 'approximately', 'nonrecoverable', 'approval', 'acquisition', 'platforms', 'sizes', 'compatibility', 'gap', 'fleet', 'able', 'list', 'including', 'shows', 'line', 'requester', 'parent', 'contact', 'necessary', 'factor', 'adding', 'desktop', 'connections', 'cheaper', 'space', 'proceeded', 'en', 'would', 'go', 'specific', 'disks', 'subcontractor', 'incident', 'connection', 'increasing', 'original', 'message', 'point', 'either', 'synchronization', 'non', 'writer', 'someone', 'case', 'slim', 'use', 'guard', 'scratches', 'get', 'pixel', 'cod', 'pro', 'retina', 'processor', 'core', 'graphics', 'apple', 'something', 'check', 'try', 'through', 'obvious', 'symbol', 'another', 'watt', 'volt', 'electric', 'blower', 'duster', 'unsure', 'already', 'thankyou', 'dearest', 'really', 'your', 'estimates', 'their', 'creative', 'spec', 'specs', 'sketch', 'muller', 'block', 'somewhere', 'mice', 'terminated', 'unexpectedly', 'termination', 'into', 'still', 'before', 'maintenance', 'laptop', 'send', 'consult', 'pair', 'compatible', 'touch', 'address', 'only', 'ticket', 'click', 'generated', 'renewals', 'external', 'row', 'spreadsheets', 'value', 'column', 'escalate', 'patches', 'resolving', 'closure', 'vulnerabilities', 'columns', 'very', 'demagnetized', 'ie', 'ac', 'became', 'inactive', 'replica', 'db', 'inconsistent', 'protected', 'fail', 'synchronized', 'consistency', 'shutdown', 'unforeseen', 'tracked', 'unintentional', 'valid', 'observation', 'appear', 'likely', 'belgrade', 'concise', 'suffix', 'situation', 'clearly', 'picture', 'fact', 'bug', 'such', 'cell', 'stand', 'kits', 'anything', 'color', 'raisers', 'et', 'using', 'operation', 'tapes', 'makers', 'handle', 'internationally', 'calling', 'dousing', 'sales', 'dial', 'set', 'shout', 'prime', 'yoga', 'hire', 'dc', 'denmark', 'inches', 'bigger', 'mounted', 'brackets', 'conference', 'look', 'most', 'practice', 'principle', 'repair', 'investigated', 'll', 'courier', 'pick', 'notebook', 'acceptable', 'contingency', 'settled', 'warranty', 'fiscally', 'pictures', 'diagnosis', 'says', 'hover', 'recruiter', 'procure', 'greatly', 'year', 'asked', 'fixing', 'said', 'losing', 'becoming', 'mention', 'provider', 'employee', 'irretrievable', 'unfortunate', 'apartment', 'searches', 'fruitless', 'current', 'nearly', 'giving', 'ghost', 'collapsing', 'cant', 'stopping', 'legs', 'contacted', 'anyway', 'sync', 'constantly', 'experiencing', 'interventions', 'week', 'adhesive', 'expose', 'looked', 'durable', 'known', 'peripherals', 'dab', 'headphones', 'models', 'starters', 'adder', 'sheet', 'ordering', 'desired', 'combination', 'depicted', 'proposed', 'managed', 'notification', 'cafe', 'might', 'alright', 'being', 'rebuilt', 'answers', 'gentlemen', 'deploy', 'sp', 'fixes', 'boxer', 'react', 'method', 'mostly', 'extract', 'patching', 'wait', 'releases', 'happen', 'thoughts', 'metal', 'lac', 'liber', 'extra', 'postpone', 'corrective', 'encryption', 'catalog', 'router', 'discounts', 'talk', 'preferably', 'hubs', 'aim', 'christmas', 'north', 'initiate', 'shipment', 'dates', 'duplicate', 'temporary', 'foresee', 'participates', 'aware', 'misplaced', 'declare', 'former', 'sox', 'controls', 'swiped', 'charging', 'eta', 'fuse', 'gantry', 'screws', 'idler', 'pulley', 'belt', 'tension', 'torsion', 'lightning', 'renew', 'between', 'pipeline', 'invoiced', 'raspberry', 'pie', 'pi', 'splitter', 'full', 'cont', 'computers', 'expedite', 'transportation', 'password', 'abeam', 'mom', 'investigation', 'individually', 'locate', 'wired', 'invoice', 'cert', 'frankfurt', 'small', 'applications', 'multifunction', 'trays', 'poor', 'quality', 'gets', 'emergency', 'exits', 'stairways', 'solve', 'pleas', 'outside', 'conduct', 'entering', 'gates', 'anti', 'programs', 'hours', 'potentially', 'however', 'direction', 'carbon', 'keyboard', 'operations', 'portal', 'above', 'marketing', 'direct', 'unless', 'stores', 'career', 'field', 'assistant', 'attempting', 'functioning', 'settle', 'periodically', 'tentative', 'qui', 'relatively', 'dept', 'vendors', 'looped', 'ball', 'rolling', 'entirely', 'bod', 'customs', 'vary', 'depending', 'higher', 'safety', 'designers', 'attribute', 'timed', 'verde', 'invalid', 'addition', 'belong', 'conflict', 'raid', 'specification', 'preset', 'servers', 'disregarding', 'cpu', 'circumstances', 'stick', 'build', 'tailored', 'profit', 'specified', 'dos', 'bundle', 'bronze', 'pool', 'compression', 'primary', 'specifications', 'knows', 'roughly', 'budgetary', 'components', 'motherboard', 'lake', 'cores', 'cooler', 'master', 'retailer', 'yours', 'encountered', 'failure', 'basis', 'though', 'hallway', 'elevators', 'lithium', 'guarantee', 'polymer', 'aforementioned', 'keyboards', 'meters', 'correct', 'printed', 'domains', 'gents', 'headers', 'load', 'quotations', 'pieces', 'converter', 'enclosure', 'adaptor', 'chip', 'flaws', 'manufactured', 'trust', 'chips', 'manufacturers', 'flaw', 'keys', 'brands', 'manufacturer', 'affect', 'uses', 'identify', 'viewer', 'script', 'advisory', 'scroll', 'comparison', 'tables', 'finally', 'unresolved', 'exec', 'routinely', 'greatest', 'placing', 'hour', 'manageable', 'modular', 'layer', 'mountable', 'entry', 'exit', 'portable', 'dp', 'refinements', 'bin', 'south', 'region', 'prompts', 'remove', 'telephone', 'searched', 'indexed', 'caddy', 'colours', 'ink', 'cyan', 'magenta', 'bend', 'longer', 'flat', 'unused', 'arm', 'apparently', 'reader', 'codes', 'repeats', 'serious', 'challenges', 'affecting', 'productivity', 'partitioned', 'wiped', 'shutdowns', 'average', 'reducing', 'dropping', 'breaking', 'happening', 'roves', 'pad', 'forced', 'unstuck', 'loose', 'tired', 'ideally', 'tho', 'lh', 'obsolete', 'helped', 'propose', 'achieve', 'stander', 'dashboards', 'achieving', 'issuing', 'facilitating', 'sprints', 'ceremonies', 'discussions', 'instruct', 'handling', 'migrating', 'commitment', 'contacts', 'studding', 'brother', 'zebra', 'mare', 'politicos', 'scanner', 'monthly', 'hence', 'kernel', 'disclose', 'budge', 'permit', 'feed', 'panels', 'accommodate', 'plugs', 'rewire', 'unscreened', 'dynamic', 'gamma', 'procedures', 'entrances', 'administrators', 'common', 'mechanical', 'landlord', 'buzzers', 'moreover', 'intruder', 'applies', 'acquire', 'bet', 'flash', 'savage', 'pointed', 'proof', 'inbound', 'cartel', 'channel', 'itself', 'personally', 'piece', 'always', 'assisted', 'strategy', 'automat', 'boxes', 'billed', 'redirected', 'macedonian', 'destined', 'shopping', 'audio', 'mixer', 'chime', 'music', 'controlled', 'separately', 'override', 'receiver', 'microphone', 'mw', 'tuner', 'loudspeaker', 'speaker', 'docking', 'remake', 'alternative', 'difficulties', 'browsing', 'capabilities', 'newer', 'recover', 'leased', 'decide', 'keywords', 'caveat', 'drag', 'demands', 'obtainable', 'strongly', 'insist', 'obtaining', 'challenge', 'spread', 'libraries', 'attic', 'structured', 'disappear', 'rid', 'engaging', 'suspected', 'referred', 'shape', 'beta', 'customize', 'nexus', 'responsive', 'minor', 'safari', 'browsers', 'anyhow', 'editions', 'cheapest', 'meant', 'meter', 'plenty', 'shorter', 'proposals', 'prices', 'lapel', 'presentations', 'buying', 'tag', 'drain', 'signing', 'migrate', 'prep', 'proper', 'sandbox', 'transactions', 'integration', 'component', 'simulators', 'fingerprint', 'confirming', 'interests', 'define', 'electricity', 'labeled', 'seem', 'snapshot', 'triggers', 'locking', 'stays', 'reliable', 'landing', 'domain', 'severity', 'eight', 'workstations', 'exposing', 'sat', 'leaking', 'ordinary', 'informal', 'corruption', 'inappropriate', 'specifically', 'arrival', 'escorted', 'served', 'relation', 'scanned', 'archived', 'innovator', 'safer', 'human', 'specializing', 'archiving', 'staying', 'trigger', 'observed', 'showed', 'spotted', 'agents', 'watched', 'pressed', 'buttons', 'sending', 'imagine', 'receiving', 'attempt', 'filing', 'easier', 'income', 'gains', 'deputation', 'rush', 'onwards', 'pan', 'enrollment', 'leak', 'crafted', 'five', 'four', 'bride', 'lei', 'cleanup', 'succeeds', 'route', 'path', 'clarify', 'quickest', 'communicator', 'microphones', 'preferred', 'brand', 'enabled', 'cube', 'trunk', 'eventually', 'nervous', 'escalated', 'trying', 'slough', 'fault', 'circuit', 'findings', 'customer', 'circuits', 'impacted', 'alias', 'why', 'delayed', 'vacation', 'reproduce', 'tuned', 'eliminate', 'vocal', 'discontinuity', 'runs', 'invalidate', 'qty', 'ax', 'sec', 'configure', 'screening', 'ticker', 'expanding', 'bought', 'obviously', 'indication', 'numerous', 'utilize', 'spike', 'floating', 'periodic', 'reached', 'hods', 'determine', 'definite', 'approached', 'buyer', 'establishing', 'introductions', 'resell', 'glance', 'fusion', 'conclusion', 'expense', 'certificates', 'waking', 'turning', 'reset', 'weakness', 'story', 'blues', 'suppose', 'enables', 'enlighten', 'suggestion', 'light', 'chosen', 'authentication', 'gone', 'dom', 'bios', 'inadequate', 'male', 'female', 'pin', 'european', 'triton', 'regents', 'disclosed', 'precautions', 'containing', 'continues', 'diagnostic', 'generating', 'resolver', 'transport', 'mime', 'mixed', 'boundary', 'attack', 'disconnect', 'blocked', 'outbound', 'walk', 'unplug', 'shut', 'massive', 'maidenhead', 'unlikely', 'slightly', 'infected', 'alive', 'planar', 'vase', 'deliveries', 'vest', 'diagonal', 'throw', 'prize', 'nonfunctional', 'cellular', 'estimated', 'crack', 'bent', 'figured', 'inactivate', 'excessive', 'lips', 'magnet', 'reserved', 'forcing', 'noise', 'indicating', 'procuring', 'deadlines', 'realized', 'shipped', 'header', 'jersey', 'firepower', 'centre', 'destination', 'generic', 'wants', 'scratch', 'bind', 'organizers', 'ut', 'tray', 'ah', 'yeah', 'tick', 'encrypted', 'settings', 'tracker', 'fallen', 'suspect', 'renewed', 'figures', 'arrangements', 'cartridge', 'incoming', 'networks', 'reassuring', 'feature', 'entails', 'weakened', 'posture', 'believes', 'awhile', 'ever', 'identity', 'properties', 'true', 'surname', 'records', 'baseline', 'viewed', 'materials', 'education', 'lookup', 'gives', 'watch', 'movie', 'contractual', 'commitments', 'reminded', 'trainers', 'score', 'carryover', 'lieu', 'mall', 'burglary', 'triggered', 'quartz', 'approving', 'stale', 'redeployed', 'previous', 'avoidance', 'cascade', 'breakdown', 'refers', 'awaiting', 'closer', 'tries', 'profiles', 'popping', 'wallet', 'crash', 'posted', 'weights', 'dimensions', 'packaging', 'combustible', 'pain', 'talking', 'answer', 'whenever', 'bubble', 'wrap', 'extremely', 'expensive', 'apache', 'alternatively', 'mitigated', 'applying', 'furthermore', 'mod', 'crypto', 'digest', 'refused', 'worm', 'exploits', 'owned', 'perimeter', 'danube', 'interim', 'glee', 'delegate', 'decisions', 'spite', 'ample', 'involve', 'optical', 'fiber', 'wake', 'hibernation', 'occasionally', 'consciously', 'messes', 'hindrance', 'progressively', 'worse', 'aw', 'pidgin', 'tunnel', 'chat', 'affects', 'tm', 'grebe', 'displays', 'unlocking', 'twice', 'remained', 'socket', 'trick', 'extenders', 'slots', 'robbed', 'synced', 'budapest', 'volatile', 'stored', 'wipe', 'forum', 'secondary', 'fibber', 'nm', 'peculiar', 'children', 'root', 'blank', 'manifests', 'swell', 'nuts', 'bolts', 'washers', 'ay', 'prevent', 'recurrences', 'bodes', 'optic', 'faced', 'providers', 'delays', 'cop', 'gig', 'millimeter', 'fan', 'spot', 'fluid', 'lector', 'lbs', 'men', 'hasta', 'aqua', 'standby', 'passive', 'interior', 'exterior', 'riser', 'distance', 'detector', 'vertical', 'subtotal', 'pl', 'validate', 'bundles', 'multi', 'degree', 'sailing', 'tactician', 'notifying', 'rockets', 'companion', 'smaller', 'lollipop', 'stag', 'fridges', 'microwave', 'cold', 'water', 'dispenser', 'gotten', 'malicious', 'showing', 'appointments', 'finding', 'documents', 'rebuild', 'speeding', 'externally', 'layers', 'align', 'fake', 'everywhere', 'reserve', 'servicing', 'disarm', 'flammable', 'sitting', 'piles', 'pointing', 'racks', 'recording', 'pols', 'cages', 'realty', 'automated', 'swapped', 'acquiring', 'wrongly', 'prompted', 'outdated', 'unarmed', 'formality', 'synchronize', 'sufficient', 'churn', 'receptive', 'fell', 'lobby', 'belgium', 'americas', 'serve', 'indicated', 'recovers', 'events', 'pal', 'curve', 'uh', 'super', 'premium', 'refuses', 'compliant', 'ab', 'recall', 'authorizing', 'deactivating', 'alike', 'names', 'targeting', 'fraud', 'fraudulent', 'genuine', 'whale', 'bulletin', 'lookout', 'resistant', 'charms', 'forge', 'commissioned', 'targeted', 'investigating', 'disabling', 'fiddle', 'solving', 'salaries', 'fiscal', 'keynote', 'titled', 'configurations', 'exposed', 'exploit', 'lower', 'origin', 'tied', 'attempted', 'reflect', 'nope', 'singe', 'lent', 'retroactively', 'swiftness', 'surely', 'mess', 'figure', 'annoying', 'opens', 'crashing', 'restarting', 'launch', 'loaner', 'somehow', 'swift', 'persists', 'verifying', 'mondays', 'suffer', 'ours', 'unattended', 'navigate', 'timeout', 'loaded', 'exploited', 'rascal', 'slipped', 'plastic', 'coworkers', 'retraced', 'snowy', 'cam', 'decathlon', 'absolutely', 'remotely', 'bypass', 'pops', 'accepting', 'downloaded', 'aud', 'ace', 'apparent', 'outcome', 'rogue', 'puts', 'validated', 'redundant', 'decommission', 'impacts', 'loner', 'saying', 'parallels', 'bottom', 'bar', 'nothing', 'communicating', 'success', 'promise', 'putting', 'photos', 'enlist', 'troubleshooting', 'mins', 'outs', 'forever', 'reverting', 'native', 'boot', 'ideal', 'living', 'troubleshoot', 'spent', 'outbox', 'invitees', 'outlooks', 'unstable', 'disconnects', 'troublesome', 'executed', 'explicitly', 'undeliverable', 'warnings', 'breaching', 'erroneously', 'exceptionally', 'fulfil', 'wondering', 'explanation', 'yammer', 'larger', 'needless', 'honest', 'inaccessible', 'installations', 'clarifications', 'tiers', 'fast', 'progression', 'surprised', 'breached', 'kinds', 'attacked', 'whoever', 'thereof', 'damages', 'arising', 'alteration', 'interactions', 'regularly', 'subs', 'macros', 'word', 'payload', 'filters', 'australian', 'taxation', 'varieties', 'claim', 'trojan', 'steal', 'whilst', 'storying', 'pretending', '...', ',', 'partially', 'revoke', 'flight', 'await', 'definition', 'restarted', 'vacations', 'dec', 'polls', 'unknown', 'capture', 'faults', 'complaint', 'falls', 'facing', 'symptoms', 'towards', 'sits', 'looping', 'voices', 'flagging', 'rings', 'asks', 'loops', 'operator', 'newspaper', 'largest', 'multimedia', 'publishers', 'winning', 'hereinafter', 'accept', 'consequences', 'subsequently', 'interception', 'operational', 'lawful', 'square', 'canary', 'wharf', 'conformation', 'interrupted', 'attempts', 'repeatedly', 'menus', 'mitigation', 'introduced', 'assure', 'particularly', 'toilets', 'pushing', 'pooling', 'harder', 'backings', 'pen', 'conducted', 'noted', 'detections', 'tomcat', 'positives', 'weaknesses', 'crossed', 'tunnelling', 'constraint', 'hash', 'imminent', 'disarmed', 'mailboxes', 'spoofing', 'defences', 'electromagnetic', 'reconstructing', 'fails', 'reconstruction', 'equal', 'denied', 'engine', 'directories', 'ratio', 'covering', 'nobody', 'escalation', 'cookie', 'node', 'cookies', 'sound', 'lite', 'hasp', 'loader', 'par', 'hits', 'matched', 'toward', 'signaling', 'hole', 'problematic', 'scenario', 'recreate', 'lets', 'car', 'discover', 'assumed', 'guards', 'alarms', 'stepped', 'fishy', 'coverage', 'qualify', 'silent', 'supplies', 'encrypt', 'searching', 'unrestricted', 'exports', 'smallest', 'indeed', 'importable', 'devout', 'salutary', 'regard', 'slay', 'costly', 'helium', 'just', 'earnest', 'heed', 'priced', 'polish', 'dominion', 'state', 'sou', \"'\", 'scorecard', 'department', 'of', 'veterans', 'affairs', 'atomic', '34', 'posting', 'wit', 'southeast', 'howdy', 'delight', 'bulwark', 'orchestrate', 'rampart', 'dayspring', 'in', 'estimable', 'compliments', 'poster', 'bill', 'fare', \"hawai'i\", 'hullo', 'guy', 'pregnancy', 'satisfy', 'motherhood', 'satiate', 'motherliness', 'maternal', 'occupy', 'gestation', 'musical', 'te', 'international', 'system', 'time', 'separation', 'roll', 'systeme', \"d'unites\", 'maternalism', 'replication', 'california', 'golden', 'retort', 'semen', '20', 'calcium', 'seed', 'ejaculate', 'calif.', '75', 'ra', 'rhenium', 'do', 'replete', 'mannequin', 'presidency', 'policeman', 'sate', 'governing', 'police', 'ship', \"'s\", 'military', 'variety', 'useable', 'house', 'modification', 'availableness', 'lady', 'accessibility', 'usable', 'carte', 'du', 'jour', '.', 'handiness', 'dame', 'videlicet', 'clump', 'account', 'collectable', 'base', 'bunch', 'storey', 'flooring', 'trading', 'miss', 'gaze', 'pelican', 'lanthanum', 'forethought', 'recede', 'lineup', '57', 'virginia', 'fear', 'louisiana', 'beneficial', 'esteem', 'unassailable', 'orbit', 'hawaii', 'expanse', 'unafraid', 'arena', 'dependable', 'striking', 'phallus', 'dealing', 'mastery', 'blessing', 'cognitive', 'statement', 'secret', 'associate', 'condition', 'favourable', 'reception', 'nether', 'restraint', 'straightaway', 'ski', 'signer', 'captive', 'rede', 'wrapped', 'transcript', 'command', '2', 'day', 'the', 'connexion', 'at', 'substructure', 'surroundings', 'impression', 'luckily', 'pitched', 'astir', 'scrub', 'wag', 'mellow', 'placard', 'doubled', 'fall', 'behind', 'first', 'three', 'fold', 'as', 'luck', 'it', 'sham', 'dismay', 'duple', 'apology', 'incommodiousness', 'batting', 'beloved', 'gamy', 'see', 'postmortem', 'carry', 'transferral', 'variant', 'regain', 'executive', 'affiliated', 'mortem', 'examination', 'transference', 'maker', 'towboat', 'insure', 'tugboat', 'darling', 'tug', 'batten', 'officeholder', 'sphere', 'bury', 'tues', 'skilful', 'visitant', 'psychoanalyst', 'practiced', 'a', 'adopt', 'rotate', 'nigh', 'workfellow', 'heartfelt', 'closely', 'co', 'altitude', 'elevated', 'lah', 'elevation', 'helper', 'outlet', 'workplace', 'marrow', 'sure', 'considerably', 'sunup', 'reckon', 'publication', 'catamenia', 'sum', 'morn', 'heart', 'and', 'soul', 'aurora', 'snapper', 'slope', 'aloha', 'porthole', 'pressing', 'remembering', 'embrasure', 'minister', 'retention', 'to', 'escape', 'ocular', 'desperately', 'postulate', 'incline', 'extinct', 'taboo', 'on', 'goer', 'incur', 'departer', 'ruined', 'majuscule', 'confrere', 'capital', 'impute', 'gamey', 'rushmore', '24', 'spirits', 'dakota', 'die', 'daytime', 'clarence', 'supply', 'gens', 'declarer', 'contractile', 'organ', 'so', 'lasting', 'apprise', 'lend', 'ray', 'pay', 'business', 'perchance', 'reaction', 'pure', 'laissez', 'passer', 'adviser', 'dyed', 'advisor', 'locating', 'fourth', 'sojourn', 'fasten', 'aged', 'elderly', 'early', 'suit', 'an', 'club', 'proficient', 'technological', 'limited', 'parliamentary', 'law', 'fiat', 'drawing', 'ego', 'necessitate', 'tie', 'lumber', 'operose', 'bond', 'erroneous', 'belief', 'severe', 'impound', 'wrongdoing', 'company', 'laborious', 'establish', '50', 'weigh', 'surround', 'shot', 'knockout', 'society', 'environs', 'financial', 'concentrated', 'game', 'specialiser', 'medical', '2d', 'ply', '2nd', 'elbow', 'pattern', 'transferee', 'flavor', 'pricey', 'selective', 'garbage', 'dispatcher', 'survive', 'disposition', 'observe', 'appetizer', 'pig', 'shade', 'spirit', 'extremity', 'likewise', 'logarithm', 'earpiece', 'team', 'yell', 'restrainer', 'epithet', 'witness', 'denotation', 'comptroller', 'birdsong', 'depict', 'numeral', 'cash', 'afterward', 'moderate', 'cry', 'locomotive', 'force', 'outturn', 'railroad', 'crown', 'turnout', 'applied', 'scientist', 'signal', 'pate', 'eminent', 'autopsy', 'promethium', 'approximation', 'service', 'ikon', 'principal', 'estimation', 'function', 'mannikin', 'midweek', 'entrust', 'spark', 'advance', 'signifier', 'all', 'mental', 'repay', 'til', 'now', 'regress', 'bequeath', 'trail', 'gem', 'escort', 'trope', 'amateur', 'descriptor', 'offset', 'depart', 'shuffling', 'kickoff', 'shuffle', 'pb', 'volunteer', 'terminal', 'hint', 'impart', 'unspoilt', 'recreational', 'menstruation', 'flesh', 'showtime', 'depot', 'storehouse', 'organise', 'penis', 'undecided', '82', 'menstruum', 'leash', 'wing', 'terminus', 'preserve', 'tolerate', 'rent', 'honey', 'love', 'designate', 'ascribe', 'depute', 'conveyance', 'lamb', 'soma', 'contribution', 'trial', 'startle', 'interpret', 'literal', 'bridge', 'arrogate', 'presently', 'crime', 'syndicate', 'substitute', 'read', 'accompaniment', 'family', 'comeback', 'read/write', 'caput', 'devolve', 'psychoanalysis', 'apprize', 'contentedness', 'ascendance', 'tough', 'erroneousness', 'effigy', 'pridefulness', 'object', 'entropy', 'theme', 'song', 'superbia', 'substance', 'lodge', 'epitome', 'pillar', 'observance', 'conceive', 'simulacrum', '14', 'speech', 'tune', 'register', 'referee', 'oneself', 'intemperate', 'neglect', 'dominance', 'bump', 'daybreak', 'tending', 'chance', 'linkup', 'monosodium', 'glutamate', 'dead', 'ascendency', 'originate', 'relations', 'formatting', 'paper', 'adjustment', 'readjustment', 'news', 'enrolment', 'pertain', 'film', 'reputation', 'neon', 'upkeep', 'nebraska', 'concern', 'supporter', 'guardianship', 'southeastward', 'precaution', 'seminal', 'worry', 'northeast', 'selenium', '10', 'cornhusker', 'tutelage', 'necropsy', 'trailing', 'technologist', 'transposition', 'substitution', 'refilling', 'pricy', 'entranceway', 'sometime', 'construction', 'ingress', 'god', 'berth', 'mountain', 'scant', 'compass', 'office', 'sanction', 'o.k', 'quizzer', 'bulge', 'oklahoman', 'avail', 'formerly', 'palm', 'respectable', 'consume', 'cite', 'advert', 'night', 'okay', 'lashkar', 'e', 'tayyiba', 'army', 'net', 'sponge', 'conjoin', 'followup', 'attachment', 'connectedness', 'brushup', 'transmit', 'ironware', 'allotment', 'verbal', 'localisation', 'nov', 'culmination', 'persona', 'elicitation', 'bellied', 'generalisation', 'initiation', 'manakin', 'channelise', '61', 'contour', 'government', 'holdup', 'mislay', \"ma'am\", 'goodness', 'quondam', 'misplace', 'count', 'contingent', 'ascertain', 'moot', 'unvoiced', 'restoration', 'silicon', 'rejoinder', 'counter', 'doorway', 'elastic', 'bromine', 'earmark', 'brigades', 'brigate', 'rosse', 'indigence', 'penury', 'roar', '35', 'confine', 'cut', 'restrain', 'curb', 'throttle', 'troublesomeness', 'lag', 'worriment', 'territorial', 'unconscious', 'monomania', 'willpower', 'bound', 'limit', 'unite', 'cast', 'panorama', 'righteous', 'anatomy', 'vista', 'fulfill', 'audience', 'modulation', 'analytic', 'tooth', 'calif', 'fledgeling', 'nitty', 'gritty', 'neophyte', 'makedonija', 'crank', 'evocation', 'motor', 'localization', 'inductive', 'reasoning', 'appetiser', 'edifice', 'criminal', 'critique', 'will', 'advantageously', 'admit', 'composition', 'practical', 'stock', 'gimmick', 'tapeline', 'twist', 'bike', 'armoury', 'round', 'mag', 'trammel', 'curtail', 'modal', 'theatre', 'pop', 'fashion', 'precede', 'premiss', 'conductor', 'deuce', 'pine', 'tree', 'desert', 'bozo', 'zona', 'approachable', 'hombre', 'larboard', 'decree', 'concluded', 'handicapped', 'hark', 'farther', 'consultation', 'northeastward', 'sequester', 'deserving', 'stimulate', 'prototype', 'reckoner', 'seize', 'onetime', 'erstwhile', 'afford', 'opine', 'gain', 'figurer', 'crusade', 'estimator', 'shoot', 'forcible', 'sustain', '6th', 'strong', 'grounds', 'home', 'bacon', 'rationality', 'approaching', 'cater', 'forthcoming', 'unspoiled', 'hero', 'sandwich', 'capitulum', 'ascendancy', 'submarine', 'oral', 'sex', 'heading', 'photographic', 'stringently', 'revealing', 'facsimile', 'rigorously', 'tongue', 'differently', 'interdict', 'sunniness', 'jury', 'express', 'hebdomad', 'inter', 'group', 'disallow', 'creditworthy', 'casualty', 'cheerfulness', 'boulevard', 'mark', 'spurring', 'fling', 'goading', 'deeds', 'goad', 'progeny', 'treatment', 'offspring', 'attentiveness', 'incidentally', 'tryout', 'crushed', 'upset', 'honorable', 'allot', 'remark', 'employ', 'substantiate', 'riposte', 'hind', 'hinder', 'alter', 'organize', 'manikin', 'utter', 'jump', 'gross', 'windup', 'thoroughgoing', 'cerulean', 'grooming', 'breeding', 'cabinet', 'sapphire', 'preparation', 'rope', 'freshman', 'reflexive', 'twenty', 'settlement', 'mechanically', 'shaft', 'appoint', 'exploiter', 'sidereal', 'tally', 'limitation', 'officially', 'discourse', 'precise', 'adjudicate', 'pillow', 'slip', 'subroutine', 'abuser', 'puppet', 'describe', 'creature', 'resoluteness', 'factual', 'regenerate', 'yield', 'psychometric', 'furbish', 'wreak', 'templet', 'reestablish', 'mend', 'emplacement', 'encipher', 'operate', 'oven', 'mould', 'persuasion', 'anticipate', 'playscript', 'bushel', 'cultivate', 'positioning', 'mold', 'reconstruct', 'perspective', 'strain', 'eyeshot', 'restitute', 'support', 'scene', 'grease', 'inscribe', 'doctor', 'authorship', 'subprogram', 'fatherhood', 'induce', 'plane', 'segment', 'recurrence', 'rout', 'remotion', 'caution', 'blue', 'decently', 'surpass', 'daylight', 'exportation', 'primal', 'bearer', 'justly', 'lay', 'computing', 'min', 'joint', 'union', 'articulation', 'okapia', 'johnstoni', 'me', 'passel', 'sess', 'grass', 'substantially', 'succeeding', 'power', 'parceling', 'eve', 'eventide', 'conjecture', 'speculate', 'protrude', 'hypothesise', 'rucksack', 'packsack', 'conquer', 'curl', 'whatsoever', 'haversack', 'lease', 'ignition', 'revelation', 'checker', 'secernate', 'omission', 'symbolize', 'purely', 'verbalize', 'illicit', 'realm', 'foot', 'soldier', 'needfully', 'legitimacy', 'abuse', 'legal', 'preventive', 'simulate', 'sentiment', 'judicature', 'oct', 'payoff', 'homecoming', 'welcome', 'recollect', 'sight', 'cerebrate', 'political', 'innkeeper', 'garden', 'peregrine', 'horde', 'mortal', 'prospect', 'nomadic', 'purview', 'humanoid', 'desire', 'new', 'hike', 'holy', 'coyote', 'wage', 'salary', 'earth', 'oeuvre', 'prove', 'coat', 'actuate', 'priming', 'crest', 'footing', 'identification', 'marry', 'tacit', 'ferment', 'proceeds', 'rightfield', 'contribute', 'bestow', 'squad', 'counsel', 'health', 'x', 'mutt', 'mongrel', 'vociferation', 'solar', 'fish', 'tank', 'distinction', 'banker', 'shadow', 'latterly', 'examiner', 'theatrical', 'character', 'brass', 'asset', 'mop', 'federal', 'billet', 'quick', 'supervise', 'nimble', 'detect', 'tease', 'aerate', 'tabu', 'ko', \"'d\", 'verboten', 'proscribed', 'crew', 'gang', 'adept', 'unitedly', 'computed', 'axial', 'tomography', 'caterpillar', 'sensor', 'mediate', 'proud', 'booklet', 'grandness', 'utterer', 'notation', 'comfortably', 'sensing', 'element', 'destitute', 'detached', 'nail', 'chair', 'grapple', 'expeditiously', 'empathize', 'scan', 'concert', 'compare', 'exchangeable', 'bid', 'corking', 'dandy', 'expectant', 'quest', 'rank', 'execute', 'tariff', 'cede', 'grant', 'attain', 'produce', 'duty', 'deed', 'joy', 'earphone', 'favour', 'lede', 'countenance', 'ear', 'leveraging', 'distinguish', 'veto', 'pauperization', 'intact', 'integral', 'founder', 'motivation', 'dedicate', 'appendage', 'sour', 'booster', 'inverted', 'indite', 'nominee', 'extent', 'fundamental', 'atmospheric', 'drift', 'origination', 'participant', 'believably', 'authoritative', 'continuance', 'outgrowth', 'boo', 'compose', 'shop', 'stone', 'citation', 'flux', 'c', 'onward', 'resultant', 'aggrandising', 'aspect', 'sky', 'lazuline', 'contented', 'pentad', 'fuss', 'acid', 'collective', 'ain', 'inquiry', 'forwards', 'division', 'misapprehension', 'pace', 'land', 'guidebook', 'ingest', 'clay', 'teach', 'cardinal', 'nation', 'sampling', 'security', 'al', \"qur'an\", 'project', 'interlingual', 'rendition', 'ware', 'vender', 'unlike', 'practically', 'ameliorate', 'opt', 'intersection', 'cartesian', 'revue', 'fancy', 'flip', 'play', 'tripper', 'wind', 'highlighting', 'physique', 'star', 'pencil', 'capacity', 'situate', 'motion', 'intimate', 'motorcar', 'admonisher', 'houseman', 'automobile', 'crucial', 'significant', 'lotion', 'ripe', 'jumper', 'retinue', 'recruit', 'architectural', 'pith', 'railway', 'tote', 'yearly', \"o'er\", 'summate', 'else', 'convey', 'deployment', 'unluckily', 'unattackable', 'advocate', 'scurvy', 'interpretation', 'regrettably', 'humble', 'mutual', 'consecrate', 'auto', 'devote', 'rendering', 'alas', 'surrogate', 'river', 'i.d', 'permutation', 'midpoint', 'essence', 'dawn', 'plant', 'pedagogy', 'ordinate', 'staring', 'drug', 'teaching', 'fri', 'newbie', 'fledgling', 'mayhap', 'natural', 'undecomposed', 'balls', 'hypothesis', 'inka', 'supposition', 'whirl', 'misunderstanding', 'gunpoint', 'travel', 'oftentimes', 'locomote', 'breaker', 'entrant', 'nevertheless', 'firmness', 'consequence', 'antecedently', 'affair', 'treasury', 'manoeuver', 'manoeuvre', 'resourcefulness', 'imagination', 'flop', 'wrack', 'wheel', 'trade', 'tether', 'stark', 'sodding', 'inviolable', 'generalization', 'channelize', 'maneuver', 'retrovert', 'standard', 'candle', 'uncommitted', 'placement', 'summation', 'entryway', 'independent', 'credibly', 'invitee', 'cheeseparing', 'gratuitous', 'positive', 'dry', 'sunrise', 'gratis', 'closet', 'knocked', 'costless', 'ramp', 'curriculum', 'reply', 'gestate', 'acknowledgment', 'coif', 'successor', 'emergence', 'displace', 'exchange', 'terrace', 'occupation', 'campaigner', 'caper', 'intimately', 'idaho', 'resettlement', 'furnish', 'earn', 'spend', 'penny', 'seduce', 'construct', 'edict', 'conventional', 'compact', 'dribble', 'microcomputer', 'succinct', 'sink', 'drumhead', 'compendious', 'yoke', 'genial', 'knead', 'tolerant', 'essay', 'live', 'bailiwick', 'impress', 'judiciary', 'incite', 'propel', 'coiffe', 'unity', 'medication', 'farm', 'pile', 'specializer', 'toiba', 'bay', 'window', 'chronicle', 'veracious', 'requisite', 'initio', 'graduate', 'pause', 'harmonise', 'calibrate', 'geological', 'handicap', 'revenue', 'enhancement', 'welfare', 'mustiness', 'nada', 'insurance', 'toss', 'aught', 'birth', 'thousand', 'realize', 'pamphlet', 'unsuccessful', 'barren', 'leaflet', 'subscribe', 'trace', 'commission', 'snap', 'de', 'standardised', 'paradigm', 'chirrup', 'propagation', 'scrap', 'sacrifice', 'multiplication', 'efficacious', 'effectual', 'countersign', 'interchangeable', 'parole', 'comment', 'gossip', 'abide', 'retard', 'discharge', 'territory', 'organisation', 'monument', 'regulation', 'resort', 'depositary', 'operable', 'telegram', 'accord', 'mechanisation', 'abidance', 'unadulterated', 'compliancy', 'submission', 'indirect', 'mechanization', 'everlasting', 'partake', 'arrest', 'indian', 'lean', 'skillful', 'antecedence', 'industrial', 'proceedings', 'energizing', 'adhd', 'inconceivable', 'dim', 'magnetic', 'designing', 'fortune', 'declination', 'hundred', 'deference', 'invention', 'mbd', 'mint', 'variance', 'suffice', 'complaisance', 'constitute', 'personify', 'kayoed', 'magnitude', 'splasher', 'needful', 'splashboard', 'crap', 'realise', 'adjacent', 'seizure', 'preeminence', 'fighting', 'debate', 'concede', 'website', 'internet', 'commute', 'tidy', 'frontwards', 'naught', 'forrader', 'dismal', 'dingy', 'meat', 'credit', 'blood', 'melodic', 'enrich', 'upright', 'sake', 'docket', 'excogitation', 'unique', 'headphone', 'rearwards', 'unmarried', 'var', 'exclusive', 'consequently', 'player', 'moldiness', 'interchange', 'pussyfoot', 'lizard', 'creep', 'shameful', 'varan', 'wandering', 'disgraceful', 'sneak', 'proprietor', 'possessor', 'substantiation', 'postdate', 'parcelling', 'apportioning', 'agone', 'apportion', 'park', 'rescript', 'deliberate', 'puddle', 'puzzle', 'flock', 'sequential', 'successive', 'exception', 'commonly', 'unremarkably', 'prominent', 'elision', 'shit', 'exclusion', 'grad', 'jibe', 'comprise', 'excited', 'exemplify', 'supersede', 'derive', 'supplant', 'depend', 'supervene', 'greenback', 'sequent', 'seriously', 'influence', 'hired', 'man', 'constituent', 'president', 'gather', 'awing', 'inspiring', 'engage', 'margin', 'kit', 'boodle', 'spell', 'establishment', 'closelipped', 'stuffy', 'tightlipped', 'secretive', 'garlic', 'recycle', 'gizmo', 'toilet', 'embody', 'orderliness', 'delimit', 'fittingly', 'fitly', 'disagreement', 'interrogation', 'dubiousness', 'match', 'realness', 'brush', 'compensate', 'realism', 'interrogative', 'debar', 'referable', 'typify', 'ascribable', 'refund', 'endure', 'decisive', 'spacious', 'concord', 'shortsighted', 'curt', 'backward', 'intellect', 'incapacitate', 'conception', 'disenable', 'ascertained', 'participating', 'agency', 'sport', 'lift', 'fun', 'pull', 'stakes', 'listing', 'heel', 'append', 'inclination', 'leaning', 'amazing', 'drab', 'cherry', 'cerise', 'ascendence', 'no', 'workings', 'unforesightful', 'freshen', 'encroachment', 'listen', 'overly', 'shebang', 'quetch', 'publish', 'trickle', 'menace', 'liaison', 'excessively', 'authorise', 'ordination', 'transplant', 'guild', 'clothing', 'imputable', 'article', 'predominate', 'hulk', 'loom', 'interrelate', 'canvass', 'mouth', 'downward', 'inquire', 'delineate', 'stunned', 'veritable', 'unconstipated', 'steady', 'merged', 'examine', 'eyed', 'chemical', 'fabric', 'mechanics', 'uninterrupted', 'unmanageable', 'handwriting', 'expertness', 'minded', 'inspection', 'recap', 'antecedency', 'revaluation', 'precedence', 'summons', 'precedency', 'gist', 'monastic', 'thoughtfulness', 'mandatary', 'receipt', 'us', 'considerateness', 'distant', 'mandate', 'circumstance', 'petty', 'nub', 'centerfield', 'brain', 'solid', 'conjure', 'institute', 'postulation', 'tardy', 'grip', 'corroboration', 'thankful', 'conk', 'passport', 'entrepot', 'repositing', 'societal', 'sabbatum', 'favor', 'exclusively', 'jure', 'inevitably', 'necessity', 'feeling', 'destine', 'complimentary', 'liberal', 'devoid', 'cashbox', 'trough', 'chore', 'commentary', 'contrive', 'folk', '3rd', 'distressing', 'ofttimes', 'groundwork', 'forefront', 'juncture', 'delicacy', 'kickshaw', 'dainty', 'calculate', 'winnings', 'cheer', 'instal', 'quicker', 'utilisation', 'halt', 'profits', 'adaptation', 'translation', 'rectify', 'memorialize', 'befittingly', 'adjust', 'world', 'reexamine', 'doubtfulness', 'defecate', 'twin', 'urinate', 'commemorate', 'decline', 'trailer', 'postbox', 'box', 'buns', 'advertizing', 'automatonlike', 'visibility', 'annex', 'coiffure', 'stern', 'advertising', 'dress', 'backwards', 'impregnable', 'superfluous', 'plain', 'movement', 'parting', 'farewell', 'marchland', 'edgar', 'albert', 'shepard', 'jr.', 'excess', 'surplus', 'ratification', 'motility', 'patronage', 'corroborate', 'endorse', 'runner', 'race', 'underpin', 'ladder', 'gild', 'schoolhouse', 'schooltime', 'mail', 'reading', 'gismo', 'widget', 'exposure', 'urge', 'contrivance', 'contraption', 'efficaciously', 'fruit', 'o', 'nine', 'tails', 'dekametre', 'typeface', 'grimace', 'finagle', 'rearward', 'forenoon', 'toddler', 'bambino', 'scavenge', 'descend', 'mama', 'bachelor', 'mebibyte', 'uncommon', 'warehousing', 'mar', 'reclamation', 'computerized', 'relocate', 'comfort', 'reposition', 'outer', 'substantive', 'stoppage', 'plump', 'deterrent', 'stove', 'solvent', 'tourniquet', 'nous', 'discus', 'saucer', 'scope', 'retrospect', 'syllabus', 'broadcast', '1', 'grouping', 'combat', 'staff', 'blend', 'perish', 'populate', 'confinement', 'friend', 'm', 'mbit', 'papers', 'exertion', 'christian', 'bible', 'tragedy', 'recuperation', 'cypher', 'reassert', 'convalescence', 'sweat', 'exam', 'didactics', 'crop', 'endeavor', 'educational', 'sentence', 'marching', 'border', 'borderland', 'butt', 'abut', 'exhibit', 'demonstrate', 'parade', 'alternate', 'bespeak', 'untroubled', 'airless', 'snug', 'closemouthed', 'skinny', 'band', 'circle', 'fitting', 'slew', 'confining', 'bare', 'undertaking', 'cleansing', 'codification', 'carrying', 'pretend', 'executing', 'probability', 'cue', 'motivate', 'frankly', 'honor', 'educate', 'train', 'depth', 'psychology', 'coating', 'sieve', 'layout', 'pecker', 'writ', 'putz', 'recognised', 'affectionately', 'interne', 'faulty', 'backbreaking', 'voiceless', 'blow', 'stumble', 'misstep', 'cipher', 'scripture', 'travail', 'electrical', 'bureau', 'slap', 'salutation', 'greeting', 'adjoin', 'hitch', 'ending', 'permeate', 'deficit', 'disorder', 'gyp', 'minimal', 'dysfunction', 'mother', 'sunshine', 'savoir', 'faire', 'anteriority', 'nominate', 'decorator', 'middling', 'graphic', 'banknote', 'practise', 'father', 'increment', 'growing', 'bank', 'biotic', 'dust', 'awfully', 'electron', 'stamp', 'enceinte', 'takings', 'peachy', 'plow', 'dawning', 'remainder', 'intention', 'death', 'prognosticate', 'holler', 'spring', 'feat', 'horizon', 'forgetful', 'faculty', 'brusque', 'strip', 'eminence', 'steer', 'belike', 'screenland', 'thence', 'long', 'leadership', 'shew', 'strike', 'vive', 'hollo', 'especial', 'entree', 'retiring', 'expand', 'stretch', 'filename', 'preceding', 'mister', 'lick', 'stupefy', 'arcminute', 'chatter', 'materialise', 'refuse', 'chromium', 'determination', 'sentience', 'convert', 'seeable', 'prevail', 'peck', 'shoal', 'dispute', 'footfall', 'life', 'sequestration', 'scout', 'chopine', 'consort', 'filtrate', 'relief', 'drill', 'vocalization', 'gibe', 'groovy', 'procurator', 'colligate', 'vocalisation', 'infinitesimal', 'concur', 'narrow', 'wood', 'harmonize', 'spokesperson', 'vox', 'weapons', 'interpreter', 'wary', 'flavour', 'spry', 'stimulant', 'dearly', 'valorem', 'tub', 'bearing', 'superintend', 'oversee', 'trivial', 'hebdomadary', 'hebdomadal', 'taiba', 'advertizement', 'tender', 'dog', 'erst', 'blackguard', 'mib', 'finalize', 'unhurt', 'focussed', 'seance', 'weekday', 'enunciate', 'loads', 'enjoin', 'judgement', 'stream', 'rightfulness', 'flush', 'uphold', 'abandon', 'allowance', 'arrant', 'embark', 'pinching', 'faithful', 'measurement', 'pee', 'wee', 'egress', 'fond', 'half', 'barricade', 'cease', 'dreary', 'gloomy', 'facial', 'expression', 'modelling', 'modeling', 'parcel', 'truly', 'melt', 'elaborate', 'vogue', 'venire', 'retrieval', 'affirm', 'placeholder', 'initialize', 'definitive', 'illustration', 'anyplace', 'economic', 'lesson', 'adventurer', 'graze', 'knapsack', 'workweek', 'wise', 'plowshare', 'graph', 'ponder', 'graphical', 'radio', 'accommodation', 'pioneer', 'contiguous', 'upshot', 'nerve', 'physician', 'emcee', 'legion', '150', 'mapping', 'tribute', 'aegis', 'auspices', 'fifty', 'inwardness', 'hop', 'promotion', 'reasonableness', 'inner', 'obligingness', 'lengthiness', 'conformity', 'plausibly', 'university', 'waitress', 'rattling', 'freestanding', 'reservation', 'backed', 'menses', 'nates', 'rear', 'buttocks', 'annexe', 'sleuthing', 'leger', 'violation', 'detecting', 'trespass', 'reinstate', 'catching', 'calamity', 'cataclysm', 'reliever', 'championship', 'contemporize', 'contemporise', 'populi', 'lawfully', 'judgment', 'popular', 'fate', 'certify', 'florida', 'unauthorised', 'tonality', 'motive', 'conclude', 'stratum', 'accession', 'tour', 'roumanian', 'cockcrow', 'rumanian', 'oft', 'fore', 'leaven', 'elevate', 'golf', 'merging', 'postponement', 'burden', 'formula', 'exsert', 'fount', 'boldness', 'futurity', 'micturate', 'junction', 'embodied', 'incorporated', 'presenter', 'television', 'enlargement', 'marriage', 'dispatch', 'cope', 'elaboration', 'murder', 'nonremittal', 'kvetch', 'possess', 'fascia', 'differentiate', 'logical', 'deepen', 'embracing', 'panoptic', 'underling', 'myopic', 'consent', 'unretentive', 'downcast', 'parrot', 'canvas', 'pat', 'summarize', 'concluding', 'wholeness', 'incumbrance', 'frontward', 'unconventional', 'symmetry', 'disturbance', 'forthwith', 'collapse', 'assumption', 'acknowledge', 'linguistic', 'subordinate', 'extensive', 'subsidiary', 'wide', 'sit', 'pose', 'chamber', 'prolongation', 'whorl', 'energy', 'ringlet', 'pic', 'photograph', 'annotation', 'reelect', 'proposition', 'reopen', 'pointer', 'assert', 'insert', 'wildcat', 'swan', 'tablet', 'eye', 'swear', 'ruby', 'bodily', 'kat', 'african', 'khat', 'headspring', 'imply', 'brusk', 'behave', 'inductance', 'sack', 'advertisement', 'accounting', 'admittance', 'monetary', 'mary', 'leontyne', 'discovery', 'foretell', 'activeness', 'piddle', 'i', 'mirror', 'backing', 'modality', 'incan', 'decease', 'enclose', 'clit', 'edit', 'nonpayment', 'ineffectual', 'kilobyte', 'kilobit', 'barter', 'liberation', 'waiver', 'swop', 'disc', 'sizing', 'mitt', 'charter', 'punishing', 'phonograph', 'cloth', 'textile', 'cablegram', 'proctor', 'pursual', 'transmission', 'tertiary', 'evolve', 'straits', 'fountainhead', 'industriousness', 'penetration', 'avow', 'aver', 'ordinarily', 'flex', 'severalize', 'blanket', 'divide', 'demonstration', 'coupled', 'indebtedness', 'promontory', 'headway', 'naming', 'stellar', 'peak', 'overlap', 'pressman', 'stopper', 'arranger', 'stopple', 'transcriber', 'sparking', 'barrage', 'bombardment', 'shelling', 'corduroy', 'connector', 'connecter', 'arabian', 'consummate', 'official', 'emissary', 'starring', 'sanctioned', 'exculpated', 'vindicated', 'dr.', 'commerce', 'dissimilar', 'stead', 'disconsolate', 'carpet', 'spacial', 'inclose', 'tummy', 'institution', 'existence', 'universe', 'decisiveness', 'usance', 'probe', 'leaf', 'achievable', 'gateway', 'shell', 'confluence', 'disjoined', 'geographic', 'psyche', 'misplay', 'instauration', 'cross', 'ramify', 'unsubtle', 'assort', 'interrupt', 'roving', 'exemplar', 'outback', 'c.p.u', 'fair', 'encompassing', 'erect', 'discriminate', 'unspecific', 'sustaining', 'deficiency', 'nag', 'casual', 'everyday', 'significance', '30', 'thirty', 'inventorying', 'pauperism', 'implication', 'surgical', 'incision', 'residential', 'difficulty', 'multitude', 'handbag', 'pocketbook', 'dish', 'plurality', 'eccentric', 'baffle', 'politic', 'rural', 'clitoris', 'hunt', 'sensible', 'headstone', 'res', 'publica', 'raw', 'keystone', 'samara', 'uncovering', 'instalment', 'fork', 'branch', 'pitiful', 'regretful', 'wholly', 'language', 'upload', 'advancement', 'signification', 'severalise', 'arrangement', 'proclamation', 'zodiac', 'linked', 'annunciation', 'tear', 'simulator', 'selection', 'springiness', 'broach', '21', 'arse', 'map', 'valued', 'centilitre', '17', 'chlorine', 'centiliter', 'candela', 'deposit', 'overseas', 'fastness', 'loudness', 'depleted', 'intensity', 'cracking', 'sectionalisation', 'devour', 'divider', 'john', 'l.', 'h.', 'segmentation', 'partitioning', 'subsist', 'archive', 'downwardly', 'steering', 'innocent', 'grim', 'likelihood', 'belated', 'emerge', 'leftover', 'enactment', 'furcate', 'panther', 'felis', 'concolor', 'usher', 'secern', 'plaza', 'piss', 'blemish', 'travelling', 'suited', 'chastening', 'vet', 'troika', 'triplet', 'tercet', 'threesome', 'recount', 'versatile', 'v', 'rectification', 'slate', 'galax', 'urceolata', 'wandflower', 'procession', 'catamount', 'beetleweed', 'polonium', 'p.o', '84', 'lion', 'retentiveness', 'climb', 'premiere', 'mathematical', 'trinity', 'cougar', 'twelvemonth', 'topically', 'coltsfoot', 'pathfinder', 'extragalactic', 'nebula', 'anneal', 'speedily', 'promptly', 'ok', 'passion', 'spirited', 'depressed', 'dull', 'hive', 'radiocommunication', 'salt', 'covert', 'headed', 'gray', 'boniface', 'wine', 'mastermind', 'downhearted', 'air', 'feather', 'instrument', 'hereafter', 'tense', 'aright', 'initialise', 'carve', 'pursue', 'schema', 'poser', 'miniskirt', 'induct', 'gravid', 'grown', 'concealment', 'apparatus', 'chit', 'projection', 'sensationalistic', 'cull', 'balance', 'transmigrate', 'nowadays', 'yearling', 'waiter', 'informant', 'alerting', 'datum', 'overt', 'espouse', 'unrivaled', 'accelerator', 'enkindle', 'situs', 'theater', 'unkept', 'dig', 'redundance', 'heavy', 'threefold', 'corrupt', 'storm', 'troops', 'cannister', 'sturmabteilung', 'driveway', 'reappraisal', 'recapitulation', 'candid', 'depository', 'alarum', 'accompany', 'undefended', 'thither', 'surgery', 'fundamentally', 'that', 'beaver', 'bewilder', '90', 'detonating', 'reservoir', 'xerographic', 'copier', 'constitution', 'detonator', 'nutmeg', 'sluttish', 'privy', 'commode', 'tail', 'stocktaking', 'terminate', 'canful', 'invoke', 'standardization', 'parameter', 'index', 'cognize', 'simply', 'nurture', 'tabular', 'supplicant', 'broker', 'petition', 'trump', 'hindquarters', 'nut', 'bodied', 'hap', 'synchronisation', 'utmost', 'dot', 'unfastened', 'germ', 'reexamination', 'slender', 'habit', 'slight', 'consumption', 'pel', 'pod', 'seedcase', 'codfish', 'eff', 'art', 'treble', 'orchard', 'fuck', 'interlock', 'admission', 'rootage', 'reassessment', 'assailable', 'nonpareil', 'twofold', 'representation', 'galvanizing', 'unrivalled', 'genuinely', 'truth', 'tilt', 'axe', 'unmatched', 'originative', 'abreast', 'rump', 'derriere', 'invest', 'commit', 'sleep', 'someplace', 'bed', 'matchless', 'bang', 'dismiss', 'outdo', 'outflank', 'fanny', 'unmatchable', 'squeeze', 'bootleg', 'disastrous', 'keister', 'ignominious', 'inglorious', 'shiner', 'evoke', 'ass', 'endpoint', 'circumstantially', 'coach', 'screw', 'requirement', 'peerless', 'duo', 'gravel', 'hither', 'suction', 'handler', 'tush', 'falling', 'connecticut', 'stride', 'incidental', 'editorial', 'intensify', 'plot', 'blockage', 'chickenhearted', 'celebrate', 'oregon', 'heavily', 'ruling', 'age', 'camp', 'coterie', 'postal', 'alternating', 'battalion', '105', 'eubstance', 'undefendable', 'static', 'decibel', 'hahnium', 'dubnium', 'unitary', 'malus', 'pumila', 'mainframe', 'succeed', 'surveil', 'awry', 'contagion', 'unseasonable', 'omit', 'bathroom', 'brook', 'institutionalise', 'resist', 'upward', 'fend', 'fateful', 'actually', 'agriculturist', 'sinister', 'raiser', 'utilise', 'institutionalize', 'taping', 'icteric', 'cellphone', 'sale', 'prison', 'cubicle', 'flummox', 'upwards', 'appraisal', 'tabloid', 'beam', 'bomb', 'hay', 'league', 'ride', 'boob', 'tube', 'commendation', 'blind', 'merely', 'jam', 'ane', 'kibosh', 'perplex', 'stool', 'occlude', 'recognise', 'beat', 'eventuality', 'supercede', 'revalue', 'manipulation', 'tooshie', 'miscarry', 'chop', 'lavatory', 'assault', 'apace', 'potty', 'inauspicious', 'comparable', 'unfit', 'uncollectible', 'generator', 'synchronise', 'sluggish', 'intro', 'presentment', 'bonk', 'livelihood', 'spectre', 'interposition', 'withal', 'intervention', 'peril', 'merchandise', 'peripheral', 'synchronicity', 'extraneous', 'palms', 'elicit', 'wave', 'perm', 'negociate', 'contend', 'apprisal', 'percentage', 'agentive', 'coffee', 'eyepatch', 'mightiness', 'forrard', 'jazz', 'crapper', 'metallic', 'supererogatory', 'disciplinal', 'encoding', 'disciplinary', 'resurrect', 'bandit', 'imitate', 'throne', 'town', 'lecture', 'lav', 'reduction', 'jaundiced', 'telegraph', 'lily', 'livered', 'yellowish', 'hump', 'thorium', 'noel', 'duplication', 'prat', 'cognisant', 'assorted', 'mindful', 'posterior', 'buoy', 'zip', 'bum', 'blame', 'pinch', 'infinite', 'laid', 'exceptional', 'gauntry', 'localize', 'synchronism', 'synchronising', 'warrant', 'warrantee', 'william', 'nonparallel', 'rail', 'cadmium', 'shelter', 'cathexis', 'expend', 'logotype', 'infix', 'pillowcase', 'severally', 'united', 'backside', 'stomach', 'minuscule', 'quislingism', 'solo', 'modest', 'admonish', 'warn', 'monish', 'cognise', 'people', 'calibre', 'proffer', 'timber', 'colour', 'vividness', 'pedestal', 'bandstand', 'scram', 'standstill', 'battlefront', 'straw', 'assay', 'habituate', 'brake', 'exigency', 'scoop', 'plea', 'outdoor', 'gate', 'logic', 'market', 'lineal', 'province', 'smell', 'private', 'thrust', 'driving', 'parkway', 'provisional', 'favorable', 'merchant', 'trafficker', 'outlined', 'checkout', 'hinderance', 'standardized', 'rubber', 'flunk', 'betray', 'carpeting', 'potful', 'wad', 'conduce', 'property', 'dimension', 'rehabilitation', 'causa', 'nifty', 'lens', 'seller', 'arc', 'nonetheless', 'integrate', 'maturation', 'sting', 'gb', 'stipulation', 'muckle', 'foray', 'heighten', 'comply', 'bankruptcy', 'fundament', 'cornerstone', 'fructify', 'thusly', 'prognosis', 'outlawed', 'empower', 'gent', 'coping', 'tangency', 'cylinder', 'downwards', 'doorstep', 'warhead', 'idiot', 'convertor', 'enclosing', 'inclosure', 'envelopment', 'mesa', 'cook', 'hollow', 'synchrony', 'hr', 'divided', 'stateless', 'displaced', 'steradian', 'neighborhood', '38', 'ascent', 'acclivity', 'telly', 'prompting', '60', 'impinging', 'stuff', 'explore', 'observing', 'green', 'ingroup', 'battle', 'coloring', 'yellowed', 'taste', 'altogether', 'idle', 'standpoint', 'stress', 'bridle', 'neat', 'patently', 'seemingly', 'subscriber', 'repeat', 'wearisome', 'dissemble', 'adequate', 'pocket', 'tantamount', 'improving', 'telecasting', 'interstitial', 'stimulating', 'hormone', 'theoretical', 'pronounced', 'consistence', 'decimal', 'casing', 'commend', 'maria', 'politician', 'macedon', 'horse', 'launching', 'peradventure', 'middleman', 'arouse', 'specially', 'reveal', 'rabble', 'hone', 'appearance', 'obstruct', 'liberty', 'maculation', 'dialog', 'fleck', 'hoopla', 'provender', 'oblige', 'gore', 'bandage', 'keen', 'collectible', 'dynamical', 'undermentioned', 'intercrossed', 'marketer', 'engender', 'vulgar', 'consternation', 'dependent', 'provoke', 'stir', 'bragging', 'compulsory', 'dumbfound', 'hills', 'couch', 'mesh', 'brute', 'heartbeat', 'bulb', 'mystify', 'souvenir', 'relic', 'keepsake', 'distributor', 'raft', 'verbalise', 'administer', 'invariably', 'hightail', 'hardened', 'accomplishment', 'airt', 'skill', 'frequency', 'euphony', 'stimulus', 'rat', 'canal', 'mike', 'blockade', 'dock', 'stymy', 'capability', 'goggle', 'chase', 'firm', 'frankfort', 'funny', 'niggling', 'oxygen', 'spillage', 'acquittance', '8', 'freeing', 'vent', 'bribe', 'hyperkinetic', 'syndrome', 'ease', 'shred', 'regaining', 'pipe', 'watchword', 'ill', 'lowly', 'piazza', 'upwardly', 'impediment', 'reproduction', 'cheque', 'sectionalization', 'mighty', 'notwithstanding', 'constellation', 'levy', 'rigor', 'utilitarian', 'satisfactory', 'marvel', 'merry', 'zippy', 'void', 'prescribe', 'electrify', 'ordain', 'annul', 'stave', 'upsurge', 'intercourse', 'leakage', 'quintuplet', 'sensation', 'phoebe', 'dapple', 'sorting', 'notch', 'pas', 'expedition', 'gear', 'perpetually', 'pet', 'choke', 'violent', 'vocalism', 'fracture', 'megabit', 'scream', 'wherefore', 'mending', 'muddle', 'apprehended', 'quad', 'awake', 'motionless', 'dormant', 'nonoperational', 'outspoken', 'sad', 's', 'securities', 'constant', 'bless', 'suspension', 'surrender', 'integrating', 'ontogenesis', 'evidently', 'commencement', 'strontium', 'heretofore', 'residue', 'disbursal', 'breathe', 'reincarnate', 'winder', 'denounce', 'purge', 'sick', 'splash', 'tap', 'lighter', 'distaff', 'hookup', 'manlike', 'darn', 'signify', 'quat', 'virile', 'silver', 'crt', 'entanglement', 'scuttlebutt', 'symptomatic', 'radical', 'exclude', 'beograd', 'tack', 'infect', 'operative', 'unsweet', 'bunco', 'bucks', 'waistcoat', 'singlet', 'undershirt', 'mickle', 'malfunctioning', 'serbia', 'montenegro', 'dumb', 'deadening', 'hardship', 'nonstarter', 'betoken', 'rigourousness', 'groove', 'severeness', 'vacuous', 'armory', 'suss', 'hale', 'curtain', 'white', 'killing', 'aggregate', 'demesne', 'steel', 'ticking', 'salve', 'undertake', 'equivalence', 'comparing', 'confront', 'comparability', 'parallel', 'network', 'reassure', 'goody', 'meshwork', 'unmediated', 'unequal', 'reclaim', 'vocation', 'defer', 'verbatim', 'skin', 'posit', 'commonwealth', 'commodity', 'duet', 'lecturer', 'couplet', 'reviewer', 'dissolve', 'bread', 'butter', 'notecase', 'billfold', 'adherence', 'forbid', 'stimulation', 'connective', 'clangor', 'clash', 'beget', 'island', 'is', 't', 'shirt', 'hack', 'hype', 'jade', 'footstep', 'danau', 'measuring', 'regulate', 'occasion', 'bechance', 'preventative', 'bob', 'skip', 'increasingly', 'firmly', 'pour', 'thulium', 'burrow', 'doubly', 'judge', 'incorporate', 'headquarters', 'powers', 'lie', 'platter', 'scummy', 'rub', 'assembly', 'junior', 'ranking', 'manifest', 'plate', 'bolt', 'thunderbolt', 'forestall', 'metre', 'speckle', 'cay', 'mankind', 'understudy', 'puke', 'unfermented', 'empathise', 'seam', 'undivided', 'sharpness', 'hart', 'vane', 'www', 'fuzz', 'lineament', 'timbre', 'readjust', 'outset', 'designation', 'articulate', 'enounce', 'pronounce', 'oculus', 'bone', 'dispirited', 'defective', 'spoilt', 'risky', 'risk', 'unsound', 'forged', 'woods', 'everyplace', 'spoiled', 'inflammable', 'transcription', 'cage', 'immovable', 'forebode', 'discourage', 'automatise', 'automatize', 'grinder', 'hoagie', 'zep', 'wedge', 'briefly', 'defend', 'threatening', 'incorrectly', 'inspire', 'sustenance', 'weight', 'formalities', 'footmark', 'stair', 'dance', 'primer', 'reckoning', 'interruption', 'swing', 'humiliated', 'computation', 'viewpoint', 'buzz', 'pumped', 'deflect', 'impede', 'tendency', 'chum', 'caboodle', 'septic', 'arts', 'services', 'hassle', 'soil', 'pigboat', 'boat', 'uncovered', 'divulge', 'coffeehouse', 'impermanent', 'cargo', 'francis', 'scott', 'sire', 'breakthrough', 'mr.', 'mislaid', 'certainly', 'feb', 'proscribe', 'wrongful', 'devil', 'rag', 'cursorily', 'lender', 'someway', 'someways', 'hunky', 'dory', 'failing', 'behaviour', 'slide', 'oddment', 'clothes', 'patent', 'confused', 'formalise', 'productiveness', 'wallop', 'consonant', 'latitude', 'commodious', 'smashing', 'preference', 'prevention', 'virtually', 'research', 'succeeder', 'hope', 'thrifty', 'shaping', 'beware', 'irregular', 'mentation', 'mistakenly', 'admonition', 'monition', 'prodding', 'technology', 'cogitate', 'dangerous', \"ne'er\", 'knock', 'suppliant', 'conversion', 'arise', 'ignite', 'interaction', 'forepart', 'macro', \"e'er\", 'affixation', 'hail', '..', 'spectator', 'peter', 'partly', 'destruction', 'remnant', 'renege', 'flying', 'figurehead', 'prey', 'scandalmongering', 'chicken', 'metrical', 'ruddy', 'yellowness', 'crimson', 'carmine', 'reddened', 'rightful', 'unidentified', 'unnamed', 'bucket', 'iron', 'kindle', 'poke', 'disturb', '69', 'peculiarly', 'closedown', 'advertise', 'piffling', 'font', 'premature', 'kib', 'kbit', 'k', 'flushed', 'filmdom', 'rating', 'stagecoach', 'culture', 'fixture', 'rip', 'democracy', 'croak', 'xanthous', 'scarlet', 'deprivation', 'elongation', 'evince', 'sea', 'objective', 'nameless', 'topographic', 'inordinate', 'skim', 'nonentity', 'plunk', 'draught', 'calorie', 'cal', 'hallmark', 'lumper', 'bow', 'equality', 'equation', 'planetary', 'unanimous', 'ambit', 'pickle', 'italian', 'provision', 'labour', 'student', 'equipments', 'debug', 'copenhagen', 'accessories', 'micro', 'cracks', 'cracked', 'peer', 'comfortable', 'plugged', 'voltages', 'standoffs', 'loosen', 'seats', 'accessory', 'tighten', 'pulled', 'cords', 'inserted', 'stat', 'vice', 'greenwich', 'signs', 'sh', 'identifier', 'bytes', 'paths', 'reconfiguration', 'prefixes', 'secs', 'neighbor', 'spectrum', 'vt', 'probable', 'causes', 'informational', 'solicitation', 'warranted', 'completeness', 'accuracy', 'affiliates', 'assisting', 'neck', 'discomfort', 'relax', 'shock', 'rugged', 'declined', 'reallocated', 'charger', 'borrowing', 'deep', 'cool', 'cooling', 'reinstall', 'reinstalled', 'cleaner', 'vector', 'compromise', 'rev', 'noting', 'reputable', 'liable', 'heard', 'blinking', 'height', 'adjustable', 'landscape', 'concurrent', 'spine', 'healthy', 'recorder', 'mate', 'prepared', 'presume', 'ticked', 'clicker', 'folio', 'malfunction', 'implicitly', 'stranded', 'mercury', 'dramatically', 'reduced', 'refreshing', 'foil', 'concept', 'duck', 'modernization', 'amp', 'saver', 'dummy', 'stein', 'excellent', 'slack', 'shuttle', 'plural', 'courses', 'factory', 'torrent', 'legends', 'warcraft', 'heroes', 'thankfully', 'frameworks', 'velocity', 'hibernate', 'mote', 'organized', 'supports', 'communicates', 'accordance', 'pasting', 'gym', 'selling', 'programmes', 'likes', 'simplify', 'unnecessary', 'complexity', 'spends', 'odd', 'delighted', 'enjoys', 'mask', 'redistribute', 'laserjet', 'stands', 'distr', 'eclipse', 'thru', 'paid', 'tar', 'maximum', 'respectfully', 'voyager', 'legend', 'protector', 'meltdown', 'locker', 'tanks', 'reassigning', 'uncomfortable', 'doubts', 'seldom', 'tonight', 'converted', 'excellence', 'waive', 'replies', 'reflected', 'tracing', 'reallocation', 'expiring', 'decrypted', 'charcoal', 'flame', 'seated', 'danish', 'acquired', 'faxing', 'faxes', 'sticker', 'numeric', 'keypad', 'refurbished', 'mistakes', 'firstly', 'secondly', 'lots', 'efforts', 'festive', 'approaches', 'continued', 'relaxed', 'convince', 'senders', 'cryptographic', 'animated', 'deck', 'directors', 'obligations', 'intellectual', 'reminders', 'dispose', 'unwanted', 'copies', 'securely', 'shredder', 'trash', 'broadcasting', 'accountable', 'ceremony', 'jug', 'glasgow', 'resetting', 'subjects', 'adapt', 'univ', 'bumper', 'mart', 'puerto', 'arises', 'realising', 'listening', 'versa', 'played', 'carols', 'pkg', 'equip', 'ss', 'adaptors', 'manchester', 'eligibility', 'quarters', 'preparing', 'surveyed', 'inaccurate', 'copyright', 'retrieving', 'labelling', 'labels', 'majority', 'labelled', 'smooth', 'timing', 'shrink', 'slider', 'changer', 'held', 'restrictions', 'ran', 'supplying', 'methodology', 'finland', 'drivers', 'transferred', 'interfere', 'ergonomic', 'shoulder', 'introducing', 'fastest', 'unusable', 'deferred', 'behaving', 'weird', 'extender', 'defender', 'lives', 'compiling', 'emulators', 'idee', 'freezes', 'frustrated', 'utility', 'stuck', 'intervene', 'cleaned', 'lung', 'freed', 'logger', 'sponsorship', 'elite', 'internally', 'retire', 'donate', 'books', 'donation', 'readily', 'organizations', 'drafting', 'sponsorships', 'tips', 'plugging', 'degraded', 'programming', 'languages', 'ides', 'spider', 'painfully', 'becomes', 'licensed', 'picked', 'threads', 'thanking', 'announcements', 'advising', 'dependency', 'unlinking', 'instructed', 'postponed', 'cardholder', 'wars', 'streaming', 'pilot', 'preconditions', 'trim', 'feeder', 'workshops', 'reiterate', 'specifics', 'advisable', 'actively', 'segregate', 'gigs', 'docker', 'collaborating', 'snapshots', 'greyed', 'dispatching', 'indications', 'architects', 'diagrams', 'progressing', 'completing', 'preliminary', 'complications', 'environments', 'heating', 'orientation', 'satisfaction', 'aiming', 'encourage', 'retaining', 'collaborator', 'grows', 'prototypes', 'genius', 'airports', 'wrist', 'tablets', 'stereo', 'mainly', 'reluctant', 'overridden', 'conn', 'pow', 'dissemination', 'replying', 'scum', 'feeding', 'originally', 'od', 'sends', 'dictionary', 'clarifying', 'picker', 'organizational', 'allows', 'vats', 'mentioning', 'deleting', 'himself', 'wider', 'deployed', 'boarded', 'definitely', 'developers', 'unavailability', 'reinstalling', 'stations', 'exempt', 'costing', 'consumed', 'unlimited', 'busy', 'offensive', 'disallowed', 'symposium', 'reimbursable', 'meals', 'dinner', 'imaged', 'downgrade', 'downgrading', 'brilliant', 'goldsmith', 'dynamics', 'gladly', 'venue', 'pullman', 'consists', 'tiles', 'efficiency', 'divert', 'attacks', 'flags', 'claims', 'tutorials', 'grading', 'intake', 'grouped', 'published', 'communicated', 'eligible', 'recommendation', 'timeliness', 'warranties', 'expressly', 'regulated', 'regulatory', 'transmitting', 'wales', 'travels', 'cutie', 'rapid', 'sold', 'bookmarks', 'sprint', 'anticipation', 'pong', 'complains', 'closest', 'surge', 'optima', 'retardant', 'skipping', 'underlying', 'negative', 'isolated', 'examined', 'construe', 'differences', 'counterparts', 'simplistic', 'comparative', 'pinpoint', 'venturing', 'verbose', 'playing', 'identical', 'respects', 'unusually', 'stumbling', 'blocks', 'delicate', 'contributed', 'substantial', 'admittedly', 'harkening', 'carried', 'mill', 'throughout', 'interact', 'iii', 'postings', 'ticketing', 'matrix', 'pulp', 'fiction', 'obstacle', 'macs', 'seams', 'prof', 'trainings', 'enrolled', 'risers', 'wallpaper', 'supplied', 'amsterdam', 'slower', 'slowly', 'visuals', 'templates', 'hate', 'stacked', 'aligned', 'mkt', 'ulterior', 'extern', 'investing', 'pasta', 'thermal', 'arctic', 'negatively', 'pushed', 'extreme', 'interconnect', 'engaged', 'gained', 'policies', 'hanged', 'custody', 'ecosystem', 'forgotten', 'duct', 'beyond', 'modem', 'hybrids', 'forums', 'notebooks', 'unrecoverable', 'improvements', 'optimal', 'enhancements', 'discretion', 'optimize', 'discontinue', 'deletion', 'herein', 'portals', 'preferable', 'uhs', 'laminated', 'ret', 'sequence', 'abort', 'byte', 'percent', 'avg', 'decrypt', 'compressed', 'decompressed', 'comp', 'precedent', 'lifetime', 'endpoints', 'algorithm', 'secrecy', 'addressees', 'altered', 'falsified', 'pane', 'retrieved', 'resolves', 'putty', 'dies', 'standup', 'misses', 'ga', 'fixe', 'elegant', 'brightness', 'ore', 'marketplace', 'zoom', 'continua', 'fir', 'pun', 'carefully', 'partitions', 'utile', 'vagrant', 'wife', 'complicated', 'zipped', 'beside', 'kicking', 'feeds', 'exiting', 'reinstallation', 'singapore', 'escalations', 'connects', 'restored', 'traceability', 'coding', 'inconveniences', 'memberships', 'voting', 'replay', 'clarified', 'wa', 'unsolved', 'occurs', 'dirty', 'crashes', 'frozen', 'moves', 'dealt', 'imposed', 'rollout', 'biggest', 'tx', 'reasonably', 'arrives', 'obtained', 'indicative', 'protectors', 'lights', 'proceeding', 'recommendations', 'globe', 'coaches', 'clone', 'amendment', 'clones', 'cloning', 'contractors', 'herdman', 'suffering', 'bandwidth', 'broadband', 'chasing', 'insisting', 'descriptions', 'unblock', 'excluded', 'stable', 'qualifies', 'hierarchy', 'aha', 'timecard', 'untitled', 'originated', 'unaffected', 'insufficient', 'rebuilding', 'transported', 'unaware', 'tem', 'absences', 'totals', 'apex', 'scaling', 'disciplines', 'calculated', 'bash', 'madames', 'sirs', 'ten', 'icons', 'advises', 'statistics', 'serbian', 'abroad', 'naturally', 'hanks', 'administers', 'countries', 'allowances', 'crashed', 'commands', 'rem', 'unload', 'installers', 'wrapper', 'mapped', 'troubles', 'wondered', 'explains', 'generally', 'fingerprints', 'grayed', 'rational', 'ibm', 'hat', 'shed', 'matters', 'confusions', 'freshly', 'smoothly', 'safely', 'slows', 'experiments', 'involves', 'requiring', 'instances', 'tooling', 'overall', 'degradation', 'resulting', 'struggle', 'oh', 'intermittent', 'conf', 'pains', 'disconnecting', 'continuously', 'piedmont', 'mars', 'alley', 'classics', 'palace', 'krypton', 'revoking', 'authenticated', 'unprofessional', 'interrupting', 'conditions', 'achieved', 'productive', 'pixels', 'zones', 'submitting', 'timecards', 'thames', 'maven', 'variables', 'friendly', 'mistaken', 'savers', 'wallpapers', 'outgoing', 'mute', 'zipper', 'inconvenient', 'retrospectively', 'collection', 'sylvan', 'contaminants', 'transmissions', 'corrupted', 'incomplete', 'defects', 'remedial', 'relating', 'tacking', 'debugging', 'effectiveness', 'sized', 'surprise', 'handy', 'advertised', 'ties', 'nicely', 'belfast', 'suggestions', 'reconciliation', 'reused', 'forgetting', 'backbone', 'attn', 'toners', 'overlapping', 'snippet', 'esp', 'attributes', 'driven', 'quay', 'dublin', 'dream', 'assess', 'satchel', 'evolved', 'million', 'transparent', 'initiative', 'eating', 'answering', 'disrupt', 'orders', 'supporters', 'operates', 'victors', 'correspondent', 'tutorial', 'birmingham', 'cupboard', 'budgets', 'loaned', 'appearing', 'criteria', 'usability', 'entitled', 'lasts', 'handset', 'wiring', 'resizing', 'optimization', 'contrast', 'fly', 'suggests', 'playback', 'vc', 'limiting', 'thin', 'experimental', 'prerequisites', 'representatives', 'announces', 'laser', 'precision', 'bills', 'charges', 'turbo', 'boost', 'tall', 'perforce', 'shuts', 'beneath', 'blockers', 'imperative', 'hinders', 'objects', 'blackberry', 'opposite', 'transparency', 'backlit', 'lamp', 'lister', 'prenatal', 'objections', 'fro', 'reconnect', 'manages', 'familiar', 'nim', 'dram', 'chaplin', 'blinks', 'continuity', 'vivid', 'colors', 'flickers', 'jabber', 'liquid', 'noon', 'developed', 'unassigned', 'tweaks', 'unchanged', 'installer', 'string', 'exporting', 'interviews', 'suspecting', 'hires', 'walked', 'radar', 'accounted', 'bur', 'sticking', 'demanding', 'autonomy', 'glasses', 'es', 'uploads', 'geiger', 'hallo', 'auf', 'afferent', 'requisitions', 'designs', 'volunteering', 'addressing', 'girls', 'lf', 'felt', 'backspace', 'regression', 'undergoing', 'slave', 'slaves', 'vertically', 'underway', 'opposed', 'replenished', 'overheating', 'flickering', 'procedural', 'platinum', 'specialization', 'exceed', 'pads', 'telephones', 'recognizing', 'quit', 'pros', 'newest', 'legit', 'decrypting', 'ignored', 'attackers', 'err', 'issuer', 'poi', 'ama', 'rh', 'wk', 'emf', 'ess', 'attacker', 'exchanged', 'truthful', 'approx', 'governed', 'rep', 'yrs', 'ships', 'transceiver', 'copper', 'stacking', 'multilayer', 'griffin', 'milky', 'vanished', 'sell', 'stupid', 'overcome', 'unplugging', 'replacements', 'container', 'optional', 'aborted', 'developments', 'sensitivity', 'supplementary', 'expectations', 'commander', 'inputs', 'functionalities', 'retroactive', 'silicone', 'booting', 'bulgarian', 'kicks', 'advisors', 'attentive', 'begins', 'quantities', 'forecasts', 'addendum', 'anyways', 'evaluating', 'milestone', 'traveler', 'spooler', 'completes', 'biweekly', 'recurrent', 'spending', 'memories', 'tops', 'voce', 'conditioning', 'reroute', 'supervisor', 'amigos', 'redo', 'privileges', 'emulator', 'redirecting', 'wink', 'eliminated', 'mn', 'horizontal', 'waves', 'revision', 'fans', 'extensions', 'intensive', 'incurred', 'understandably', 'equipped', 'exploring', 'conquering', 'worlds', 'robotics', 'robot', 'standing', 'bonjour', 'lacking', 'tethering', 'tit', 'midnight', 'touching', 'diagram', 'giveaway', 'combo', 'innovative', 'negro', 'chatting', 'anybody', 'objection', 'specialists', 'budgeting', 'staging', 'optionally', 'expandable', 'optimally', 'describes', 'wizard', 'latin', 'collation', 'analyzers', 'quarter', 'fellas', 'incredibly', 'unsuitable', 'bottleneck', 'stressful', 'capped', 'fees', 'translated', 'misspell', 'reactive', 'bookmark', 'latency', 'bye', 'grit', 'quant', 'faits', 'tout', 'donne', 'coolers', 'buffer', 'expects', 'noisy', 'terminals', 'adjunct', 'sector', 'wasting', 'budgeted', 'checkup', 'lid', 'ahoy', 'fuji', 'sources', 'deducted', 'assignments', 'favorites', 'cumulative', 'allege', 'refrain', 'minis', 'happily', 'depends', 'eager', 'murphy', 'clarity', 'routed', 'learnt', 'spreading', 'precautionary', 'madrid', 'melbourne', 'atlanta', 'bothering', 'executable', 'outages', 'finalizing', 'nights', 'bundled', 'aggregated', 'formed', 'repairs', 'replenishing', 'sing', 'curious', 'sublime', 'reproducible', 'unlocked', 'deteriorated', 'ripped', 'antenna', 'tracks', 'interesting', 'lazy', 'snacks', 'villa', 'chord', 'fps', 'senor', 'distributive', 'multitasking', 'slowing', 'stories', 'references', 'infos', 'viewable', 'thinks', 'ole', 'randomly', 'tend', 'cutting', 'mains', 'struggling', 'workbench', 'commits', 'doctors', 'picking', 'downloading', 'dude', 'bulletins', 'died', 'impediments', 'technicians', 'clarke', 'scheduling', 'tons', 'unplugged', 'esthetic', 'specifying', 'lever', 'recycled', 'downloadable', 'recharge', 'fabulous', 'diverse', 'parental', 'gradually', 'consumes', 'lifter', 'intercompany', 'treated', 'turns', 'foreground', 'combinations', 'artifacts', 'varies', 'filed', 'stole', 'infirm', 'catalogues', 'stratus', 'reassignment', 'embedded', 'noises', 'celebration', 'restarts', 'joke', 'formats', 'spilled', 'drops', 'fulfillment', 'unblocked', 'rpm', 'timer', 'carrier', 'rainy', 'culprit', 'relates', 'adds', 'chargers', 'inherit', 'inconsistences', 'involvement', 'counted', 'chased', 'overload', 'mangers', 'modern', 'creators', 'vehicle', 'forte', 'rue', 'luxembourg', 'contractually', 'diagramming', 'cervical', 'gentleman', 'purple', 'infections', 'circulate', 'strikes', 'partnership', 'circles', 'upper', 'edinburgh', 'lisbon', 'diary', 'dutch', 'consoles', 'enquiries', 'lucky', 'confident', 'coded', 'crazy', 'infrastructures', 'ramping', 'decreased', 'superseded', 'juts', 'unapplied', 'tutors', 'urged', 'specifies', 'requisites', 'possibilities', 'builds', 'mousses', 'beautiful', 'pics', 'participated', 'agrees', 'explanatory', 'etna', 'clipboards', 'documented', 'enters', 'hanging', 'sin', 'wold', 'lockable', 'produced', 'layered', 'robust', 'stronger', 'drawer', 'locks', 'ensures', 'presumably', 'reserving', 'canceled', 'resolutions', 'merger', 'rolled', 'complement', 'yale', 'alternatives', 'sharer', 'sides', 'hazards', 'unfamiliar', 'distinguished', 'sharper', 'ache', 'cabling', 'nearest', 'withdrawn', 'workload', 'complementary', 'minimize', 'curs', 'cts', 'colleges', 'angular', 'cup', 'temporally', 'emerging', 'aria', 'recurring', 'reallocate', 'interacting', 'pardon', 'ignorance', 'tags', 'rebill', 'scales', 'buffers', 'reconnecting', 'gracefully', 'resulted', 'hacked', 'elsewhere', 'uploading', 'circled', 'fulfilling', 'bridged', 'unacceptable', 'tokens', 'corning', 'movements', 'nil', 'lifting', 'redoing', 'lr', 'presents', 'suffered', 'duos', 'regulations', 'airlines', 'numerical', 'submits', 'curiosity', 'remedied', 'hinges', 'hinge', 'benchmark', 'performs', 'witch', 'persisted', 'asses', 'suddenly', 'fulfilled', 'kudos', 'informative', 'evident', 'capturing', 'housekeeping', 'abandoned', 'telescopic', 'raises', 'neptune', 'attitude', 'angles', 'velcro', 'strap', 'steam', 'classes', 'civil', 'penal', 'sect', 'conclusions', 'repartition', 'scrolling', 'extensively', 'hopping', 'walls', 'pf', 'nylon', 'gentle', 'continuing', 'reconciliations', 'australia', 'planed', 'projecting', 'tonner', 'scarce', 'aloud', 'retained', 'resigned', 'bugger', 'confusion', 'recalculated', 'olympus', 'nix', 'counterpart', 'natively', 'disrupting', 'inspect', 'envelope', 'composed', 'seeking', 'routes', 'isolate', 'directions', 'soap', 'hook', 'physic', 'asterisk', 'collaborate', 'assessed', 'yep', 'siting', 'boys', 'clarifies', 'visited', 'taipei', 'pinging', 'strict', 'misdirected', 'reappeared', 'tamper', 'hoc', 'fits', 'interferes', 'feasible', 'shielded', 'collectors', 'illustrate', 'evil', 'stickers', 'unread', 'atom', 'notepad', 'slowness', 'syncing', 'guru', 'certified', 'glitches', 'lesser', 'arguments', 'thicket', 'reproducing', 'armour', 'categories', 'cumbersome', 'cordless', 'danger', 'counting', 'disappointed', 'fulltime', 'acknowledgement', 'blurry', 'fonts', 'audits', 'stingray', 'prohibit', 'conversations', 'containers', 'inactivated', 'fob', 'claimed', 'delaying', 'strings', 'begging', 'court', 'west', 'unresponsive', 'repeated', 'notices', 'jar', 'mitigating', 'calendars', 'entail', 'ages', 'contrary', 'weirdly', 'conveyed', 'hers', 'rearrange', 'someday', 'leather', 'repetition', 'sine', 'macintosh', 'misspelled', 'bullet', 'peoples', 'phases', 'loaning', 'transporting', 'uranus', 'loading', 'calc', 'enjoyed', 'fallback', 'prague', 'czech', 'reaches', 'holds', 'whit', 'shares', 'wester', 'resignation', 'war', 'tennis', 'videos', 'backlog', 'resides', 'cute', 'debts', 'periods', 'capless', 'failures', 'experiment', 'turnaround', 'workers', 'nude', 'wallboard', 'owns', 'whereas', 'brings', 'proudly', 'reachable', 'bets', 'envelopes', 'crate', 'excepting', 'degrees', 'stationary', 'matching', 'whats', 'harm', 'mainstream', 'nested', 'simplest', 'explored', 'arch', 'replicating', 'fobs', 'promptitude', 'hotline', 'dated', 'bitte', 'dank', 'rescheduled', 'ether', 'consisted', 'pink', 'mounts', 'authenticate', 'persistent', 'tonners', 'consignment', 'scop', 'worried', 'alphabetical', 'wasted', 'accomplished', 'extending', 'rf', 'pets', 'stayed', 'organizing', 'downloads', 'lockout', 'misc', 'pleasant', 'accumulated', 'imported', 'rename', 'timers', 'selecting', 'castile', 'bonus', 'herself', 'yup', 'andes', 'rolls', 'overwritten', 'deposited', 'blah', 'branches', 'accelerate', 'sincere', 'compete', 'suits', 'treating', 'diesel', 'footnote', 'confirms', 'vandals', 'receivables', 'vulcan', 'differs', 'transit', 'width', 'innovate', 'strangely', 'disturbing', 'statistic', 'downgraded', 'ranges', 'quota', 'chargeable', 'nutrition', 'sorts', 'unsuccessfully', 'attendance', 'forecasting', 'figuring', 'flexibility', 'directing', 'broadcasted', 'intermediate', 'broadcasts', 'overloading', 'creatures', 'humidity', 'subtype', 'jumps', 'memorable', 'amongst', 'blanc', 'vesuvius', 'everest', 'collected', 'restock', 'cleanups', 'expanded', 'federation', 'charts', 'shiniest', 'occasional', 'importing', 'retry', 'programmer', 'edited', 'mockups', 'troubleshooter', 'debit', 'panic', 'patient', 'underneath', 'molded', 'reversed', 'receptions', 'genera', 'promotional', 'collaborative', 'delegation', 'viewers', 'contributors', 'interruptions', 'tweak', 'renamed', 'convention', 'belay', 'weak', 'places', 'moore', 'nitro', 'theses', 'installs', 'guides', 'hora', 'implicate', 'annum', 'luminosity', 'sudden', 'hangouts', 'jammed', 'licencing', 'impossibility', 'weather', 'bends', 'interactive', 'swapping', 'radiator', 'anniversary', 'recreated', 'explanations', 'clue', 'represented', 'nowhere', 'deteriorate', 'frustration', 'organizer', 'density', 'visually', 'inspected', 'fastener', 'delivers', 'powering', 'realizing', 'misunderstandings', 'ugly', 'surveillance', 'effects', 'disposed', 'threaded', 'refurbish', 'stocked', 'hedgehog', 'undertaken', 'bugging', 'nodes', 'zen', 'messing', 'boards', 'irrelevant', 'lo', 'mirrored', 'ox', 'chaperoned', 'occasions', 'lined', 'streams', 'conflicts', 'conflicting', 'talented', 'lottery', 'triple', 'inadvertently', 'resubmitted', 'oops', 'phoned', 'scree', 'apprentice', 'envisaged', 'decommissioning', 'stills', 'undefined', 'composing', 'dying', 'sonar', 'lib', 'twisted', 'aspects', 'whichever', 'hiccups', 'vetting', 'cache', 'occupying', 'barely', 'sees', 'noticing', 'insured', 'colored', 'collaborated', 'vague', 'blurred', 'beeping', 'intermittently', 'glitch', 'texts', 'promoted', 'launched', 'inputting', 'clicks', 'dependencies', 'disappears', 'nuisance', 'bio', 'routines', 'fatal', 'encounters', 'reverted', 'ought', 'repairing', 'joins', 'chats', 'embarked', 'journey', 'gradual', 'expectation', 'tor', 'refusing', 'annoy', 'fired', 'overwrite', 'queued', 'prints', 'trademarks', 'telecommunications', 'objectives', 'ancillary', 'migrations', 'faithfully', 'fortnightly', 'fiddler', 'customized', 'detects', 'deletes', 'keyset', 'lowering', 'trains', 'knowing', 'scheduler', 'reproduced', 'hangs', 'occurring', 'drastically', 'explicit', 'undo', 'typed', 'paused', 'fight', 'unauthenticated', 'responsiveness', 'stalls', 'concrete', 'transformation', 'spikes', 'pointers', 'viable', 'burn', 'blast', 'loosing', 'unsaved', 'widows', 'automata', 'stakeholder', 'postmaster', 'designates', 'originating', 'banners', 'dialing', 'typos', 'categorized', 'bugged', 'disruptions', 'tare', 'reconfigure', 'wobbly', 'fared', 'surveys', 'caught', 'chaotic', 'tunneling', 'caller', 'creator', 'risen', 'messed', 'shrinking', 'enjoying', 'unhappy', 'diagnostics', 'recharging', 'solves', 'rentals', 'beach', 'guaranteed', 'resolvable', 'finals', 'accident', 'friends', 'mission', 'emphasize', 'evaluated', 'drawn', 'welcoming', 'dietary', 'prizes', 'cooking', 'rarely', 'popped', 'closes', 'incase', 'explaining', 'trials', 'audible', 'loud', 'binary', 'comprises', 'weekends', 'statuses', 'validation', 'sow', 'implications', 'experiences', 'consistently', 'wont', 'caches', 'bus', 'indexing', 'snip', 'poured', 'advices', 'cached', 'disruptive', 'harper', 'prevents', 'recreation', 'todays', 'succeeded', 'loses', 'continually', 'trap', 'handles', 'pease', 'col', 'retried', 'predefined', 'indefinitely', 'countdown', 'deeper', 'authenticating', 'reacting', 'sliding', 'feels', 'spill', 'norway', 'ow', 'dibs', 'cuts', 'duce', 'waited', 'motorcycle', 'chars', 'wholesale', 'distributing', 'sporadic', 'fills', 'movies', 'cashed', 'symbols', 'throws', 'endlessly', 'responds', 'writes', 'typing', 'clips', 'huron', 'ontario', 'unsupported', 'distributions', 'unix', 'restricts', 'segments', 'ops', 'interfaces', 'reparation', 'dues', 'payroll', 'residual', 'initialization', 'caching', 'duplicated', 'symptom', 'intentional', 'consistent', 'hampering', 'pushes', 'hidden', 'prevented', 'brink', 'blink', 'shortages', 'terrible', 'publisher', 'improperly', 'registers', 'empire', 'dad', 'intense', 'intervals', 'factors', 'quo', 'cpi', 'repositories', 'guitar', 'phrase', 'erasing', 'flapping', 'margins', 'reoccur', 'indicates', 'massively', 'launches', 'illustrated', 'shots', 'shortage', 'eliminating', 'fewer', 'interrupts', 'challenging', 'behaves', 'shortcut', 'malfunctions', 'ate', 'wins', 'shifted', 'involving', 'enforcing', 'dialogue', 'unchecked', 'disappearing', 'excels', 'indefinite', 'metered', 'spelled', 'circulating', 'headings', 'forcibly', 'disables', 'unprotected', 'transient', 'diagnose', 'illumination', 'invoked', 'sharp', 'watching', 'convinced', 'interfering', 'flicker', 'pinged', 'jumped', 'proving', 'reopening', 'complained', 'spinning', 'alleviated', 'bounced', 'subscriptions', 'maintains', 'unreliable', 'imbedded', 'resumes', 'distorted', 'signals', 'overloaded', 'electrician', 'transactor', 'hops', 'flashing', 'reconnects', 'badly', 'collateral', 'finder', 'inconsistencies', 'singular', 'attended', 'inability', 'brains', 'endive', 'brick', 'reacted', 'buenos', 'suspicion', 'diaries', 'oddly', 'workable', 'rectified', 'obliged', 'syntax', 'sporadically', 'tends', 'meaningful', 'meets', 'magic', 'deals', 'drafts', 'reoccurred', 'plays', 'strength', 'spots', 'recordings', 'receivers', 'xmas', 'lasted', 'gathering', 'dockers', 'tricks', 'victim', 'remembers', 'inserting', 'mc', 'thorough', 'dialling', 'ringing', 'thrown', 'progressed', 'exemption', 'volumes', 'orion', 'college', 'tricky', 'bounded', 'traditional', 'batches', 'maintaining', 'oxford', 'planner', 'relying', 'mismatch', 'tiger', 'speeds', 'contracted', 'captain', 'den', 'producer', 'blackout', 'utilized', 'filtered', 'removes', 'centralized', 'parse', 'ensuring', 'athens', 'pol', 'relational', 'duplicator', 'refined', 'retainer', 'bleak', 'calamitous', 'stirred', 'cervix', 'cogent', 'noesis', 'magazine', 'installment', 'microscope', 'apportionment', 'pinnacle', 'penalty', 'acme', 'obtuse', 'registrar', 'unharmed', 'paging', 'brace', 'opprobrious', 'blackened', 'smutty', 'pitch', 'subdivision', 'grower', 'smuggled', 'flag', 'manufacturing', 'divvy', 'dictate', 'gratefully', 'tumbler', 'grueling', 'occultation', 'nonplus', 'maximal', 'megabyte', 'robotlike', 'demode', 'chest', 'stall', 'unimaginable', 'insufferable', 'govern', 'aboriginal', 'squall', 'ping', 'callback', 'joyride', 'disengage', 'individuality', 'ceremonial', 'courser', 'jugful', 'manful', 'robotic', 'chew', 'drinking', 'regularize', 'frailty', 'chill', 'cultivator', 'regularise', 'improper', 'untimely', 'methodological', 'transpose', 'cock', 'angle', 'unserviceable', 'surd', 'corporation', 'elect', 'itinerary', 'clause', 'harrow', 'warfare', 'contingence', 'quid', 'bidding', 'textbook', 'pulse', 'conflux', 'concourse', 'homeless', 'possibleness', 'nontaxable', 'blueprint', 'lading', 'despatch', 'mood', 'consecutive', 'pliant', 'rotation', 'ploughshare', 'cheap', 'bully', 'focal', 'professor', 'patron', 'importantly', 'retentivity', 'strive', 'optimise', 'dictation', 'orchestra', 'galvanic', 'dungeon', 'finger', 'shielder', 'terminology', 'cautiously', 'varlet', 'page', '76', 'passe', 'unify', 'lighting', 'knockoff', 'unchanging', 'prick', 'agriculturalist', 'deficient', 'adoption', 'academic', 'perturb', 'outcry', 'fingermark', 'fund', 'elucidate', 'fat', 'handgrip', 'variable', 'northern', 'ireland', 'chapiter', 'unfeignedly', 'reside', 'scanty', 'desexualise', 'haywire', 'resize', 'prescribed', 'mackintosh', 'preciseness', 'windowpane', 'canister', 'inverse', 'ho', 'hum', 'poise', 'racing', 'elemental', 'hang', 'colouring', 'osmium', 'twosome', 'palpate', 'methamphetamine', 'hydrochloride', 'tokenish', 'finishing', 'irksome', 'overlook', 'span', 'scarper', 'speculative', 'unneeded', 'footprint', 'stake', 'impingement', 'racial', 'waver', 'unuseable', 'supernumerary', 'gruelling', 'toilsome', 'metier', 'foundation', 'hustle', 'cowcatcher', 'flick', 'headache', 'mack', 'gradation', 'retro', 'revise', 'automaton', 'lifespan', 'chain', 'mountains', 'incarnate', 'pivot', 'favorite', 'bite', 'schooling', 'orotund', 'mates', 'transmittal', 'undergo', 'illegitimate', 'iteration', 'demeanor', 'chaw', 'artefact', 'ethnic', 'amply', 'forrad', 'cave', 'meliorate', 'percipient', 'detach', 'bead', 'lawsuit', 'heap', 'scholarship', 'gbit', 'notion', 'stevedore', 'demarcation', 'thoughtful', 'pretermit', 'galvanising', 'refine', 'decrease', 'relieve', 'ingredient', 'snatch', 'development', 'promissory', 'compeer', 'teeth', 'petitioner', 'kibibyte', 'thunderclap', 'classify', 'clang', 'hide', 'standardisation', 'exert', 'revolutions', 'paw', 'hyperactivity', 'boring', 'basal', 'reconcile', 'wordplay', 'waffle', 'numeration', 'kitty', 'characteristic', 'bust', 'deform', 'befall', 'fivesome', 'machinelike', 'miserable', 'gasbag', 'toned', 'proviso', 'indorse', 'consecrated', 'gaining', 'sterilize', 'nightlong', 'fuze', 'married', 'nose', 'stem', 'vendee', 'texas', 'audited', 'echo', 'stash', 'satisfying', 'pole', 'bombshell', 'degrade', 'tedious', 'piteous', 'overleap', 'inaccessibility', 'rage', 'elaborated', 'distribution', 'footer', 'comportment', 'attendant', 'attender', 'dick', 'electrostatic', 'humbled', 'narrative', 'humidness', 'indiscriminately', 'innovation', 'collect', 'difficultness', 'participation', 'contributor', 'niche', 'purchaser', 'delegating', 'fastening', 'hurt', 'vermont', 'dissolute', 'hangout', 'typecast', 'recrudesce', 'pileus', 'wishing', 'canonic', 'grasp', 'birdcall', 'unq', 'surmisal', 'sterilise', 'punch', 'muriel', 'vanish', 'association', 'feign', 'deluge', 'lam', 'frost', 'explicate', 'trademark', 'passage', 'wedded', 'guinea', 'achiever', 'tiresome', 'outwardly', 'french', 'distinct', 'mastered', 'intelligent', 'kettle', 'confederation', 'grummet', 'outward', 'nosology', 'gulf', 'hurrying', 'chronological', 'visualize', 'doings', 'hoard', 'dole', 'throng', 'caliber', 'manufacture', 'prescript', 'slacken', 'arcsecond', 'burner', 'fixate', 'lengthy', 'rotter', 'lowlife', 'postfix', 'masquerade', 'chequer', 'incapable', 'delaware', 'distort', 'phoner', 'capableness', 'eagle', 'inconsistency', 'dash', 'artifact', 'sic', 'portugal', 'reflex', 'spur', 'david', 'demerit', 'seq', 'acre', 'subcontractors', 'revalidated', 'validates', 'presuming', 'oats', 'nab', 'kiev', 'ukraine', 'reconfirm', 'nearing', 'resets', 'initiator', 'postman', 'environmental', 'recommends', 'stages', 'trunks', 'ported', 'claus', 'visibly', 'asian', 'newcomers', 'reservations', 'octet', 'conditioner', 'population', 'uplink', 'uplinks', 'originals', 'obi', 'suggesting', 'soonest', 'compromises', 'approximated', 'segregated', 'tun', 'outpost', 'sweden', 'samples', 'enforceable', 'interned', 'dodo', 'compensating', 'forma', 'exceeds', 'garage', 'mage', 'mediation', 'entirety', 'famed', 'mss', 'overruns', 'collisions', 'publicly', 'considerate', 'juridical', 'workout', 'exposes', 'assumptions', 'thursdays', 'cautious', 'consolidate', 'auditor', 'compute', 'scrubbing', 'enumerating', 'discontinuation', 'evolution', 'internationalize', 'hungary', 'generates', 'reliant', 'assured', 'flagged', 'thresholds', 'percentages', 'coordinated', 'radius', 'necessities', 'signatures', 'careers', 'dots', 'pleases', 'resurrecting', 'kilos', 'estimating', 'draws', 'proves', 'chapmen', 'cabinets', 'hungry', 'amps', 'commando', 'volts', 'arcing', 'rundown', 'fed', 'couplers', 'paternal', 'urn', 'protocols', 'multiplied', 'spit', 'resilience', 'resiliency', 'cells', 'deploys', 'throughput', 'balancing', 'depreciation', 'amortization', 'positioned', 'niggles', 'refreshed', 'scaled', 'documenting', 'clusters', 'plumbing', 'misunderstood', 'replaces', 'timeouts', 'bluecoat', 'bathrooms', 'characteristics', 'stipulated', 'intrusive', 'orwell', 'basement', 'wording', 'yourselves', 'occupiers', 'asbestos', 'planners', 'permits', 'tenants', 'demise', 'spacing', 'drawings', 'langley', 'csp', 'eh', 'contest', 'mapper', 'knowledgeable', 'auditors', 'cambridge', 'probed', 'prolonged', 'inserts', 'byes', 'cacti', 'arbitrate', 'clustered', 'quorum', 'bridges', 'determined', 'digging', 'cloned', 'reconnoiter', 'severs', 'retries', 'sectors', 'mappings', 'therefor', 'independence', 'affords', 'impending', 'relay', 'suspending', 'mutate', 'inefficiently', 'persisting', 'grew', 'exhaustion', 'manila', 'diversity', 'hilltop', 'estimations', 'italy', 'centralize', 'redeploy', 'wow', 'collecting', 'exposition', 'hugs', 'moms', 'spotting', 'summarized', 'eon', 'placer', 'sundays', 'overflowed', 'enhanced', 'strengthen', 'gram', 'banks', 'authorities', 'exceeded', 'aborting', 'paged', 'balanced', 'studying', 'concepts', 'frames', 'modes', 'seaman', 'rollback', 'celts', 'recommending', 'guideline', 'masters', 'bot', 'milestones', 'oslo', 'switchboard', 'counters', 'kafka', 'songs', 'decapsulate', 'nouveau', 'mezzanine', 'proxies', 'avatar', 'revisions', 'refinance', 'versus', 'rapport', 'outbreak', 'wrights', 'restated', 'wolves', 'takeing', 'commented', 'summarizes', 'importer', 'fantasy', 'delegated', 'grants', 'academy', 'experimenting', 'fruition', 'showcased', 'sought', 'translator', 'daresay', 'disseminate', 'evaluates', 'bastion', 'tunnels', 'finises', 'analyses', 'revers', 'awards', 'constraints', 'sitz', 'bitten', 'methods', 'typo', 'easiest', 'bidirectional', 'broadly', 'mayo', 'checkpoint', 'newsletters', 'amends', 'articles', 'regularity', 'guidelines', 'brevity', 'isms', 'centres', 'mangling', 'obfuscation', 'rehearsal', 'behaviors', 'newark', 'gaps', 'coster', 'hick', 'pushy', 'allotted', 'integrations', 'opp', 'colombian', 'ascending', 'authorizations', 'unsafe', 'exchanges', 'occupier', 'differential', 'muscat', 'uniform', 'timings', 'dismissed', 'conditional', 'samba', 'enforcement', 'beck', 'kl', 'rung', 'herr', 'competence', 'cst', 'synchronous', 'captures', 'listeners', 'initialized', 'queueing', 'dependents', 'asynchronous', 'founded', 'folded', 'valuta', 'lunar', 'detailing', 'forwarders', 'dumps', 'kernels', 'purged', 'redirects', 'existents', 'validations', 'observations', 'welcomed', 'uniquely', 'nearby', 'revisal', 'tremendously', 'programmed', 'stumbled', 'miscreant', 'cryptography', 'algorithms', 'chaining', 'symmetric', 'weaker', 'recheck', 'enumerated', 'builded', 'nod', 'analyzing', 'exploitable', 'typically', 'leverages', 'thailand', 'cia', 'widely', 'slog', 'wildcard', 'ecosystems', 'staffing', 'abilities', 'rewrite', 'weighs', 'tunneled', 'rec', 'residing', 'veritas', 'priorities', 'lessons', 'brainstorming', 'formulas', 'imp', 'tagged', 'digit', 'digits', 'consist', 'attendants', 'convergence', 'upstream', 'transiting', 'paired', 'additions', 'speeches', 'mistaking', 'collector', 'campaigns', 'fairness', 'enforced', 'calderon', 'crc', 'benchmarking', 'nonstop', 'tandem', 'calculation', 'incognito', 'directs', 'spoof', 'literally', 'ensured', 'enforces', 'duplicates', 'challenger', 'telephonic', 'entitlement', 'thoughtfully', 'albania', 'lowered', 'consisting', 'closuring', 'miscellaneous', 'agility', 'implementations', 'adjusts', 'escaped', 'consensus', 'slides', 'balancer', 'anomaly', 'moths', 'discrimination', 'ownerships', 'ascii', 'quoted', 'printable', 'encompass', 'apologizes', 'owning', 'crucible', 'fisheye', 'amounts', 'flawlessly', 'ascertaining', 'sheer', 'retracing', 'identifiable', 'lastly', 'overhaul', 'looms', 'tasked', 'diligent', 'arranging', 'approves', 'assessing', 'respectively', 'booted', 'reconstructed', 'fins', 'vacated', 'arbitrary', 'nom', 'hacking', 'personae', 'pup', 'willingness', 'departmental', 'exciting', 'achievements', 'terminates', 'whitehall', 'advisement', 'tty', 'pools', 'chaperoning', 'heater', 'residents', 'accidental', 'respondents', 'bamboo', 'industries', 'externalize', 'externalization', 'circulation', 'supplementing', 'gulp', 'listener', 'demonstrated', 'debtors', 'shiva', 'liverpool', 'bottlenecks', 'concomitantly', 'cit', 'employing', 'longest', 'midday', 'readable', 'logistics', 'justified', 'marsh', 'subscribing', 'egger', 'shear', 'happiest', 'photographer', 'grunt', 'disseminating', 'indexes', 'usages', 'attributed', 'spin', 'serves', 'flights', 'wheezy', 'subversion', 'understaffed', 'influenced', 'zealand', 'alto', 'analyzed', 'decoded', 'filenames', 'latches', 'ambient', 'obstructions', 'airflow', 'lit', 'qual', 'recognizes', 'signaled', 'backlogs', 'righted', 'accruals', 'renaming', 'adjacency', 'disrupted', 'destinations', 'inflight', 'airplane', 'losses', 'singleton', 'poorer', 'facilitates', 'safest', 'bolding', 'reimported', 'cents', 'diag', 'tuning', 'sanitization', 'nile', 'oz', 'stabile', 'midline', 'optimum', 'similarly', 'suppositions', 'lags', 'civic', 'hears', 'lunes', 'waits', 'contention', 'exterminate', 'overrides', 'fields', 'fades', 'responsibilities', 'trained', 'predicated', 'utopia', 'ales', 'flashes', 'bugs', 'unidirectional', 'scripting', 'directive', 'poisoning', 'triggering', 'poodle', 'logjam', 'bounce', 'pica', 'snippy', 'informs', 'secunda', 'insecure', 'pac', 'delegations', 'propagating', 'traces', 'frustrations', 'conflicted', 'lightly', 'rebus', 'slab', 'poets', 'cooperate', 'diagnosing', 'snappiness', 'rte', 'adapted', 'fridays', 'rows', 'weld', 'ridden', 'experimented', 'phys', 'counts', 'recurs', 'identifies', 'reseat', 'reseating', 'skeptical', 'abs', 'tome', 'overlaps', 'embarrassing', 'rated', 'struts', 'began', 'forcefully', 'queried', 'transitions', 'supplemented', 'flooding', 'hindering', 'inquiries', 'polling', 'externalized', 'stabilize', 'feedbacks', 'whomever', 'quantify', 'commons', 'pips', 'confuse', 'parsing', 'expressway', 'identities', 'notifier', 'masked', 'blown', 'acknowledging', 'mercurial', 'aux', 'mailed', 'sans', 'fragmentation', 'downtimes', 'dynamically', 'depletion', 'inactivity', 'peering', 'excluding', 'modifications', 'spiritualist', 'bright', 'ascendent', 'born', 'buckle', 'elementary', 'ukrayina', 'meshing', 'scalawag', 'scallywag', 'perception', 'sounder', 'asdic', 'arriere', 'pensee', 'consortium', 'masque', 'nucleus', 'pliable', 'ruler', 'populace', 'protract', 'spy', 'snoop', 'recuperate', 'etymon', 'knuckle', 'crumb', 'intermediation', 'hurry', 'tee', 'disconnection', 'enumeration', 'pond', 'aircraft', 'lymph', '48', 'publically', 'bequest', 'secretary', 'accumulative', 'advancing', 'yarn', 'authorisation', 'striver', 'tremendous', 'ringer', 'maraud', 'scouring', 'pep', 'circumference', 'f', 'sacking', 'jacket', 'hood', 'fender', 'crownwork', 'aviate', 'verge', 'rotational', 'drink', 'peaceful', 'improver', 'vacate', 'wangle', 'amphetamine', 'unscathed', 'competition', 'plotter', 'unsufferable', 'homework', 'chromosome', 'mailboat', 'implicit', 'twelve', 'touched', 'ancestor', 'ascendant', 'unfold', 'skunk', 'ohio', 'expo', 'exhibition', 'speedy', 'epithelial', 'superior', 'tom', 'franz', 'sleuth', 'wright', 'qualification', 'embrace', 'sail', 'citadel', 'dice', 'fussy', 'causal', 'modish', 'cream', 'symmetricalness', 'rigour', 'primarily', 'principally', 'graciously', 'competency', 'chequered', 'yard', 'inherited', 'unambiguously', 'learned', 'enormously', 'luggage', 'compartment', 'confederacy', 'occurrence', 'stinker', 'haltere', 'herewith', 'ascension', 'intercession', 'respondent', 'mania', 'hunter', 'excerpt', 'forces', 'neighbour', 'lord', 'gauge', 'wretched', 'dividing', 'materialize', 'aboard', 'watcher', 'dense', 'grimness', 'precarious', 'experient', 'committee', 'inward', 'hardly', 'em', 'blacklisted', 'technically', 'unleash', 'undelivered', 'rcpt', 'rotterdam', 'accumulations', 'moderator', 'seal', 'gal', 'titles', 'periscope', 'taxable', 'thats', 'seven', 'nationwide', 'walks', 'collate', 'slips', 'reserves', 'safeguard', 'ebb', 'measurements', 'maximize', 'outlining', 'cons', 'peers', 'relationships', 'drinks', 'discounted', 'chairing', 'composite', 'shareable', 'unapproved', 'collaborates', 'offerings', 'compensation', 'ledgers', 'revised', 'comer', 'promised', 'alignment', 'cohen', 'coordinates', 'formatted', 'preparer', 'reimbursements', 'boarding', 'lux', 'underscore', 'classification', 'evans', 'donations', 'epics', 'callers', 'pollinate', 'extras', 'whereby', 'suspicions', 'erased', 'querying', 'accrual', 'referral', 'partnerships', 'trustworthy', 'vehicles', 'ethics', 'goals', 'mileage', 'aimed', 'underground', 'offs', 'flows', 'outcomes', 'considerations', 'coaching', 'adj', 'balances', 'workbook', 'commenced', 'correlation', 'assessors', 'refresher', 'implied', 'istanbul', 'turkey', 'boston', 'headline', 'representing', 'edits', 'maturity', 'plantation', 'assignees', 'pertaining', 'toil', 'comers', 'remarks', 'navigation', 'historically', 'negotiation', 'reimburse', 'diem', 'administrate', 'historical', 'contra', 'withdrew', 'subscribers', 'schedules', 'fishing', 'synched', 'millennium', 'parity', 'journal', 'disputes', 'extracting', 'retrospective', 'attrition', 'formation', 'reads', 'vacancy', 'nightmare', 'characters', 'receipted', 'receipting', 'discrepancies', 'highlights', 'pipelines', 'sandpit', 'zephyr', 'initiatives', 'repetitive', 'automating', 'powwow', 'impressed', 'disappointing', 'congratulations', 'choices', 'kids', 'delicious', 'winners', 'statistical', 'subtasks', 'indicators', 'grades', 'patterns', 'populating', 'scottish', 'schemes', 'seeded', 'revenues', 'editable', 'officers', 'aging', 'sows', 'rang', 'faces', 'epic', 'evaluator', 'exclusions', 'unsolicited', 'tenant', 'trips', 'amending', 'airline', 'carriers', 'voucher', 'lifeline', 'recruiters', 'recoverable', 'funds', 'remittance', 'canton', 'nota', 'extracts', 'probation', 'lies', 'adjusting', 'departments', 'utilities', 'bounces', 'wanting', 'pulling', 'salad', 'nominated', 'pickles', 'reviews', 'verity', 'drafted', 'alterations', 'breakfast', 'zig', 'zag', 'overdue', 'inclusion', 'intuitive', 'withdrawal', 'welch', 'workloads', 'wherever', 'relies', 'agencies', 'executives', 'minds', 'retired', 'imports', 'replicated', 'unfinished', 'dada', 'richardson', 'registrations', 'mg', 'microsecond', 'shanghai', 'reseller', 'increases', 'avast', 'itemized', 'violations', 'occurrences', 'consolidated', 'engagers', 'prospects', 'subspace', 'elms', 'cabin', 'ibis', 'styles', 'kicked', 'verb', 'transformed', 'suppress', 'deliverable', 'dialed', 'instruments', 'handbook', 'linking', 'massage', 'modifying', 'preserved', 'geography', 'axiom', 'centers', 'featured', 'validity', 'communities', 'defining', 'reloaded', 'diva', 'supervised', 'midlands', 'vets', 'collins', 'originator', 'thanksgiving', 'predictive', 'markets', 'humans', 'accrued', 'halloween', 'penes', 'acronyms', 'islands', 'umbrella', 'dispatched', 'nay', 'nightly', 'conjunction', 'capitalized', 'falconer', 'raja', 'journals', 'silence', 'inheritance', 'splitting', 'poseidon', 'tidying', 'basing', 'reflecting', 'reimbursed', 'catering', 'reactivating', 'boeing', 'switzerland', 'financed', 'efficiencies', 'classifications', 'mile', 'indemnity', 'branded', 'hoped', 'subcategory', 'msec', 'comprised', 'acclaimed', 'ethical', 'economy', 'posts', 'forgive', 'bps', 'simplified', 'emptied', 'burns', 'provisions', 'numbering', 'sections', 'surprisingly', 'actionable', 'reinstated', 'celebrating', 'dragons', 'unicorns', 'firms', 'tactical', 'navigating', 'bespoke', 'fraction', 'throwing', 'quizzes', 'updater', 'simplification', 'esc', 'students', 'idem', 'panthers', 'afb', 'abc', 'nomination', 'conventions', 'tackle', 'invisible', 'restructuring', 'novelties', 'bribery', 'narratives', 'apogee', 'reporter', 'players', 'terse', 'women', 'redirection', 'kennedy', 'questionnaire', 'commercials', 'arf', 'anomalies', 'theirs', 'meal', 'nominations', 'arrows', 'criterion', 'messenger', 'apartments', 'successes', 'acknowledged', 'attorney', 'unintended', 'trapped', 'baa', 'spelling', 'creditor', 'thompson', 'rendered', 'limits', 'unaccounted', 'begun', 'oldest', 'bas', 'incorporating', 'cycling', 'ye', 'ageing', 'editors', 'underline', 'traps', 'cad', 'calculates', 'submitter', 'adaptable', 'adaptability', 'coordinating', 'mal', 'acceleration', 'markings', 'cocker', 'ic', 'currencies', 'tis', 'prepayment', 'iterative', 'descriptive', 'pepsi', 'unfilled', 'deputy', 'campbell', 'envisioning', 'perspectives', 'reconciled', 'contributing', 'unrelated', 'basics', 'openings', 'historic', 'vote', 'translations', 'promotions', 'vikings', 'samurai', 'gill', 'bolded', 'execs', 'hierarchies', 'fingertips', 'regency', 'buyers', 'mistyped', 'unzip', 'collectively', 'listings', 'calculators', 'annually', 'interviewers', 'duplicating', 'godfather', 'proved', 'bishops', 'unto', 'einstein', 'fleury', 'timetable', 'specialized', 'preceded', 'martinez', 'kong', 'minus', 'proximity', 'async', 'vie', 'math', 'extraction', 'mortgage', 'prefix', 'montgomery', 'pavan', 'franco', 'barrios', 'subset', 'unlink', 'escalating', 'mystery', 'africa', 'alp', 'magnifier', 'evaluators', 'overlooked', 'reimbursement', 'rn', 'synch', 'vacancies', 'variances', 'ens', 'multinational', 'hottest', 'practitioner', 'sigma', 'ham', 'featuring', 'assessments', 'entrepreneur', 'salesperson', 'lifelong', 'attribution', 'briefing', 'webster', 'varnish', 'roe', 'stared', 'invitations', 'describing', 'bower', 'dating', 'ques', 'engines', 'regret', 'summaries', 'referrals', 'magnifying', 'holyday', 'ads', 'centrally', 'workday', 'fundamentals', 'venezuela', 'bolivars', 'clearer', 'interestingly', 'revolutionized', 'drone', 'drones', 'scenes', 'chases', 'fires', 'streamed', 'aspiration', 'exams', 'tableau', 'operated', 'beg', 'vienna', 'testimonials', 'hod', 'federated', 'pasted', 'thumbnails', 'thumbnail', 'targets', 'flint', 'improves', 'placements', 'payed', 'angus', 'acknowledges', 'buttery', 'unblocking', 'reversing', 'lev', 'retains', 'inviting', 'skipped', 'touches', 'avoiding', 'situ', 'snipping', 'breaches', 'misspelling', 'levin', 'sexton', 'cgs', 'coupon', 'swiftly', 'splits', 'appendix', 'closeout', 'selector', 'horns', 'speedier', 'emphasis', 'acquisitions', 'executions', 'reorganize', 'continuation', 'impersonated', 'acquires', 'propagated', 'ingredients', 'sputa', 'slavery', 'trafficking', 'chains', 'laboratory', 'restatement', 'diverted', 'smile', 'soundproofed', 'intersections', 'solstice', 'opportunistic', 'habits', 'overflow', 'fetching', 'executor', 'miami', 'verbiage', 'fist', 'peso', 'harvard', 'locator', 'authenticator', 'serif', 'catchup', 'compressing', 'minuets', 'davies', 'helpers', 'refs', 'newsletter', 'halted', 'gecko', 'updaters', 'boolean', 'crawl', 'cornel', 'elapsed', 'editor', 'crook', 'berlin', 'firebase', 'barracuda', 'weighted', 'trusts'])"
            ]
          },
          "metadata": {},
          "execution_count": 121
        }
      ]
    },
    {
      "cell_type": "code",
      "source": [
        "model.train(vocab,total_examples=1, epochs=1)"
      ],
      "metadata": {
        "colab": {
          "base_uri": "https://localhost:8080/"
        },
        "id": "VzeVHhUtx-F6",
        "outputId": "7e8e67b8-6676-4f73-ead7-fc9b1975a20c"
      },
      "execution_count": null,
      "outputs": [
        {
          "output_type": "execute_result",
          "data": {
            "text/plain": [
              "(22299, 131732)"
            ]
          },
          "metadata": {},
          "execution_count": 99
        }
      ]
    },
    {
      "cell_type": "code",
      "source": [
        "model_cbow.wv.most_similar('hi', topn=10) "
      ],
      "metadata": {
        "colab": {
          "base_uri": "https://localhost:8080/"
        },
        "id": "5b344OICyN0p",
        "outputId": "f4d9dacc-9991-4af5-eeea-e03cc1b26697"
      },
      "execution_count": null,
      "outputs": [
        {
          "output_type": "execute_result",
          "data": {
            "text/plain": [
              "[('hello', 0.9365631341934204),\n",
              " ('howdy', 0.8403979539871216),\n",
              " ('hullo', 0.8282062411308289),\n",
              " ('dear', 0.7594799995422363),\n",
              " ('hawaii', 0.7438814043998718),\n",
              " (\"hawai'i\", 0.7295922040939331),\n",
              " ('hey', 0.6391687393188477),\n",
              " ('do', 0.4773690104484558),\n",
              " ('pricy', 0.47615253925323486),\n",
              " ('costly', 0.4759839177131653)]"
            ]
          },
          "metadata": {},
          "execution_count": 126
        }
      ]
    },
    {
      "cell_type": "code",
      "source": [
        "def make_feature_vec(words, model, num_features=100):\n",
        "    \"\"\"\n",
        "    Average the word vectors for a set of words\n",
        "    \"\"\"\n",
        "    feature_vec = np.zeros((num_features,),dtype=\"float32\")  # pre-initialize (for speed)\n",
        "    nwords = 0.\n",
        "    index2word_set = set(model.index2word)  # words known to the model\n",
        "\n",
        "    for word in words:\n",
        "        if word in index2word_set: \n",
        "            nwords = nwords + 1.\n",
        "            feature_vec = np.add(feature_vec,model[word])\n",
        "    \n",
        "    feature_vec = np.divide(feature_vec, nwords)\n",
        "    return feature_vec\n",
        "\n",
        "def get_avg_feature_vecs(sentences, model, num_features=100):\n",
        "    \"\"\"\n",
        "    Calculate average feature vectors for all reviews\n",
        "    \"\"\"\n",
        "    counter = 0.\n",
        "    review_feature_vecs = np.zeros((len(reviews),num_features), dtype='float32')  # pre-initialize (for speed)\n",
        "    \n",
        "    for sentence in sentences:\n",
        "        review_feature_vecs[counter] = make_feature_vec(sentence, model, num_features)\n",
        "        counter = counter + 1.\n",
        "    return review_feature_vecs"
      ],
      "metadata": {
        "id": "O7DPNGl6zV0V"
      },
      "execution_count": null,
      "outputs": []
    },
    {
      "cell_type": "markdown",
      "source": [
        "# ML MODELS******"
      ],
      "metadata": {
        "id": "q7tgFcaPDjn4"
      }
    },
    {
      "cell_type": "code",
      "source": [
        "#importing all the libraries\n",
        "import pandas as pd\n",
        "import numpy as np\n",
        "import sklearn as sk\n",
        "import matplotlib.pyplot as plt\n",
        "import seaborn as sns\n",
        "from sklearn import preprocessing\n",
        "from sklearn.feature_extraction.text import TfidfVectorizer\n",
        "\n",
        "from sklearn.model_selection import train_test_split\n",
        "from sklearn.naive_bayes import MultinomialNB\n",
        "from sklearn.linear_model import LogisticRegression\n",
        "from sklearn.ensemble import RandomForestClassifier\n",
        "from xgboost import XGBClassifier\n",
        "from sklearn.metrics import accuracy_score\n",
        "\n",
        "from sklearn.naive_bayes import GaussianNB\n",
        "from sklearn.preprocessing import MinMaxScaler, LabelEncoder\n",
        "from sklearn.feature_extraction.text import TfidfVectorizer"
      ],
      "metadata": {
        "id": "rfZI-46GOY6G"
      },
      "execution_count": null,
      "outputs": []
    },
    {
      "cell_type": "code",
      "source": [
        "res=pd.read_csv(\"result.csv\")\n",
        "res=res.sample(frac=1)"
      ],
      "metadata": {
        "id": "QMKv0Evtckvd"
      },
      "execution_count": null,
      "outputs": []
    },
    {
      "cell_type": "code",
      "source": [
        "#Converting the sentences tokens (words) and calculating idf for every word (idf assigns weight to each word based on their occurences in documents)\n",
        "tfidfvectorizer = TfidfVectorizer(analyzer='word',stop_words= 'english',min_df=20,sublinear_tf=True)\n",
        "tfidf_wm = tfidfvectorizer.fit_transform(list(res['body']))\n",
        "tfidf_tokens = tfidfvectorizer.get_feature_names()\n",
        "df_tfidfvect = pd.DataFrame(data = tfidf_wm.toarray(),index = [i for i in range(0,len(res))],columns = tfidf_tokens)"
      ],
      "metadata": {
        "colab": {
          "base_uri": "https://localhost:8080/"
        },
        "id": "P3jmxBVyMLTH",
        "outputId": "2823eab4-ae4f-4fd5-bc44-88bfa2f06846"
      },
      "execution_count": null,
      "outputs": [
        {
          "output_type": "stream",
          "name": "stderr",
          "text": [
            "/usr/local/lib/python3.7/dist-packages/sklearn/utils/deprecation.py:87: FutureWarning: Function get_feature_names is deprecated; get_feature_names is deprecated in 1.0 and will be removed in 1.2. Please use get_feature_names_out instead.\n",
            "  warnings.warn(msg, category=FutureWarning)\n"
          ]
        }
      ]
    },
    {
      "cell_type": "code",
      "source": [
        "#We will now use each word as a feature to predict our target variable (Category)\n",
        "df_tfidfvect"
      ],
      "metadata": {
        "colab": {
          "base_uri": "https://localhost:8080/",
          "height": 423
        },
        "id": "MAY0bmWLOeax",
        "outputId": "0cef6de2-3408-4f68-ae36-c05320ee936b"
      },
      "execution_count": null,
      "outputs": [
        {
          "output_type": "execute_result",
          "data": {
            "text/plain": [
              "         10  105   14   20   24   2d  2nd   34  3rd   50  ...  yes  yesterday  \\\n",
              "0       0.0  0.0  0.0  0.0  0.0  0.0  0.0  0.0  0.0  0.0  ...  0.0        0.0   \n",
              "1       0.0  0.0  0.0  0.0  0.0  0.0  0.0  0.0  0.0  0.0  ...  0.0        0.0   \n",
              "2       0.0  0.0  0.0  0.0  0.0  0.0  0.0  0.0  0.0  0.0  ...  0.0        0.0   \n",
              "3       0.0  0.0  0.0  0.0  0.0  0.0  0.0  0.0  0.0  0.0  ...  0.0        0.0   \n",
              "4       0.0  0.0  0.0  0.0  0.0  0.0  0.0  0.0  0.0  0.0  ...  0.0        0.0   \n",
              "...     ...  ...  ...  ...  ...  ...  ...  ...  ...  ...  ...  ...        ...   \n",
              "110678  0.0  0.0  0.0  0.0  0.0  0.0  0.0  0.0  0.0  0.0  ...  0.0        0.0   \n",
              "110679  0.0  0.0  0.0  0.0  0.0  0.0  0.0  0.0  0.0  0.0  ...  0.0        0.0   \n",
              "110680  0.0  0.0  0.0  0.0  0.0  0.0  0.0  0.0  0.0  0.0  ...  0.0        0.0   \n",
              "110681  0.0  0.0  0.0  0.0  0.0  0.0  0.0  0.0  0.0  0.0  ...  0.0        0.0   \n",
              "110682  0.0  0.0  0.0  0.0  0.0  0.0  0.0  0.0  0.0  0.0  ...  0.0        0.0   \n",
              "\n",
              "        yield   yr  zephyr  zero  zip  zona  zone  zones  \n",
              "0         0.0  0.0     0.0   0.0  0.0   0.0   0.0    0.0  \n",
              "1         0.0  0.0     0.0   0.0  0.0   0.0   0.0    0.0  \n",
              "2         0.0  0.0     0.0   0.0  0.0   0.0   0.0    0.0  \n",
              "3         0.0  0.0     0.0   0.0  0.0   0.0   0.0    0.0  \n",
              "4         0.0  0.0     0.0   0.0  0.0   0.0   0.0    0.0  \n",
              "...       ...  ...     ...   ...  ...   ...   ...    ...  \n",
              "110678    0.0  0.0     0.0   0.0  0.0   0.0   0.0    0.0  \n",
              "110679    0.0  0.0     0.0   0.0  0.0   0.0   0.0    0.0  \n",
              "110680    0.0  0.0     0.0   0.0  0.0   0.0   0.0    0.0  \n",
              "110681    0.0  0.0     0.0   0.0  0.0   0.0   0.0    0.0  \n",
              "110682    0.0  0.0     0.0   0.0  0.0   0.0   0.0    0.0  \n",
              "\n",
              "[110683 rows x 6365 columns]"
            ],
            "text/html": [
              "\n",
              "  <div id=\"df-abd43dcd-920f-419d-99bc-c4f895a33046\">\n",
              "    <div class=\"colab-df-container\">\n",
              "      <div>\n",
              "<style scoped>\n",
              "    .dataframe tbody tr th:only-of-type {\n",
              "        vertical-align: middle;\n",
              "    }\n",
              "\n",
              "    .dataframe tbody tr th {\n",
              "        vertical-align: top;\n",
              "    }\n",
              "\n",
              "    .dataframe thead th {\n",
              "        text-align: right;\n",
              "    }\n",
              "</style>\n",
              "<table border=\"1\" class=\"dataframe\">\n",
              "  <thead>\n",
              "    <tr style=\"text-align: right;\">\n",
              "      <th></th>\n",
              "      <th>10</th>\n",
              "      <th>105</th>\n",
              "      <th>14</th>\n",
              "      <th>20</th>\n",
              "      <th>24</th>\n",
              "      <th>2d</th>\n",
              "      <th>2nd</th>\n",
              "      <th>34</th>\n",
              "      <th>3rd</th>\n",
              "      <th>50</th>\n",
              "      <th>...</th>\n",
              "      <th>yes</th>\n",
              "      <th>yesterday</th>\n",
              "      <th>yield</th>\n",
              "      <th>yr</th>\n",
              "      <th>zephyr</th>\n",
              "      <th>zero</th>\n",
              "      <th>zip</th>\n",
              "      <th>zona</th>\n",
              "      <th>zone</th>\n",
              "      <th>zones</th>\n",
              "    </tr>\n",
              "  </thead>\n",
              "  <tbody>\n",
              "    <tr>\n",
              "      <th>0</th>\n",
              "      <td>0.0</td>\n",
              "      <td>0.0</td>\n",
              "      <td>0.0</td>\n",
              "      <td>0.0</td>\n",
              "      <td>0.0</td>\n",
              "      <td>0.0</td>\n",
              "      <td>0.0</td>\n",
              "      <td>0.0</td>\n",
              "      <td>0.0</td>\n",
              "      <td>0.0</td>\n",
              "      <td>...</td>\n",
              "      <td>0.0</td>\n",
              "      <td>0.0</td>\n",
              "      <td>0.0</td>\n",
              "      <td>0.0</td>\n",
              "      <td>0.0</td>\n",
              "      <td>0.0</td>\n",
              "      <td>0.0</td>\n",
              "      <td>0.0</td>\n",
              "      <td>0.0</td>\n",
              "      <td>0.0</td>\n",
              "    </tr>\n",
              "    <tr>\n",
              "      <th>1</th>\n",
              "      <td>0.0</td>\n",
              "      <td>0.0</td>\n",
              "      <td>0.0</td>\n",
              "      <td>0.0</td>\n",
              "      <td>0.0</td>\n",
              "      <td>0.0</td>\n",
              "      <td>0.0</td>\n",
              "      <td>0.0</td>\n",
              "      <td>0.0</td>\n",
              "      <td>0.0</td>\n",
              "      <td>...</td>\n",
              "      <td>0.0</td>\n",
              "      <td>0.0</td>\n",
              "      <td>0.0</td>\n",
              "      <td>0.0</td>\n",
              "      <td>0.0</td>\n",
              "      <td>0.0</td>\n",
              "      <td>0.0</td>\n",
              "      <td>0.0</td>\n",
              "      <td>0.0</td>\n",
              "      <td>0.0</td>\n",
              "    </tr>\n",
              "    <tr>\n",
              "      <th>2</th>\n",
              "      <td>0.0</td>\n",
              "      <td>0.0</td>\n",
              "      <td>0.0</td>\n",
              "      <td>0.0</td>\n",
              "      <td>0.0</td>\n",
              "      <td>0.0</td>\n",
              "      <td>0.0</td>\n",
              "      <td>0.0</td>\n",
              "      <td>0.0</td>\n",
              "      <td>0.0</td>\n",
              "      <td>...</td>\n",
              "      <td>0.0</td>\n",
              "      <td>0.0</td>\n",
              "      <td>0.0</td>\n",
              "      <td>0.0</td>\n",
              "      <td>0.0</td>\n",
              "      <td>0.0</td>\n",
              "      <td>0.0</td>\n",
              "      <td>0.0</td>\n",
              "      <td>0.0</td>\n",
              "      <td>0.0</td>\n",
              "    </tr>\n",
              "    <tr>\n",
              "      <th>3</th>\n",
              "      <td>0.0</td>\n",
              "      <td>0.0</td>\n",
              "      <td>0.0</td>\n",
              "      <td>0.0</td>\n",
              "      <td>0.0</td>\n",
              "      <td>0.0</td>\n",
              "      <td>0.0</td>\n",
              "      <td>0.0</td>\n",
              "      <td>0.0</td>\n",
              "      <td>0.0</td>\n",
              "      <td>...</td>\n",
              "      <td>0.0</td>\n",
              "      <td>0.0</td>\n",
              "      <td>0.0</td>\n",
              "      <td>0.0</td>\n",
              "      <td>0.0</td>\n",
              "      <td>0.0</td>\n",
              "      <td>0.0</td>\n",
              "      <td>0.0</td>\n",
              "      <td>0.0</td>\n",
              "      <td>0.0</td>\n",
              "    </tr>\n",
              "    <tr>\n",
              "      <th>4</th>\n",
              "      <td>0.0</td>\n",
              "      <td>0.0</td>\n",
              "      <td>0.0</td>\n",
              "      <td>0.0</td>\n",
              "      <td>0.0</td>\n",
              "      <td>0.0</td>\n",
              "      <td>0.0</td>\n",
              "      <td>0.0</td>\n",
              "      <td>0.0</td>\n",
              "      <td>0.0</td>\n",
              "      <td>...</td>\n",
              "      <td>0.0</td>\n",
              "      <td>0.0</td>\n",
              "      <td>0.0</td>\n",
              "      <td>0.0</td>\n",
              "      <td>0.0</td>\n",
              "      <td>0.0</td>\n",
              "      <td>0.0</td>\n",
              "      <td>0.0</td>\n",
              "      <td>0.0</td>\n",
              "      <td>0.0</td>\n",
              "    </tr>\n",
              "    <tr>\n",
              "      <th>...</th>\n",
              "      <td>...</td>\n",
              "      <td>...</td>\n",
              "      <td>...</td>\n",
              "      <td>...</td>\n",
              "      <td>...</td>\n",
              "      <td>...</td>\n",
              "      <td>...</td>\n",
              "      <td>...</td>\n",
              "      <td>...</td>\n",
              "      <td>...</td>\n",
              "      <td>...</td>\n",
              "      <td>...</td>\n",
              "      <td>...</td>\n",
              "      <td>...</td>\n",
              "      <td>...</td>\n",
              "      <td>...</td>\n",
              "      <td>...</td>\n",
              "      <td>...</td>\n",
              "      <td>...</td>\n",
              "      <td>...</td>\n",
              "      <td>...</td>\n",
              "    </tr>\n",
              "    <tr>\n",
              "      <th>110678</th>\n",
              "      <td>0.0</td>\n",
              "      <td>0.0</td>\n",
              "      <td>0.0</td>\n",
              "      <td>0.0</td>\n",
              "      <td>0.0</td>\n",
              "      <td>0.0</td>\n",
              "      <td>0.0</td>\n",
              "      <td>0.0</td>\n",
              "      <td>0.0</td>\n",
              "      <td>0.0</td>\n",
              "      <td>...</td>\n",
              "      <td>0.0</td>\n",
              "      <td>0.0</td>\n",
              "      <td>0.0</td>\n",
              "      <td>0.0</td>\n",
              "      <td>0.0</td>\n",
              "      <td>0.0</td>\n",
              "      <td>0.0</td>\n",
              "      <td>0.0</td>\n",
              "      <td>0.0</td>\n",
              "      <td>0.0</td>\n",
              "    </tr>\n",
              "    <tr>\n",
              "      <th>110679</th>\n",
              "      <td>0.0</td>\n",
              "      <td>0.0</td>\n",
              "      <td>0.0</td>\n",
              "      <td>0.0</td>\n",
              "      <td>0.0</td>\n",
              "      <td>0.0</td>\n",
              "      <td>0.0</td>\n",
              "      <td>0.0</td>\n",
              "      <td>0.0</td>\n",
              "      <td>0.0</td>\n",
              "      <td>...</td>\n",
              "      <td>0.0</td>\n",
              "      <td>0.0</td>\n",
              "      <td>0.0</td>\n",
              "      <td>0.0</td>\n",
              "      <td>0.0</td>\n",
              "      <td>0.0</td>\n",
              "      <td>0.0</td>\n",
              "      <td>0.0</td>\n",
              "      <td>0.0</td>\n",
              "      <td>0.0</td>\n",
              "    </tr>\n",
              "    <tr>\n",
              "      <th>110680</th>\n",
              "      <td>0.0</td>\n",
              "      <td>0.0</td>\n",
              "      <td>0.0</td>\n",
              "      <td>0.0</td>\n",
              "      <td>0.0</td>\n",
              "      <td>0.0</td>\n",
              "      <td>0.0</td>\n",
              "      <td>0.0</td>\n",
              "      <td>0.0</td>\n",
              "      <td>0.0</td>\n",
              "      <td>...</td>\n",
              "      <td>0.0</td>\n",
              "      <td>0.0</td>\n",
              "      <td>0.0</td>\n",
              "      <td>0.0</td>\n",
              "      <td>0.0</td>\n",
              "      <td>0.0</td>\n",
              "      <td>0.0</td>\n",
              "      <td>0.0</td>\n",
              "      <td>0.0</td>\n",
              "      <td>0.0</td>\n",
              "    </tr>\n",
              "    <tr>\n",
              "      <th>110681</th>\n",
              "      <td>0.0</td>\n",
              "      <td>0.0</td>\n",
              "      <td>0.0</td>\n",
              "      <td>0.0</td>\n",
              "      <td>0.0</td>\n",
              "      <td>0.0</td>\n",
              "      <td>0.0</td>\n",
              "      <td>0.0</td>\n",
              "      <td>0.0</td>\n",
              "      <td>0.0</td>\n",
              "      <td>...</td>\n",
              "      <td>0.0</td>\n",
              "      <td>0.0</td>\n",
              "      <td>0.0</td>\n",
              "      <td>0.0</td>\n",
              "      <td>0.0</td>\n",
              "      <td>0.0</td>\n",
              "      <td>0.0</td>\n",
              "      <td>0.0</td>\n",
              "      <td>0.0</td>\n",
              "      <td>0.0</td>\n",
              "    </tr>\n",
              "    <tr>\n",
              "      <th>110682</th>\n",
              "      <td>0.0</td>\n",
              "      <td>0.0</td>\n",
              "      <td>0.0</td>\n",
              "      <td>0.0</td>\n",
              "      <td>0.0</td>\n",
              "      <td>0.0</td>\n",
              "      <td>0.0</td>\n",
              "      <td>0.0</td>\n",
              "      <td>0.0</td>\n",
              "      <td>0.0</td>\n",
              "      <td>...</td>\n",
              "      <td>0.0</td>\n",
              "      <td>0.0</td>\n",
              "      <td>0.0</td>\n",
              "      <td>0.0</td>\n",
              "      <td>0.0</td>\n",
              "      <td>0.0</td>\n",
              "      <td>0.0</td>\n",
              "      <td>0.0</td>\n",
              "      <td>0.0</td>\n",
              "      <td>0.0</td>\n",
              "    </tr>\n",
              "  </tbody>\n",
              "</table>\n",
              "<p>110683 rows × 6365 columns</p>\n",
              "</div>\n",
              "      <button class=\"colab-df-convert\" onclick=\"convertToInteractive('df-abd43dcd-920f-419d-99bc-c4f895a33046')\"\n",
              "              title=\"Convert this dataframe to an interactive table.\"\n",
              "              style=\"display:none;\">\n",
              "        \n",
              "  <svg xmlns=\"http://www.w3.org/2000/svg\" height=\"24px\"viewBox=\"0 0 24 24\"\n",
              "       width=\"24px\">\n",
              "    <path d=\"M0 0h24v24H0V0z\" fill=\"none\"/>\n",
              "    <path d=\"M18.56 5.44l.94 2.06.94-2.06 2.06-.94-2.06-.94-.94-2.06-.94 2.06-2.06.94zm-11 1L8.5 8.5l.94-2.06 2.06-.94-2.06-.94L8.5 2.5l-.94 2.06-2.06.94zm10 10l.94 2.06.94-2.06 2.06-.94-2.06-.94-.94-2.06-.94 2.06-2.06.94z\"/><path d=\"M17.41 7.96l-1.37-1.37c-.4-.4-.92-.59-1.43-.59-.52 0-1.04.2-1.43.59L10.3 9.45l-7.72 7.72c-.78.78-.78 2.05 0 2.83L4 21.41c.39.39.9.59 1.41.59.51 0 1.02-.2 1.41-.59l7.78-7.78 2.81-2.81c.8-.78.8-2.07 0-2.86zM5.41 20L4 18.59l7.72-7.72 1.47 1.35L5.41 20z\"/>\n",
              "  </svg>\n",
              "      </button>\n",
              "      \n",
              "  <style>\n",
              "    .colab-df-container {\n",
              "      display:flex;\n",
              "      flex-wrap:wrap;\n",
              "      gap: 12px;\n",
              "    }\n",
              "\n",
              "    .colab-df-convert {\n",
              "      background-color: #E8F0FE;\n",
              "      border: none;\n",
              "      border-radius: 50%;\n",
              "      cursor: pointer;\n",
              "      display: none;\n",
              "      fill: #1967D2;\n",
              "      height: 32px;\n",
              "      padding: 0 0 0 0;\n",
              "      width: 32px;\n",
              "    }\n",
              "\n",
              "    .colab-df-convert:hover {\n",
              "      background-color: #E2EBFA;\n",
              "      box-shadow: 0px 1px 2px rgba(60, 64, 67, 0.3), 0px 1px 3px 1px rgba(60, 64, 67, 0.15);\n",
              "      fill: #174EA6;\n",
              "    }\n",
              "\n",
              "    [theme=dark] .colab-df-convert {\n",
              "      background-color: #3B4455;\n",
              "      fill: #D2E3FC;\n",
              "    }\n",
              "\n",
              "    [theme=dark] .colab-df-convert:hover {\n",
              "      background-color: #434B5C;\n",
              "      box-shadow: 0px 1px 3px 1px rgba(0, 0, 0, 0.15);\n",
              "      filter: drop-shadow(0px 1px 2px rgba(0, 0, 0, 0.3));\n",
              "      fill: #FFFFFF;\n",
              "    }\n",
              "  </style>\n",
              "\n",
              "      <script>\n",
              "        const buttonEl =\n",
              "          document.querySelector('#df-abd43dcd-920f-419d-99bc-c4f895a33046 button.colab-df-convert');\n",
              "        buttonEl.style.display =\n",
              "          google.colab.kernel.accessAllowed ? 'block' : 'none';\n",
              "\n",
              "        async function convertToInteractive(key) {\n",
              "          const element = document.querySelector('#df-abd43dcd-920f-419d-99bc-c4f895a33046');\n",
              "          const dataTable =\n",
              "            await google.colab.kernel.invokeFunction('convertToInteractive',\n",
              "                                                     [key], {});\n",
              "          if (!dataTable) return;\n",
              "\n",
              "          const docLinkHtml = 'Like what you see? Visit the ' +\n",
              "            '<a target=\"_blank\" href=https://colab.research.google.com/notebooks/data_table.ipynb>data table notebook</a>'\n",
              "            + ' to learn more about interactive tables.';\n",
              "          element.innerHTML = '';\n",
              "          dataTable['output_type'] = 'display_data';\n",
              "          await google.colab.output.renderOutput(dataTable, element);\n",
              "          const docLink = document.createElement('div');\n",
              "          docLink.innerHTML = docLinkHtml;\n",
              "          element.appendChild(docLink);\n",
              "        }\n",
              "      </script>\n",
              "    </div>\n",
              "  </div>\n",
              "  "
            ]
          },
          "metadata": {},
          "execution_count": 4
        }
      ]
    },
    {
      "cell_type": "code",
      "source": [
        "y=res['category']"
      ],
      "metadata": {
        "id": "dh0CjldedRdx"
      },
      "execution_count": null,
      "outputs": []
    },
    {
      "cell_type": "code",
      "source": [
        "X_train = df_tfidfvect[:int(len(res)*.8)]\n",
        "y_train = y[:int(len(res)*.8)]\n",
        "X_test = df_tfidfvect[int(len(res)*.8):]\n",
        "y_test = y[int(len(res)*.8):]"
      ],
      "metadata": {
        "id": "7y3UIAfedDYR"
      },
      "execution_count": null,
      "outputs": []
    },
    {
      "cell_type": "markdown",
      "source": [
        "Logistic Regression"
      ],
      "metadata": {
        "id": "dyIYj8TXeXqB"
      }
    },
    {
      "cell_type": "code",
      "source": [
        "# Logistic Regression\n",
        "C= [0.01,0.1,1]         #Regularixation parameter\n",
        "for i in C:\n",
        "  lr_clf=LogisticRegression(C=i)\n",
        "  #Fitting the model\n",
        "  lr_clf.fit(X_train,y_train)\n",
        "  #predicting target variable for train and test data\n",
        "  y_train_pred=lr_clf.predict(X_train)\n",
        "  y_valid_pred=lr_clf.predict(X_test)\n",
        "  #Finding train and test accuracy\n",
        "  accuracy1=accuracy_score(y_train, y_train_pred)\n",
        "  accuracy2=accuracy_score(y_test, y_valid_pred)\n",
        "  print(\"For hyp=(C={}), Training accuracy of Logistic Regression: {}%\\n Test Accuracy of Logistic Regression:{}%\\n\".format(i,accuracy1*100,accuracy2*100))"
      ],
      "metadata": {
        "colab": {
          "base_uri": "https://localhost:8080/",
          "height": 381
        },
        "id": "sFNxHRBdeLAX",
        "outputId": "3bd9b546-4ee4-4dfc-b25c-8e9b88251b64"
      },
      "execution_count": null,
      "outputs": [
        {
          "output_type": "error",
          "ename": "ValueError",
          "evalue": "ignored",
          "traceback": [
            "\u001b[0;31m---------------------------------------------------------------------------\u001b[0m",
            "\u001b[0;31mValueError\u001b[0m                                Traceback (most recent call last)",
            "\u001b[0;32m<ipython-input-7-346e38de213f>\u001b[0m in \u001b[0;36m<module>\u001b[0;34m()\u001b[0m\n\u001b[1;32m     10\u001b[0m   \u001b[0;31m#Finding train and test accuracy\u001b[0m\u001b[0;34m\u001b[0m\u001b[0;34m\u001b[0m\u001b[0;34m\u001b[0m\u001b[0m\n\u001b[1;32m     11\u001b[0m   \u001b[0maccuracy1\u001b[0m\u001b[0;34m=\u001b[0m\u001b[0maccuracy_score\u001b[0m\u001b[0;34m(\u001b[0m\u001b[0my_train\u001b[0m\u001b[0;34m,\u001b[0m \u001b[0my_train_pred\u001b[0m\u001b[0;34m)\u001b[0m\u001b[0;34m\u001b[0m\u001b[0;34m\u001b[0m\u001b[0m\n\u001b[0;32m---> 12\u001b[0;31m   \u001b[0maccuracy2\u001b[0m\u001b[0;34m=\u001b[0m\u001b[0maccuracy_score\u001b[0m\u001b[0;34m(\u001b[0m\u001b[0my_test\u001b[0m\u001b[0;34m,\u001b[0m \u001b[0my_valid_pred\u001b[0m\u001b[0;34m)\u001b[0m\u001b[0;34m\u001b[0m\u001b[0;34m\u001b[0m\u001b[0m\n\u001b[0m\u001b[1;32m     13\u001b[0m   \u001b[0mprint\u001b[0m\u001b[0;34m(\u001b[0m\u001b[0;34m\"For hyp=(C={}), Training accuracy of Logistic Regression: {}%\\n Test Accuracy of Logistic Regression:{}%\\n\"\u001b[0m\u001b[0;34m.\u001b[0m\u001b[0mformat\u001b[0m\u001b[0;34m(\u001b[0m\u001b[0mi\u001b[0m\u001b[0;34m,\u001b[0m\u001b[0maccuracy1\u001b[0m\u001b[0;34m*\u001b[0m\u001b[0;36m100\u001b[0m\u001b[0;34m,\u001b[0m\u001b[0maccuracy2\u001b[0m\u001b[0;34m*\u001b[0m\u001b[0;36m100\u001b[0m\u001b[0;34m)\u001b[0m\u001b[0;34m)\u001b[0m\u001b[0;34m\u001b[0m\u001b[0;34m\u001b[0m\u001b[0m\n",
            "\u001b[0;32m/usr/local/lib/python3.7/dist-packages/sklearn/metrics/_classification.py\u001b[0m in \u001b[0;36maccuracy_score\u001b[0;34m(y_true, y_pred, normalize, sample_weight)\u001b[0m\n\u001b[1;32m    209\u001b[0m \u001b[0;34m\u001b[0m\u001b[0m\n\u001b[1;32m    210\u001b[0m     \u001b[0;31m# Compute accuracy for each possible representation\u001b[0m\u001b[0;34m\u001b[0m\u001b[0;34m\u001b[0m\u001b[0;34m\u001b[0m\u001b[0m\n\u001b[0;32m--> 211\u001b[0;31m     \u001b[0my_type\u001b[0m\u001b[0;34m,\u001b[0m \u001b[0my_true\u001b[0m\u001b[0;34m,\u001b[0m \u001b[0my_pred\u001b[0m \u001b[0;34m=\u001b[0m \u001b[0m_check_targets\u001b[0m\u001b[0;34m(\u001b[0m\u001b[0my_true\u001b[0m\u001b[0;34m,\u001b[0m \u001b[0my_pred\u001b[0m\u001b[0;34m)\u001b[0m\u001b[0;34m\u001b[0m\u001b[0;34m\u001b[0m\u001b[0m\n\u001b[0m\u001b[1;32m    212\u001b[0m     \u001b[0mcheck_consistent_length\u001b[0m\u001b[0;34m(\u001b[0m\u001b[0my_true\u001b[0m\u001b[0;34m,\u001b[0m \u001b[0my_pred\u001b[0m\u001b[0;34m,\u001b[0m \u001b[0msample_weight\u001b[0m\u001b[0;34m)\u001b[0m\u001b[0;34m\u001b[0m\u001b[0;34m\u001b[0m\u001b[0m\n\u001b[1;32m    213\u001b[0m     \u001b[0;32mif\u001b[0m \u001b[0my_type\u001b[0m\u001b[0;34m.\u001b[0m\u001b[0mstartswith\u001b[0m\u001b[0;34m(\u001b[0m\u001b[0;34m\"multilabel\"\u001b[0m\u001b[0;34m)\u001b[0m\u001b[0;34m:\u001b[0m\u001b[0;34m\u001b[0m\u001b[0;34m\u001b[0m\u001b[0m\n",
            "\u001b[0;32m/usr/local/lib/python3.7/dist-packages/sklearn/metrics/_classification.py\u001b[0m in \u001b[0;36m_check_targets\u001b[0;34m(y_true, y_pred)\u001b[0m\n\u001b[1;32m     83\u001b[0m     \"\"\"\n\u001b[1;32m     84\u001b[0m     \u001b[0mcheck_consistent_length\u001b[0m\u001b[0;34m(\u001b[0m\u001b[0my_true\u001b[0m\u001b[0;34m,\u001b[0m \u001b[0my_pred\u001b[0m\u001b[0;34m)\u001b[0m\u001b[0;34m\u001b[0m\u001b[0;34m\u001b[0m\u001b[0m\n\u001b[0;32m---> 85\u001b[0;31m     \u001b[0mtype_true\u001b[0m \u001b[0;34m=\u001b[0m \u001b[0mtype_of_target\u001b[0m\u001b[0;34m(\u001b[0m\u001b[0my_true\u001b[0m\u001b[0;34m)\u001b[0m\u001b[0;34m\u001b[0m\u001b[0;34m\u001b[0m\u001b[0m\n\u001b[0m\u001b[1;32m     86\u001b[0m     \u001b[0mtype_pred\u001b[0m \u001b[0;34m=\u001b[0m \u001b[0mtype_of_target\u001b[0m\u001b[0;34m(\u001b[0m\u001b[0my_pred\u001b[0m\u001b[0;34m)\u001b[0m\u001b[0;34m\u001b[0m\u001b[0;34m\u001b[0m\u001b[0m\n\u001b[1;32m     87\u001b[0m \u001b[0;34m\u001b[0m\u001b[0m\n",
            "\u001b[0;32m/usr/local/lib/python3.7/dist-packages/sklearn/utils/multiclass.py\u001b[0m in \u001b[0;36mtype_of_target\u001b[0;34m(y)\u001b[0m\n\u001b[1;32m    322\u001b[0m     \u001b[0;32mif\u001b[0m \u001b[0my\u001b[0m\u001b[0;34m.\u001b[0m\u001b[0mdtype\u001b[0m\u001b[0;34m.\u001b[0m\u001b[0mkind\u001b[0m \u001b[0;34m==\u001b[0m \u001b[0;34m\"f\"\u001b[0m \u001b[0;32mand\u001b[0m \u001b[0mnp\u001b[0m\u001b[0;34m.\u001b[0m\u001b[0many\u001b[0m\u001b[0;34m(\u001b[0m\u001b[0my\u001b[0m \u001b[0;34m!=\u001b[0m \u001b[0my\u001b[0m\u001b[0;34m.\u001b[0m\u001b[0mastype\u001b[0m\u001b[0;34m(\u001b[0m\u001b[0mint\u001b[0m\u001b[0;34m)\u001b[0m\u001b[0;34m)\u001b[0m\u001b[0;34m:\u001b[0m\u001b[0;34m\u001b[0m\u001b[0;34m\u001b[0m\u001b[0m\n\u001b[1;32m    323\u001b[0m         \u001b[0;31m# [.1, .2, 3] or [[.1, .2, 3]] or [[1., .2]] and not [1., 2., 3.]\u001b[0m\u001b[0;34m\u001b[0m\u001b[0;34m\u001b[0m\u001b[0;34m\u001b[0m\u001b[0m\n\u001b[0;32m--> 324\u001b[0;31m         \u001b[0m_assert_all_finite\u001b[0m\u001b[0;34m(\u001b[0m\u001b[0my\u001b[0m\u001b[0;34m)\u001b[0m\u001b[0;34m\u001b[0m\u001b[0;34m\u001b[0m\u001b[0m\n\u001b[0m\u001b[1;32m    325\u001b[0m         \u001b[0;32mreturn\u001b[0m \u001b[0;34m\"continuous\"\u001b[0m \u001b[0;34m+\u001b[0m \u001b[0msuffix\u001b[0m\u001b[0;34m\u001b[0m\u001b[0;34m\u001b[0m\u001b[0m\n\u001b[1;32m    326\u001b[0m \u001b[0;34m\u001b[0m\u001b[0m\n",
            "\u001b[0;32m/usr/local/lib/python3.7/dist-packages/sklearn/utils/validation.py\u001b[0m in \u001b[0;36m_assert_all_finite\u001b[0;34m(X, allow_nan, msg_dtype)\u001b[0m\n\u001b[1;32m    114\u001b[0m             raise ValueError(\n\u001b[1;32m    115\u001b[0m                 msg_err.format(\n\u001b[0;32m--> 116\u001b[0;31m                     \u001b[0mtype_err\u001b[0m\u001b[0;34m,\u001b[0m \u001b[0mmsg_dtype\u001b[0m \u001b[0;32mif\u001b[0m \u001b[0mmsg_dtype\u001b[0m \u001b[0;32mis\u001b[0m \u001b[0;32mnot\u001b[0m \u001b[0;32mNone\u001b[0m \u001b[0;32melse\u001b[0m \u001b[0mX\u001b[0m\u001b[0;34m.\u001b[0m\u001b[0mdtype\u001b[0m\u001b[0;34m\u001b[0m\u001b[0;34m\u001b[0m\u001b[0m\n\u001b[0m\u001b[1;32m    117\u001b[0m                 )\n\u001b[1;32m    118\u001b[0m             )\n",
            "\u001b[0;31mValueError\u001b[0m: Input contains NaN, infinity or a value too large for dtype('float64')."
          ]
        }
      ]
    },
    {
      "cell_type": "code",
      "source": [
        "sum(y_test.isna())"
      ],
      "metadata": {
        "colab": {
          "base_uri": "https://localhost:8080/"
        },
        "id": "uTYwqI5fo3sV",
        "outputId": "650a0598-65be-4cc9-c015-aabde3b3803b"
      },
      "execution_count": null,
      "outputs": [
        {
          "output_type": "execute_result",
          "data": {
            "text/plain": [
              "1"
            ]
          },
          "metadata": {},
          "execution_count": 20
        }
      ]
    },
    {
      "cell_type": "markdown",
      "source": [
        "Random Forests"
      ],
      "metadata": {
        "id": "Aq6T5siPekSm"
      }
    },
    {
      "cell_type": "code",
      "source": [
        "# Random Forests \n",
        "n=[100,200,300,400]             # no. of estimators (trees)\n",
        "criterion=[\"gini\", \"entropy\"]   #Information criterion\n",
        "for i in criterion:\n",
        "  for j in n:\n",
        "    rf_clf = RandomForestClassifier(n_estimators=j, criterion=i)\n",
        "    #Fitting the model\n",
        "    rf_clf.fit(X_train, y_train)\n",
        "    #predicting target variable for train and test data\n",
        "    y_train_pred = rf_clf.predict(X_train)\n",
        "    y_test_pred = rf_clf.predict(X_test)\n",
        "    #Finding train and test accuracy\n",
        "    accuracy1=accuracy_score(y_train, y_train_pred)\n",
        "    accuracy2=accuracy_score(y_test, y_test_pred)\n",
        "    print(\"For hyp(n={}, C={}) - Training accuracy of Random Forests: {}%\\n Test Accuracy of Random Forests :{}%\\n\".format(j, i, accuracy1*100,accuracy2*100))"
      ],
      "metadata": {
        "id": "AbFvZz3nejwN"
      },
      "execution_count": null,
      "outputs": []
    },
    {
      "cell_type": "markdown",
      "source": [
        "SVM"
      ],
      "metadata": {
        "id": "ouSYSlGaD5Fe"
      }
    },
    {
      "cell_type": "code",
      "source": [
        "#SVC\n",
        "from sklearn import svm\n",
        "kernels = ['linear', 'rbf', 'poly'] #type of kernel\n",
        "cs = [0.01,0.1]                     # Regularization parameter\n",
        "gammas = [0.1, 0.01]                # Kernel Coefficient\n",
        "for gamma in gammas:\n",
        "  for c in cs:\n",
        "    for kernel in kernels:\n",
        "      #Fitting the model\n",
        "      svc = svm.SVC(kernel=kernel, gamma=gamma, C=c).fit(X_train, y_train)\n",
        "      #predicting target variable for train and test data\n",
        "      y_train_pred=svc.predict(X_train)\n",
        "      y_valid_pred=svc.predict(X_test)\n",
        "      #Finding train and test accuracy\n",
        "      accuracy1=accuracy_score(y_train, y_train_pred)\n",
        "      accuracy2=accuracy_score(y_test, y_valid_pred)\n",
        "      print(\"Training accuracy of SVC(K={}, G={}, C={}): {}%\\n Test Accuracy of SVC(K={}, G={}, C={}): {}%\\n\".format(kernel, gamma, c, accuracy1*100, kernel,c, gamma,accuracy2*100))"
      ],
      "metadata": {
        "id": "IM1S9bVYDyhV"
      },
      "execution_count": null,
      "outputs": []
    },
    {
      "cell_type": "markdown",
      "source": [
        "XG Boost"
      ],
      "metadata": {
        "id": "__2dZzF7gJMp"
      }
    },
    {
      "cell_type": "code",
      "source": [
        "# Normalizing the data for XGB CLassifier\n",
        "\n",
        "scaler = MinMaxScaler()\n",
        "X_train = scaler.fit_transform(X_train)\n",
        "X_test = scaler.transform(X_test)\n",
        "X_train = np.array(X_train).astype(np.float32)\n",
        "X_test = np.array(X_test).astype(np.float32)\n",
        "y_train = np.array(y_train).astype(np.float32)\n",
        "y_test = np.array(y_test).astype(np.float32)"
      ],
      "metadata": {
        "id": "X4NTy93seM8H"
      },
      "execution_count": null,
      "outputs": []
    },
    {
      "cell_type": "code",
      "source": [
        "# XG boost\n",
        "xgb_clf = XGBClassifier(use_label_encoder=False)\n",
        "#Fitting the model\n",
        "xgb_clf.fit(X_train, y_train)\n",
        "#predicting target variable for train and test data\n",
        "y_train_pred = xgb_clf.predict(X_train)\n",
        "y_test_pred = xgb_clf.predict(X_test)\n",
        "#Finding train and test accuracy\n",
        "accuracy1=accuracy_score(y_train, y_train_pred)\n",
        "accuracy2=accuracy_score(y_test, y_test_pred)\n",
        "print(\"Training accuracy of XGB: {}%\\n Test Accuracy of XGB:{}%\".format(accuracy1*100,accuracy2*100))"
      ],
      "metadata": {
        "id": "LdpJarGpgL5x"
      },
      "execution_count": null,
      "outputs": []
    }
  ],
  "metadata": {
    "accelerator": "GPU",
    "colab": {
      "name": "Atharva- nlp project",
      "provenance": [],
      "collapsed_sections": []
    },
    "kernelspec": {
      "display_name": "Python 3",
      "name": "python3"
    },
    "language_info": {
      "name": "python"
    }
  },
  "nbformat": 4,
  "nbformat_minor": 0
}